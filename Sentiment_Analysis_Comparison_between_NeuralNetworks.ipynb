{
  "cells": [
    {
      "cell_type": "markdown",
      "metadata": {
        "id": "view-in-github",
        "colab_type": "text"
      },
      "source": [
        "<a href=\"https://colab.research.google.com/github/RenanNB360/Sentiment-Analysis_com_BERT-LSTM-FFNN/blob/main/Sentiment_Analysis_Comparison_between_NeuralNetworks.ipynb\" target=\"_parent\"><img src=\"https://colab.research.google.com/assets/colab-badge.svg\" alt=\"Open In Colab\"/></a>"
      ]
    },
    {
      "cell_type": "markdown",
      "id": "c7003bad-588b-40a8-901f-f3a8a52cd69f",
      "metadata": {
        "id": "c7003bad-588b-40a8-901f-f3a8a52cd69f"
      },
      "source": [
        "### Importações"
      ]
    },
    {
      "cell_type": "code",
      "execution_count": 1,
      "id": "1ed208c9-bd14-4520-8308-bb94cfb45242",
      "metadata": {
        "colab": {
          "base_uri": "https://localhost:8080/"
        },
        "id": "1ed208c9-bd14-4520-8308-bb94cfb45242",
        "outputId": "78af02ee-0d4b-432c-b9be-27adfa80d80f"
      },
      "outputs": [
        {
          "output_type": "stream",
          "name": "stdout",
          "text": [
            "env: TF_CPP_MIN_LOG_LEVEL=3\n"
          ]
        }
      ],
      "source": [
        "%env TF_CPP_MIN_LOG_LEVEL=3"
      ]
    },
    {
      "cell_type": "code",
      "execution_count": 151,
      "id": "9c018d88-4432-4af2-9fb0-467a4d95c53e",
      "metadata": {
        "id": "9c018d88-4432-4af2-9fb0-467a4d95c53e"
      },
      "outputs": [],
      "source": [
        "import os\n",
        "import math\n",
        "import nltk\n",
        "import spacy\n",
        "import numpy as np\n",
        "import pandas as pd\n",
        "import seaborn as sns\n",
        "import tensorflow as tf\n",
        "import matplotlib.pyplot as plt\n",
        "import transformers\n",
        "from transformers import TFDistilBertModel\n",
        "from tokenizers import BertWordPieceTokenizer\n",
        "from tqdm import tqdm\n",
        "from nltk.corpus import stopwords\n",
        "from sklearn.preprocessing import LabelEncoder\n",
        "from sklearn.feature_extraction.text import TfidfVectorizer\n",
        "from sklearn.model_selection import train_test_split\n",
        "from sklearn.utils.class_weight import compute_class_weight\n",
        "from sklearn.metrics import confusion_matrix, accuracy_score, classification_report\n",
        "from tensorflow import keras\n",
        "from tensorflow.keras.models import load_model\n",
        "from tensorflow.keras.utils import to_categorical, custom_object_scope\n",
        "from tensorflow.keras import Sequential\n",
        "from keras.preprocessing.text import Tokenizer\n",
        "from keras.metrics import Precision, Recall, AUC\n",
        "from tensorflow.keras.preprocessing.sequence import pad_sequences\n",
        "from keras.layers import Embedding, LSTM, Dense, Dropout, Bidirectional\n",
        "from keras.callbacks import EarlyStopping, LearningRateScheduler, CallbackList, ReduceLROnPlateau\n",
        "from tensorflow.keras.optimizers import Adam\n",
        "from google.colab import drive"
      ]
    },
    {
      "cell_type": "code",
      "source": [
        "drive.mount('/content/drive')"
      ],
      "metadata": {
        "colab": {
          "base_uri": "https://localhost:8080/"
        },
        "id": "2d9wDj4ZMHWi",
        "outputId": "e0540c14-fbb7-4ddd-ab64-f24eda416b55"
      },
      "id": "2d9wDj4ZMHWi",
      "execution_count": 3,
      "outputs": [
        {
          "output_type": "stream",
          "name": "stdout",
          "text": [
            "Mounted at /content/drive\n"
          ]
        }
      ]
    },
    {
      "cell_type": "code",
      "execution_count": 4,
      "id": "ed35e5c0-2824-4884-9e3f-c1ade1551242",
      "metadata": {
        "id": "ed35e5c0-2824-4884-9e3f-c1ade1551242"
      },
      "outputs": [],
      "source": [
        "dados_treino = pd.read_csv('/content/drive/MyDrive/DSA_RedeNeurasicomPythoneC++_1/Python/arquivos/dados_treino.txt', header = None, delimiter = ';')"
      ]
    },
    {
      "cell_type": "code",
      "execution_count": 5,
      "id": "2ff42de6-3569-4842-949c-8000e17d05f3",
      "metadata": {
        "id": "2ff42de6-3569-4842-949c-8000e17d05f3"
      },
      "outputs": [],
      "source": [
        "dados_teste = pd.read_csv('/content/drive/MyDrive/DSA_RedeNeurasicomPythoneC++_1/Python/arquivos/dados_teste.txt', header = None, delimiter = ';')"
      ]
    },
    {
      "cell_type": "code",
      "execution_count": 6,
      "id": "9a6ae3f1-44ae-4d54-a30c-9ea8bf16c43a",
      "metadata": {
        "id": "9a6ae3f1-44ae-4d54-a30c-9ea8bf16c43a"
      },
      "outputs": [],
      "source": [
        "dados_treino = dados_treino.rename(columns = {0: 'text', 1: 'sentimento'})\n",
        "dados_teste = dados_teste.rename(columns = {0: 'text', 1: 'sentimento'})"
      ]
    },
    {
      "cell_type": "code",
      "execution_count": 7,
      "id": "be9752d3-4bbf-4eb1-b4fd-0745577e981c",
      "metadata": {
        "colab": {
          "base_uri": "https://localhost:8080/"
        },
        "id": "be9752d3-4bbf-4eb1-b4fd-0745577e981c",
        "outputId": "5f692a45-2299-4af7-c8e9-d4f9c1341414"
      },
      "outputs": [
        {
          "output_type": "execute_result",
          "data": {
            "text/plain": [
              "(16000, 2)"
            ]
          },
          "metadata": {},
          "execution_count": 7
        }
      ],
      "source": [
        "dados_treino.shape"
      ]
    },
    {
      "cell_type": "code",
      "execution_count": 8,
      "id": "07b6ea15-2a5d-492c-8e9e-905eafc92d80",
      "metadata": {
        "colab": {
          "base_uri": "https://localhost:8080/"
        },
        "id": "07b6ea15-2a5d-492c-8e9e-905eafc92d80",
        "outputId": "f69e6cc7-03da-4179-c406-f4c42cb30531"
      },
      "outputs": [
        {
          "output_type": "execute_result",
          "data": {
            "text/plain": [
              "(2000, 2)"
            ]
          },
          "metadata": {},
          "execution_count": 8
        }
      ],
      "source": [
        "dados_teste.shape"
      ]
    },
    {
      "cell_type": "code",
      "execution_count": 9,
      "id": "297a063d-f799-4484-b010-50c953eae252",
      "metadata": {
        "colab": {
          "base_uri": "https://localhost:8080/",
          "height": 206
        },
        "id": "297a063d-f799-4484-b010-50c953eae252",
        "outputId": "39c30ade-1049-4ec0-9832-301d118283a7"
      },
      "outputs": [
        {
          "output_type": "execute_result",
          "data": {
            "text/plain": [
              "                                                text sentimento\n",
              "0  i am feeling completely overwhelmed i have two...       fear\n",
              "1    i have the feeling she was amused and delighted        joy\n",
              "2  i was able to help chai lifeline with your sup...        joy\n",
              "3  i already feel like i fucked up though because...      anger\n",
              "4  i still love my so and wish the best for him i...    sadness"
            ],
            "text/html": [
              "\n",
              "  <div id=\"df-e3b88e7d-0e1c-41b2-b24e-f85cde3de5ae\" class=\"colab-df-container\">\n",
              "    <div>\n",
              "<style scoped>\n",
              "    .dataframe tbody tr th:only-of-type {\n",
              "        vertical-align: middle;\n",
              "    }\n",
              "\n",
              "    .dataframe tbody tr th {\n",
              "        vertical-align: top;\n",
              "    }\n",
              "\n",
              "    .dataframe thead th {\n",
              "        text-align: right;\n",
              "    }\n",
              "</style>\n",
              "<table border=\"1\" class=\"dataframe\">\n",
              "  <thead>\n",
              "    <tr style=\"text-align: right;\">\n",
              "      <th></th>\n",
              "      <th>text</th>\n",
              "      <th>sentimento</th>\n",
              "    </tr>\n",
              "  </thead>\n",
              "  <tbody>\n",
              "    <tr>\n",
              "      <th>0</th>\n",
              "      <td>i am feeling completely overwhelmed i have two...</td>\n",
              "      <td>fear</td>\n",
              "    </tr>\n",
              "    <tr>\n",
              "      <th>1</th>\n",
              "      <td>i have the feeling she was amused and delighted</td>\n",
              "      <td>joy</td>\n",
              "    </tr>\n",
              "    <tr>\n",
              "      <th>2</th>\n",
              "      <td>i was able to help chai lifeline with your sup...</td>\n",
              "      <td>joy</td>\n",
              "    </tr>\n",
              "    <tr>\n",
              "      <th>3</th>\n",
              "      <td>i already feel like i fucked up though because...</td>\n",
              "      <td>anger</td>\n",
              "    </tr>\n",
              "    <tr>\n",
              "      <th>4</th>\n",
              "      <td>i still love my so and wish the best for him i...</td>\n",
              "      <td>sadness</td>\n",
              "    </tr>\n",
              "  </tbody>\n",
              "</table>\n",
              "</div>\n",
              "    <div class=\"colab-df-buttons\">\n",
              "\n",
              "  <div class=\"colab-df-container\">\n",
              "    <button class=\"colab-df-convert\" onclick=\"convertToInteractive('df-e3b88e7d-0e1c-41b2-b24e-f85cde3de5ae')\"\n",
              "            title=\"Convert this dataframe to an interactive table.\"\n",
              "            style=\"display:none;\">\n",
              "\n",
              "  <svg xmlns=\"http://www.w3.org/2000/svg\" height=\"24px\" viewBox=\"0 -960 960 960\">\n",
              "    <path d=\"M120-120v-720h720v720H120Zm60-500h600v-160H180v160Zm220 220h160v-160H400v160Zm0 220h160v-160H400v160ZM180-400h160v-160H180v160Zm440 0h160v-160H620v160ZM180-180h160v-160H180v160Zm440 0h160v-160H620v160Z\"/>\n",
              "  </svg>\n",
              "    </button>\n",
              "\n",
              "  <style>\n",
              "    .colab-df-container {\n",
              "      display:flex;\n",
              "      gap: 12px;\n",
              "    }\n",
              "\n",
              "    .colab-df-convert {\n",
              "      background-color: #E8F0FE;\n",
              "      border: none;\n",
              "      border-radius: 50%;\n",
              "      cursor: pointer;\n",
              "      display: none;\n",
              "      fill: #1967D2;\n",
              "      height: 32px;\n",
              "      padding: 0 0 0 0;\n",
              "      width: 32px;\n",
              "    }\n",
              "\n",
              "    .colab-df-convert:hover {\n",
              "      background-color: #E2EBFA;\n",
              "      box-shadow: 0px 1px 2px rgba(60, 64, 67, 0.3), 0px 1px 3px 1px rgba(60, 64, 67, 0.15);\n",
              "      fill: #174EA6;\n",
              "    }\n",
              "\n",
              "    .colab-df-buttons div {\n",
              "      margin-bottom: 4px;\n",
              "    }\n",
              "\n",
              "    [theme=dark] .colab-df-convert {\n",
              "      background-color: #3B4455;\n",
              "      fill: #D2E3FC;\n",
              "    }\n",
              "\n",
              "    [theme=dark] .colab-df-convert:hover {\n",
              "      background-color: #434B5C;\n",
              "      box-shadow: 0px 1px 3px 1px rgba(0, 0, 0, 0.15);\n",
              "      filter: drop-shadow(0px 1px 2px rgba(0, 0, 0, 0.3));\n",
              "      fill: #FFFFFF;\n",
              "    }\n",
              "  </style>\n",
              "\n",
              "    <script>\n",
              "      const buttonEl =\n",
              "        document.querySelector('#df-e3b88e7d-0e1c-41b2-b24e-f85cde3de5ae button.colab-df-convert');\n",
              "      buttonEl.style.display =\n",
              "        google.colab.kernel.accessAllowed ? 'block' : 'none';\n",
              "\n",
              "      async function convertToInteractive(key) {\n",
              "        const element = document.querySelector('#df-e3b88e7d-0e1c-41b2-b24e-f85cde3de5ae');\n",
              "        const dataTable =\n",
              "          await google.colab.kernel.invokeFunction('convertToInteractive',\n",
              "                                                    [key], {});\n",
              "        if (!dataTable) return;\n",
              "\n",
              "        const docLinkHtml = 'Like what you see? Visit the ' +\n",
              "          '<a target=\"_blank\" href=https://colab.research.google.com/notebooks/data_table.ipynb>data table notebook</a>'\n",
              "          + ' to learn more about interactive tables.';\n",
              "        element.innerHTML = '';\n",
              "        dataTable['output_type'] = 'display_data';\n",
              "        await google.colab.output.renderOutput(dataTable, element);\n",
              "        const docLink = document.createElement('div');\n",
              "        docLink.innerHTML = docLinkHtml;\n",
              "        element.appendChild(docLink);\n",
              "      }\n",
              "    </script>\n",
              "  </div>\n",
              "\n",
              "\n",
              "<div id=\"df-b9141266-0151-4295-99e7-a9d54b01be34\">\n",
              "  <button class=\"colab-df-quickchart\" onclick=\"quickchart('df-b9141266-0151-4295-99e7-a9d54b01be34')\"\n",
              "            title=\"Suggest charts\"\n",
              "            style=\"display:none;\">\n",
              "\n",
              "<svg xmlns=\"http://www.w3.org/2000/svg\" height=\"24px\"viewBox=\"0 0 24 24\"\n",
              "     width=\"24px\">\n",
              "    <g>\n",
              "        <path d=\"M19 3H5c-1.1 0-2 .9-2 2v14c0 1.1.9 2 2 2h14c1.1 0 2-.9 2-2V5c0-1.1-.9-2-2-2zM9 17H7v-7h2v7zm4 0h-2V7h2v10zm4 0h-2v-4h2v4z\"/>\n",
              "    </g>\n",
              "</svg>\n",
              "  </button>\n",
              "\n",
              "<style>\n",
              "  .colab-df-quickchart {\n",
              "      --bg-color: #E8F0FE;\n",
              "      --fill-color: #1967D2;\n",
              "      --hover-bg-color: #E2EBFA;\n",
              "      --hover-fill-color: #174EA6;\n",
              "      --disabled-fill-color: #AAA;\n",
              "      --disabled-bg-color: #DDD;\n",
              "  }\n",
              "\n",
              "  [theme=dark] .colab-df-quickchart {\n",
              "      --bg-color: #3B4455;\n",
              "      --fill-color: #D2E3FC;\n",
              "      --hover-bg-color: #434B5C;\n",
              "      --hover-fill-color: #FFFFFF;\n",
              "      --disabled-bg-color: #3B4455;\n",
              "      --disabled-fill-color: #666;\n",
              "  }\n",
              "\n",
              "  .colab-df-quickchart {\n",
              "    background-color: var(--bg-color);\n",
              "    border: none;\n",
              "    border-radius: 50%;\n",
              "    cursor: pointer;\n",
              "    display: none;\n",
              "    fill: var(--fill-color);\n",
              "    height: 32px;\n",
              "    padding: 0;\n",
              "    width: 32px;\n",
              "  }\n",
              "\n",
              "  .colab-df-quickchart:hover {\n",
              "    background-color: var(--hover-bg-color);\n",
              "    box-shadow: 0 1px 2px rgba(60, 64, 67, 0.3), 0 1px 3px 1px rgba(60, 64, 67, 0.15);\n",
              "    fill: var(--button-hover-fill-color);\n",
              "  }\n",
              "\n",
              "  .colab-df-quickchart-complete:disabled,\n",
              "  .colab-df-quickchart-complete:disabled:hover {\n",
              "    background-color: var(--disabled-bg-color);\n",
              "    fill: var(--disabled-fill-color);\n",
              "    box-shadow: none;\n",
              "  }\n",
              "\n",
              "  .colab-df-spinner {\n",
              "    border: 2px solid var(--fill-color);\n",
              "    border-color: transparent;\n",
              "    border-bottom-color: var(--fill-color);\n",
              "    animation:\n",
              "      spin 1s steps(1) infinite;\n",
              "  }\n",
              "\n",
              "  @keyframes spin {\n",
              "    0% {\n",
              "      border-color: transparent;\n",
              "      border-bottom-color: var(--fill-color);\n",
              "      border-left-color: var(--fill-color);\n",
              "    }\n",
              "    20% {\n",
              "      border-color: transparent;\n",
              "      border-left-color: var(--fill-color);\n",
              "      border-top-color: var(--fill-color);\n",
              "    }\n",
              "    30% {\n",
              "      border-color: transparent;\n",
              "      border-left-color: var(--fill-color);\n",
              "      border-top-color: var(--fill-color);\n",
              "      border-right-color: var(--fill-color);\n",
              "    }\n",
              "    40% {\n",
              "      border-color: transparent;\n",
              "      border-right-color: var(--fill-color);\n",
              "      border-top-color: var(--fill-color);\n",
              "    }\n",
              "    60% {\n",
              "      border-color: transparent;\n",
              "      border-right-color: var(--fill-color);\n",
              "    }\n",
              "    80% {\n",
              "      border-color: transparent;\n",
              "      border-right-color: var(--fill-color);\n",
              "      border-bottom-color: var(--fill-color);\n",
              "    }\n",
              "    90% {\n",
              "      border-color: transparent;\n",
              "      border-bottom-color: var(--fill-color);\n",
              "    }\n",
              "  }\n",
              "</style>\n",
              "\n",
              "  <script>\n",
              "    async function quickchart(key) {\n",
              "      const quickchartButtonEl =\n",
              "        document.querySelector('#' + key + ' button');\n",
              "      quickchartButtonEl.disabled = true;  // To prevent multiple clicks.\n",
              "      quickchartButtonEl.classList.add('colab-df-spinner');\n",
              "      try {\n",
              "        const charts = await google.colab.kernel.invokeFunction(\n",
              "            'suggestCharts', [key], {});\n",
              "      } catch (error) {\n",
              "        console.error('Error during call to suggestCharts:', error);\n",
              "      }\n",
              "      quickchartButtonEl.classList.remove('colab-df-spinner');\n",
              "      quickchartButtonEl.classList.add('colab-df-quickchart-complete');\n",
              "    }\n",
              "    (() => {\n",
              "      let quickchartButtonEl =\n",
              "        document.querySelector('#df-b9141266-0151-4295-99e7-a9d54b01be34 button');\n",
              "      quickchartButtonEl.style.display =\n",
              "        google.colab.kernel.accessAllowed ? 'block' : 'none';\n",
              "    })();\n",
              "  </script>\n",
              "</div>\n",
              "\n",
              "    </div>\n",
              "  </div>\n"
            ]
          },
          "metadata": {},
          "execution_count": 9
        }
      ],
      "source": [
        "dados_treino.head()"
      ]
    },
    {
      "cell_type": "code",
      "execution_count": 10,
      "id": "42393e6d-e9de-4318-806c-397edc8a442a",
      "metadata": {
        "colab": {
          "base_uri": "https://localhost:8080/",
          "height": 206
        },
        "id": "42393e6d-e9de-4318-806c-397edc8a442a",
        "outputId": "bb294eb6-778f-47a2-afd2-48dfc4eb926e"
      },
      "outputs": [
        {
          "output_type": "execute_result",
          "data": {
            "text/plain": [
              "                                                text sentimento\n",
              "0  i feel like my only role now would be to tear ...    sadness\n",
              "1  i feel just bcoz a fight we get mad to each ot...      anger\n",
              "2  i feel like reds and purples are just so rich ...        joy\n",
              "3  im not sure the feeling of loss will ever go a...    sadness\n",
              "4  i feel like ive gotten to know many of you thr...        joy"
            ],
            "text/html": [
              "\n",
              "  <div id=\"df-750b6d13-7209-4474-98ad-b660a2cf2ad9\" class=\"colab-df-container\">\n",
              "    <div>\n",
              "<style scoped>\n",
              "    .dataframe tbody tr th:only-of-type {\n",
              "        vertical-align: middle;\n",
              "    }\n",
              "\n",
              "    .dataframe tbody tr th {\n",
              "        vertical-align: top;\n",
              "    }\n",
              "\n",
              "    .dataframe thead th {\n",
              "        text-align: right;\n",
              "    }\n",
              "</style>\n",
              "<table border=\"1\" class=\"dataframe\">\n",
              "  <thead>\n",
              "    <tr style=\"text-align: right;\">\n",
              "      <th></th>\n",
              "      <th>text</th>\n",
              "      <th>sentimento</th>\n",
              "    </tr>\n",
              "  </thead>\n",
              "  <tbody>\n",
              "    <tr>\n",
              "      <th>0</th>\n",
              "      <td>i feel like my only role now would be to tear ...</td>\n",
              "      <td>sadness</td>\n",
              "    </tr>\n",
              "    <tr>\n",
              "      <th>1</th>\n",
              "      <td>i feel just bcoz a fight we get mad to each ot...</td>\n",
              "      <td>anger</td>\n",
              "    </tr>\n",
              "    <tr>\n",
              "      <th>2</th>\n",
              "      <td>i feel like reds and purples are just so rich ...</td>\n",
              "      <td>joy</td>\n",
              "    </tr>\n",
              "    <tr>\n",
              "      <th>3</th>\n",
              "      <td>im not sure the feeling of loss will ever go a...</td>\n",
              "      <td>sadness</td>\n",
              "    </tr>\n",
              "    <tr>\n",
              "      <th>4</th>\n",
              "      <td>i feel like ive gotten to know many of you thr...</td>\n",
              "      <td>joy</td>\n",
              "    </tr>\n",
              "  </tbody>\n",
              "</table>\n",
              "</div>\n",
              "    <div class=\"colab-df-buttons\">\n",
              "\n",
              "  <div class=\"colab-df-container\">\n",
              "    <button class=\"colab-df-convert\" onclick=\"convertToInteractive('df-750b6d13-7209-4474-98ad-b660a2cf2ad9')\"\n",
              "            title=\"Convert this dataframe to an interactive table.\"\n",
              "            style=\"display:none;\">\n",
              "\n",
              "  <svg xmlns=\"http://www.w3.org/2000/svg\" height=\"24px\" viewBox=\"0 -960 960 960\">\n",
              "    <path d=\"M120-120v-720h720v720H120Zm60-500h600v-160H180v160Zm220 220h160v-160H400v160Zm0 220h160v-160H400v160ZM180-400h160v-160H180v160Zm440 0h160v-160H620v160ZM180-180h160v-160H180v160Zm440 0h160v-160H620v160Z\"/>\n",
              "  </svg>\n",
              "    </button>\n",
              "\n",
              "  <style>\n",
              "    .colab-df-container {\n",
              "      display:flex;\n",
              "      gap: 12px;\n",
              "    }\n",
              "\n",
              "    .colab-df-convert {\n",
              "      background-color: #E8F0FE;\n",
              "      border: none;\n",
              "      border-radius: 50%;\n",
              "      cursor: pointer;\n",
              "      display: none;\n",
              "      fill: #1967D2;\n",
              "      height: 32px;\n",
              "      padding: 0 0 0 0;\n",
              "      width: 32px;\n",
              "    }\n",
              "\n",
              "    .colab-df-convert:hover {\n",
              "      background-color: #E2EBFA;\n",
              "      box-shadow: 0px 1px 2px rgba(60, 64, 67, 0.3), 0px 1px 3px 1px rgba(60, 64, 67, 0.15);\n",
              "      fill: #174EA6;\n",
              "    }\n",
              "\n",
              "    .colab-df-buttons div {\n",
              "      margin-bottom: 4px;\n",
              "    }\n",
              "\n",
              "    [theme=dark] .colab-df-convert {\n",
              "      background-color: #3B4455;\n",
              "      fill: #D2E3FC;\n",
              "    }\n",
              "\n",
              "    [theme=dark] .colab-df-convert:hover {\n",
              "      background-color: #434B5C;\n",
              "      box-shadow: 0px 1px 3px 1px rgba(0, 0, 0, 0.15);\n",
              "      filter: drop-shadow(0px 1px 2px rgba(0, 0, 0, 0.3));\n",
              "      fill: #FFFFFF;\n",
              "    }\n",
              "  </style>\n",
              "\n",
              "    <script>\n",
              "      const buttonEl =\n",
              "        document.querySelector('#df-750b6d13-7209-4474-98ad-b660a2cf2ad9 button.colab-df-convert');\n",
              "      buttonEl.style.display =\n",
              "        google.colab.kernel.accessAllowed ? 'block' : 'none';\n",
              "\n",
              "      async function convertToInteractive(key) {\n",
              "        const element = document.querySelector('#df-750b6d13-7209-4474-98ad-b660a2cf2ad9');\n",
              "        const dataTable =\n",
              "          await google.colab.kernel.invokeFunction('convertToInteractive',\n",
              "                                                    [key], {});\n",
              "        if (!dataTable) return;\n",
              "\n",
              "        const docLinkHtml = 'Like what you see? Visit the ' +\n",
              "          '<a target=\"_blank\" href=https://colab.research.google.com/notebooks/data_table.ipynb>data table notebook</a>'\n",
              "          + ' to learn more about interactive tables.';\n",
              "        element.innerHTML = '';\n",
              "        dataTable['output_type'] = 'display_data';\n",
              "        await google.colab.output.renderOutput(dataTable, element);\n",
              "        const docLink = document.createElement('div');\n",
              "        docLink.innerHTML = docLinkHtml;\n",
              "        element.appendChild(docLink);\n",
              "      }\n",
              "    </script>\n",
              "  </div>\n",
              "\n",
              "\n",
              "<div id=\"df-9c4f58af-d9c9-415a-bb3f-23fb0739cf90\">\n",
              "  <button class=\"colab-df-quickchart\" onclick=\"quickchart('df-9c4f58af-d9c9-415a-bb3f-23fb0739cf90')\"\n",
              "            title=\"Suggest charts\"\n",
              "            style=\"display:none;\">\n",
              "\n",
              "<svg xmlns=\"http://www.w3.org/2000/svg\" height=\"24px\"viewBox=\"0 0 24 24\"\n",
              "     width=\"24px\">\n",
              "    <g>\n",
              "        <path d=\"M19 3H5c-1.1 0-2 .9-2 2v14c0 1.1.9 2 2 2h14c1.1 0 2-.9 2-2V5c0-1.1-.9-2-2-2zM9 17H7v-7h2v7zm4 0h-2V7h2v10zm4 0h-2v-4h2v4z\"/>\n",
              "    </g>\n",
              "</svg>\n",
              "  </button>\n",
              "\n",
              "<style>\n",
              "  .colab-df-quickchart {\n",
              "      --bg-color: #E8F0FE;\n",
              "      --fill-color: #1967D2;\n",
              "      --hover-bg-color: #E2EBFA;\n",
              "      --hover-fill-color: #174EA6;\n",
              "      --disabled-fill-color: #AAA;\n",
              "      --disabled-bg-color: #DDD;\n",
              "  }\n",
              "\n",
              "  [theme=dark] .colab-df-quickchart {\n",
              "      --bg-color: #3B4455;\n",
              "      --fill-color: #D2E3FC;\n",
              "      --hover-bg-color: #434B5C;\n",
              "      --hover-fill-color: #FFFFFF;\n",
              "      --disabled-bg-color: #3B4455;\n",
              "      --disabled-fill-color: #666;\n",
              "  }\n",
              "\n",
              "  .colab-df-quickchart {\n",
              "    background-color: var(--bg-color);\n",
              "    border: none;\n",
              "    border-radius: 50%;\n",
              "    cursor: pointer;\n",
              "    display: none;\n",
              "    fill: var(--fill-color);\n",
              "    height: 32px;\n",
              "    padding: 0;\n",
              "    width: 32px;\n",
              "  }\n",
              "\n",
              "  .colab-df-quickchart:hover {\n",
              "    background-color: var(--hover-bg-color);\n",
              "    box-shadow: 0 1px 2px rgba(60, 64, 67, 0.3), 0 1px 3px 1px rgba(60, 64, 67, 0.15);\n",
              "    fill: var(--button-hover-fill-color);\n",
              "  }\n",
              "\n",
              "  .colab-df-quickchart-complete:disabled,\n",
              "  .colab-df-quickchart-complete:disabled:hover {\n",
              "    background-color: var(--disabled-bg-color);\n",
              "    fill: var(--disabled-fill-color);\n",
              "    box-shadow: none;\n",
              "  }\n",
              "\n",
              "  .colab-df-spinner {\n",
              "    border: 2px solid var(--fill-color);\n",
              "    border-color: transparent;\n",
              "    border-bottom-color: var(--fill-color);\n",
              "    animation:\n",
              "      spin 1s steps(1) infinite;\n",
              "  }\n",
              "\n",
              "  @keyframes spin {\n",
              "    0% {\n",
              "      border-color: transparent;\n",
              "      border-bottom-color: var(--fill-color);\n",
              "      border-left-color: var(--fill-color);\n",
              "    }\n",
              "    20% {\n",
              "      border-color: transparent;\n",
              "      border-left-color: var(--fill-color);\n",
              "      border-top-color: var(--fill-color);\n",
              "    }\n",
              "    30% {\n",
              "      border-color: transparent;\n",
              "      border-left-color: var(--fill-color);\n",
              "      border-top-color: var(--fill-color);\n",
              "      border-right-color: var(--fill-color);\n",
              "    }\n",
              "    40% {\n",
              "      border-color: transparent;\n",
              "      border-right-color: var(--fill-color);\n",
              "      border-top-color: var(--fill-color);\n",
              "    }\n",
              "    60% {\n",
              "      border-color: transparent;\n",
              "      border-right-color: var(--fill-color);\n",
              "    }\n",
              "    80% {\n",
              "      border-color: transparent;\n",
              "      border-right-color: var(--fill-color);\n",
              "      border-bottom-color: var(--fill-color);\n",
              "    }\n",
              "    90% {\n",
              "      border-color: transparent;\n",
              "      border-bottom-color: var(--fill-color);\n",
              "    }\n",
              "  }\n",
              "</style>\n",
              "\n",
              "  <script>\n",
              "    async function quickchart(key) {\n",
              "      const quickchartButtonEl =\n",
              "        document.querySelector('#' + key + ' button');\n",
              "      quickchartButtonEl.disabled = true;  // To prevent multiple clicks.\n",
              "      quickchartButtonEl.classList.add('colab-df-spinner');\n",
              "      try {\n",
              "        const charts = await google.colab.kernel.invokeFunction(\n",
              "            'suggestCharts', [key], {});\n",
              "      } catch (error) {\n",
              "        console.error('Error during call to suggestCharts:', error);\n",
              "      }\n",
              "      quickchartButtonEl.classList.remove('colab-df-spinner');\n",
              "      quickchartButtonEl.classList.add('colab-df-quickchart-complete');\n",
              "    }\n",
              "    (() => {\n",
              "      let quickchartButtonEl =\n",
              "        document.querySelector('#df-9c4f58af-d9c9-415a-bb3f-23fb0739cf90 button');\n",
              "      quickchartButtonEl.style.display =\n",
              "        google.colab.kernel.accessAllowed ? 'block' : 'none';\n",
              "    })();\n",
              "  </script>\n",
              "</div>\n",
              "\n",
              "    </div>\n",
              "  </div>\n"
            ]
          },
          "metadata": {},
          "execution_count": 10
        }
      ],
      "source": [
        "dados_teste.head()"
      ]
    },
    {
      "cell_type": "code",
      "execution_count": 11,
      "id": "ae47888b-19e6-4bad-bca9-9579f015d87e",
      "metadata": {
        "colab": {
          "base_uri": "https://localhost:8080/"
        },
        "id": "ae47888b-19e6-4bad-bca9-9579f015d87e",
        "outputId": "673aace0-0ee8-40a0-b73a-e2e0703933ea"
      },
      "outputs": [
        {
          "output_type": "execute_result",
          "data": {
            "text/plain": [
              "joy         5362\n",
              "sadness     4666\n",
              "anger       2159\n",
              "fear        1937\n",
              "love        1304\n",
              "surprise     572\n",
              "Name: sentimento, dtype: int64"
            ]
          },
          "metadata": {},
          "execution_count": 11
        }
      ],
      "source": [
        "dados_treino['sentimento'].value_counts()"
      ]
    },
    {
      "cell_type": "code",
      "execution_count": 12,
      "id": "0abe1f45-e0d9-43d2-9f11-137bae22f8fb",
      "metadata": {
        "colab": {
          "base_uri": "https://localhost:8080/"
        },
        "id": "0abe1f45-e0d9-43d2-9f11-137bae22f8fb",
        "outputId": "291b9818-09a8-41c9-cefb-d3c455acc52c"
      },
      "outputs": [
        {
          "output_type": "execute_result",
          "data": {
            "text/plain": [
              "joy         695\n",
              "sadness     581\n",
              "anger       275\n",
              "fear        224\n",
              "love        159\n",
              "surprise     66\n",
              "Name: sentimento, dtype: int64"
            ]
          },
          "metadata": {},
          "execution_count": 12
        }
      ],
      "source": [
        "dados_teste['sentimento'].value_counts()"
      ]
    },
    {
      "cell_type": "markdown",
      "id": "327cdc5b-ebfa-4632-a639-46a9ce61053a",
      "metadata": {
        "id": "327cdc5b-ebfa-4632-a639-46a9ce61053a"
      },
      "source": [
        "## Modelo Versão 1 - Arquitetura Fully Connected Neural Network"
      ]
    },
    {
      "cell_type": "markdown",
      "id": "565d2e46-48f2-4af5-95ea-016b44544e45",
      "metadata": {
        "id": "565d2e46-48f2-4af5-95ea-016b44544e45"
      },
      "source": [
        "### Pré-Processamento dos Dados de Texto"
      ]
    },
    {
      "cell_type": "code",
      "execution_count": 13,
      "id": "a99512df-8def-4100-b249-7def88b4ee3d",
      "metadata": {
        "colab": {
          "base_uri": "https://localhost:8080/"
        },
        "id": "a99512df-8def-4100-b249-7def88b4ee3d",
        "outputId": "3f9aa4b5-4ac7-4ceb-ef02-521678b3ae51"
      },
      "outputs": [
        {
          "output_type": "stream",
          "name": "stdout",
          "text": [
            "\u001b[2K     \u001b[90m━━━━━━━━━━━━━━━━━━━━━━━━━━━━━━━━━━━━━━━━\u001b[0m \u001b[32m42.8/42.8 MB\u001b[0m \u001b[31m18.5 MB/s\u001b[0m eta \u001b[36m0:00:00\u001b[0m\n",
            "\u001b[?25h\u001b[38;5;2m✔ Download and installation successful\u001b[0m\n",
            "You can now load the package via spacy.load('en_core_web_md')\n"
          ]
        }
      ],
      "source": [
        "!python -m spacy download en_core_web_md -q"
      ]
    },
    {
      "cell_type": "code",
      "execution_count": 14,
      "id": "bcb303d2-a81a-463e-9b44-a0440c2fca09",
      "metadata": {
        "id": "bcb303d2-a81a-463e-9b44-a0440c2fca09"
      },
      "outputs": [],
      "source": [
        "nlp = spacy.load('en_core_web_md')"
      ]
    },
    {
      "cell_type": "code",
      "execution_count": 15,
      "id": "b9a4b123-0122-40be-bd6c-1c51c3ea52b5",
      "metadata": {
        "id": "b9a4b123-0122-40be-bd6c-1c51c3ea52b5"
      },
      "outputs": [],
      "source": [
        "def preprocessa_texto(text):\n",
        "    doc = nlp(text)\n",
        "    tokens = [token.lemma_.lower().strip() for token in doc if not token.is_stop]\n",
        "    return ' '.join(tokens)"
      ]
    },
    {
      "cell_type": "code",
      "execution_count": 16,
      "id": "11de3d6e-f359-45a0-bfea-6b2e9e20aa26",
      "metadata": {
        "id": "11de3d6e-f359-45a0-bfea-6b2e9e20aa26"
      },
      "outputs": [],
      "source": [
        "dados_treino['text_processado'] = dados_treino['text'].apply(preprocessa_texto)"
      ]
    },
    {
      "cell_type": "code",
      "execution_count": 17,
      "id": "353c749e-75fc-4ab5-a86d-e926deb20010",
      "metadata": {
        "id": "353c749e-75fc-4ab5-a86d-e926deb20010"
      },
      "outputs": [],
      "source": [
        "dados_teste['text_processado'] = dados_teste['text'].apply(preprocessa_texto)"
      ]
    },
    {
      "cell_type": "code",
      "execution_count": 18,
      "id": "9b0941d4-d99f-4946-8775-f224fac22f46",
      "metadata": {
        "colab": {
          "base_uri": "https://localhost:8080/",
          "height": 293
        },
        "id": "9b0941d4-d99f-4946-8775-f224fac22f46",
        "outputId": "1e8e2178-97e8-4f5b-f8b5-036272125e63"
      },
      "outputs": [
        {
          "output_type": "execute_result",
          "data": {
            "text/plain": [
              "                                                text sentimento  \\\n",
              "0  i am feeling completely overwhelmed i have two...       fear   \n",
              "1    i have the feeling she was amused and delighted        joy   \n",
              "2  i was able to help chai lifeline with your sup...        joy   \n",
              "3  i already feel like i fucked up though because...      anger   \n",
              "4  i still love my so and wish the best for him i...    sadness   \n",
              "\n",
              "                                     text_processado  \n",
              "0  feel completely overwhelmed strategy help feel...  \n",
              "1                              feeling amuse delight  \n",
              "2  able help chai lifeline support encouragement ...  \n",
              "3             feel like fuck not usually eat morning  \n",
              "4  love wish good long tolerate effect bm life fa...  "
            ],
            "text/html": [
              "\n",
              "  <div id=\"df-7643e636-12c1-47e2-b078-2fd889b82437\" class=\"colab-df-container\">\n",
              "    <div>\n",
              "<style scoped>\n",
              "    .dataframe tbody tr th:only-of-type {\n",
              "        vertical-align: middle;\n",
              "    }\n",
              "\n",
              "    .dataframe tbody tr th {\n",
              "        vertical-align: top;\n",
              "    }\n",
              "\n",
              "    .dataframe thead th {\n",
              "        text-align: right;\n",
              "    }\n",
              "</style>\n",
              "<table border=\"1\" class=\"dataframe\">\n",
              "  <thead>\n",
              "    <tr style=\"text-align: right;\">\n",
              "      <th></th>\n",
              "      <th>text</th>\n",
              "      <th>sentimento</th>\n",
              "      <th>text_processado</th>\n",
              "    </tr>\n",
              "  </thead>\n",
              "  <tbody>\n",
              "    <tr>\n",
              "      <th>0</th>\n",
              "      <td>i am feeling completely overwhelmed i have two...</td>\n",
              "      <td>fear</td>\n",
              "      <td>feel completely overwhelmed strategy help feel...</td>\n",
              "    </tr>\n",
              "    <tr>\n",
              "      <th>1</th>\n",
              "      <td>i have the feeling she was amused and delighted</td>\n",
              "      <td>joy</td>\n",
              "      <td>feeling amuse delight</td>\n",
              "    </tr>\n",
              "    <tr>\n",
              "      <th>2</th>\n",
              "      <td>i was able to help chai lifeline with your sup...</td>\n",
              "      <td>joy</td>\n",
              "      <td>able help chai lifeline support encouragement ...</td>\n",
              "    </tr>\n",
              "    <tr>\n",
              "      <th>3</th>\n",
              "      <td>i already feel like i fucked up though because...</td>\n",
              "      <td>anger</td>\n",
              "      <td>feel like fuck not usually eat morning</td>\n",
              "    </tr>\n",
              "    <tr>\n",
              "      <th>4</th>\n",
              "      <td>i still love my so and wish the best for him i...</td>\n",
              "      <td>sadness</td>\n",
              "      <td>love wish good long tolerate effect bm life fa...</td>\n",
              "    </tr>\n",
              "  </tbody>\n",
              "</table>\n",
              "</div>\n",
              "    <div class=\"colab-df-buttons\">\n",
              "\n",
              "  <div class=\"colab-df-container\">\n",
              "    <button class=\"colab-df-convert\" onclick=\"convertToInteractive('df-7643e636-12c1-47e2-b078-2fd889b82437')\"\n",
              "            title=\"Convert this dataframe to an interactive table.\"\n",
              "            style=\"display:none;\">\n",
              "\n",
              "  <svg xmlns=\"http://www.w3.org/2000/svg\" height=\"24px\" viewBox=\"0 -960 960 960\">\n",
              "    <path d=\"M120-120v-720h720v720H120Zm60-500h600v-160H180v160Zm220 220h160v-160H400v160Zm0 220h160v-160H400v160ZM180-400h160v-160H180v160Zm440 0h160v-160H620v160ZM180-180h160v-160H180v160Zm440 0h160v-160H620v160Z\"/>\n",
              "  </svg>\n",
              "    </button>\n",
              "\n",
              "  <style>\n",
              "    .colab-df-container {\n",
              "      display:flex;\n",
              "      gap: 12px;\n",
              "    }\n",
              "\n",
              "    .colab-df-convert {\n",
              "      background-color: #E8F0FE;\n",
              "      border: none;\n",
              "      border-radius: 50%;\n",
              "      cursor: pointer;\n",
              "      display: none;\n",
              "      fill: #1967D2;\n",
              "      height: 32px;\n",
              "      padding: 0 0 0 0;\n",
              "      width: 32px;\n",
              "    }\n",
              "\n",
              "    .colab-df-convert:hover {\n",
              "      background-color: #E2EBFA;\n",
              "      box-shadow: 0px 1px 2px rgba(60, 64, 67, 0.3), 0px 1px 3px 1px rgba(60, 64, 67, 0.15);\n",
              "      fill: #174EA6;\n",
              "    }\n",
              "\n",
              "    .colab-df-buttons div {\n",
              "      margin-bottom: 4px;\n",
              "    }\n",
              "\n",
              "    [theme=dark] .colab-df-convert {\n",
              "      background-color: #3B4455;\n",
              "      fill: #D2E3FC;\n",
              "    }\n",
              "\n",
              "    [theme=dark] .colab-df-convert:hover {\n",
              "      background-color: #434B5C;\n",
              "      box-shadow: 0px 1px 3px 1px rgba(0, 0, 0, 0.15);\n",
              "      filter: drop-shadow(0px 1px 2px rgba(0, 0, 0, 0.3));\n",
              "      fill: #FFFFFF;\n",
              "    }\n",
              "  </style>\n",
              "\n",
              "    <script>\n",
              "      const buttonEl =\n",
              "        document.querySelector('#df-7643e636-12c1-47e2-b078-2fd889b82437 button.colab-df-convert');\n",
              "      buttonEl.style.display =\n",
              "        google.colab.kernel.accessAllowed ? 'block' : 'none';\n",
              "\n",
              "      async function convertToInteractive(key) {\n",
              "        const element = document.querySelector('#df-7643e636-12c1-47e2-b078-2fd889b82437');\n",
              "        const dataTable =\n",
              "          await google.colab.kernel.invokeFunction('convertToInteractive',\n",
              "                                                    [key], {});\n",
              "        if (!dataTable) return;\n",
              "\n",
              "        const docLinkHtml = 'Like what you see? Visit the ' +\n",
              "          '<a target=\"_blank\" href=https://colab.research.google.com/notebooks/data_table.ipynb>data table notebook</a>'\n",
              "          + ' to learn more about interactive tables.';\n",
              "        element.innerHTML = '';\n",
              "        dataTable['output_type'] = 'display_data';\n",
              "        await google.colab.output.renderOutput(dataTable, element);\n",
              "        const docLink = document.createElement('div');\n",
              "        docLink.innerHTML = docLinkHtml;\n",
              "        element.appendChild(docLink);\n",
              "      }\n",
              "    </script>\n",
              "  </div>\n",
              "\n",
              "\n",
              "<div id=\"df-4443ebdb-73e1-4c47-b539-a5ca09b6226b\">\n",
              "  <button class=\"colab-df-quickchart\" onclick=\"quickchart('df-4443ebdb-73e1-4c47-b539-a5ca09b6226b')\"\n",
              "            title=\"Suggest charts\"\n",
              "            style=\"display:none;\">\n",
              "\n",
              "<svg xmlns=\"http://www.w3.org/2000/svg\" height=\"24px\"viewBox=\"0 0 24 24\"\n",
              "     width=\"24px\">\n",
              "    <g>\n",
              "        <path d=\"M19 3H5c-1.1 0-2 .9-2 2v14c0 1.1.9 2 2 2h14c1.1 0 2-.9 2-2V5c0-1.1-.9-2-2-2zM9 17H7v-7h2v7zm4 0h-2V7h2v10zm4 0h-2v-4h2v4z\"/>\n",
              "    </g>\n",
              "</svg>\n",
              "  </button>\n",
              "\n",
              "<style>\n",
              "  .colab-df-quickchart {\n",
              "      --bg-color: #E8F0FE;\n",
              "      --fill-color: #1967D2;\n",
              "      --hover-bg-color: #E2EBFA;\n",
              "      --hover-fill-color: #174EA6;\n",
              "      --disabled-fill-color: #AAA;\n",
              "      --disabled-bg-color: #DDD;\n",
              "  }\n",
              "\n",
              "  [theme=dark] .colab-df-quickchart {\n",
              "      --bg-color: #3B4455;\n",
              "      --fill-color: #D2E3FC;\n",
              "      --hover-bg-color: #434B5C;\n",
              "      --hover-fill-color: #FFFFFF;\n",
              "      --disabled-bg-color: #3B4455;\n",
              "      --disabled-fill-color: #666;\n",
              "  }\n",
              "\n",
              "  .colab-df-quickchart {\n",
              "    background-color: var(--bg-color);\n",
              "    border: none;\n",
              "    border-radius: 50%;\n",
              "    cursor: pointer;\n",
              "    display: none;\n",
              "    fill: var(--fill-color);\n",
              "    height: 32px;\n",
              "    padding: 0;\n",
              "    width: 32px;\n",
              "  }\n",
              "\n",
              "  .colab-df-quickchart:hover {\n",
              "    background-color: var(--hover-bg-color);\n",
              "    box-shadow: 0 1px 2px rgba(60, 64, 67, 0.3), 0 1px 3px 1px rgba(60, 64, 67, 0.15);\n",
              "    fill: var(--button-hover-fill-color);\n",
              "  }\n",
              "\n",
              "  .colab-df-quickchart-complete:disabled,\n",
              "  .colab-df-quickchart-complete:disabled:hover {\n",
              "    background-color: var(--disabled-bg-color);\n",
              "    fill: var(--disabled-fill-color);\n",
              "    box-shadow: none;\n",
              "  }\n",
              "\n",
              "  .colab-df-spinner {\n",
              "    border: 2px solid var(--fill-color);\n",
              "    border-color: transparent;\n",
              "    border-bottom-color: var(--fill-color);\n",
              "    animation:\n",
              "      spin 1s steps(1) infinite;\n",
              "  }\n",
              "\n",
              "  @keyframes spin {\n",
              "    0% {\n",
              "      border-color: transparent;\n",
              "      border-bottom-color: var(--fill-color);\n",
              "      border-left-color: var(--fill-color);\n",
              "    }\n",
              "    20% {\n",
              "      border-color: transparent;\n",
              "      border-left-color: var(--fill-color);\n",
              "      border-top-color: var(--fill-color);\n",
              "    }\n",
              "    30% {\n",
              "      border-color: transparent;\n",
              "      border-left-color: var(--fill-color);\n",
              "      border-top-color: var(--fill-color);\n",
              "      border-right-color: var(--fill-color);\n",
              "    }\n",
              "    40% {\n",
              "      border-color: transparent;\n",
              "      border-right-color: var(--fill-color);\n",
              "      border-top-color: var(--fill-color);\n",
              "    }\n",
              "    60% {\n",
              "      border-color: transparent;\n",
              "      border-right-color: var(--fill-color);\n",
              "    }\n",
              "    80% {\n",
              "      border-color: transparent;\n",
              "      border-right-color: var(--fill-color);\n",
              "      border-bottom-color: var(--fill-color);\n",
              "    }\n",
              "    90% {\n",
              "      border-color: transparent;\n",
              "      border-bottom-color: var(--fill-color);\n",
              "    }\n",
              "  }\n",
              "</style>\n",
              "\n",
              "  <script>\n",
              "    async function quickchart(key) {\n",
              "      const quickchartButtonEl =\n",
              "        document.querySelector('#' + key + ' button');\n",
              "      quickchartButtonEl.disabled = true;  // To prevent multiple clicks.\n",
              "      quickchartButtonEl.classList.add('colab-df-spinner');\n",
              "      try {\n",
              "        const charts = await google.colab.kernel.invokeFunction(\n",
              "            'suggestCharts', [key], {});\n",
              "      } catch (error) {\n",
              "        console.error('Error during call to suggestCharts:', error);\n",
              "      }\n",
              "      quickchartButtonEl.classList.remove('colab-df-spinner');\n",
              "      quickchartButtonEl.classList.add('colab-df-quickchart-complete');\n",
              "    }\n",
              "    (() => {\n",
              "      let quickchartButtonEl =\n",
              "        document.querySelector('#df-4443ebdb-73e1-4c47-b539-a5ca09b6226b button');\n",
              "      quickchartButtonEl.style.display =\n",
              "        google.colab.kernel.accessAllowed ? 'block' : 'none';\n",
              "    })();\n",
              "  </script>\n",
              "</div>\n",
              "\n",
              "    </div>\n",
              "  </div>\n"
            ]
          },
          "metadata": {},
          "execution_count": 18
        }
      ],
      "source": [
        "dados_treino.head()"
      ]
    },
    {
      "cell_type": "code",
      "execution_count": 19,
      "id": "cb51ed10-ff91-4896-8626-537573b1ddc1",
      "metadata": {
        "colab": {
          "base_uri": "https://localhost:8080/",
          "height": 293
        },
        "id": "cb51ed10-ff91-4896-8626-537573b1ddc1",
        "outputId": "6f4c6a63-5ad3-4fe1-f574-d598b5a139ac"
      },
      "outputs": [
        {
          "output_type": "execute_result",
          "data": {
            "text/plain": [
              "                                                text sentimento  \\\n",
              "0  i feel like my only role now would be to tear ...    sadness   \n",
              "1  i feel just bcoz a fight we get mad to each ot...      anger   \n",
              "2  i feel like reds and purples are just so rich ...        joy   \n",
              "3  im not sure the feeling of loss will ever go a...    sadness   \n",
              "4  i feel like ive gotten to know many of you thr...        joy   \n",
              "\n",
              "                                     text_processado  \n",
              "0      feel like role tear sail pessimism discontent  \n",
              "1  feel bcoz fight mad n u wanna publicity n let ...  \n",
              "2             feel like red purple rich kind perfect  \n",
              "3  m sure feeling loss away dull sweet feeling no...  \n",
              "4  feel like ve get know comment email m apprecia...  "
            ],
            "text/html": [
              "\n",
              "  <div id=\"df-2cbe8b77-0de2-47c9-bafe-eccb3ffe2e8c\" class=\"colab-df-container\">\n",
              "    <div>\n",
              "<style scoped>\n",
              "    .dataframe tbody tr th:only-of-type {\n",
              "        vertical-align: middle;\n",
              "    }\n",
              "\n",
              "    .dataframe tbody tr th {\n",
              "        vertical-align: top;\n",
              "    }\n",
              "\n",
              "    .dataframe thead th {\n",
              "        text-align: right;\n",
              "    }\n",
              "</style>\n",
              "<table border=\"1\" class=\"dataframe\">\n",
              "  <thead>\n",
              "    <tr style=\"text-align: right;\">\n",
              "      <th></th>\n",
              "      <th>text</th>\n",
              "      <th>sentimento</th>\n",
              "      <th>text_processado</th>\n",
              "    </tr>\n",
              "  </thead>\n",
              "  <tbody>\n",
              "    <tr>\n",
              "      <th>0</th>\n",
              "      <td>i feel like my only role now would be to tear ...</td>\n",
              "      <td>sadness</td>\n",
              "      <td>feel like role tear sail pessimism discontent</td>\n",
              "    </tr>\n",
              "    <tr>\n",
              "      <th>1</th>\n",
              "      <td>i feel just bcoz a fight we get mad to each ot...</td>\n",
              "      <td>anger</td>\n",
              "      <td>feel bcoz fight mad n u wanna publicity n let ...</td>\n",
              "    </tr>\n",
              "    <tr>\n",
              "      <th>2</th>\n",
              "      <td>i feel like reds and purples are just so rich ...</td>\n",
              "      <td>joy</td>\n",
              "      <td>feel like red purple rich kind perfect</td>\n",
              "    </tr>\n",
              "    <tr>\n",
              "      <th>3</th>\n",
              "      <td>im not sure the feeling of loss will ever go a...</td>\n",
              "      <td>sadness</td>\n",
              "      <td>m sure feeling loss away dull sweet feeling no...</td>\n",
              "    </tr>\n",
              "    <tr>\n",
              "      <th>4</th>\n",
              "      <td>i feel like ive gotten to know many of you thr...</td>\n",
              "      <td>joy</td>\n",
              "      <td>feel like ve get know comment email m apprecia...</td>\n",
              "    </tr>\n",
              "  </tbody>\n",
              "</table>\n",
              "</div>\n",
              "    <div class=\"colab-df-buttons\">\n",
              "\n",
              "  <div class=\"colab-df-container\">\n",
              "    <button class=\"colab-df-convert\" onclick=\"convertToInteractive('df-2cbe8b77-0de2-47c9-bafe-eccb3ffe2e8c')\"\n",
              "            title=\"Convert this dataframe to an interactive table.\"\n",
              "            style=\"display:none;\">\n",
              "\n",
              "  <svg xmlns=\"http://www.w3.org/2000/svg\" height=\"24px\" viewBox=\"0 -960 960 960\">\n",
              "    <path d=\"M120-120v-720h720v720H120Zm60-500h600v-160H180v160Zm220 220h160v-160H400v160Zm0 220h160v-160H400v160ZM180-400h160v-160H180v160Zm440 0h160v-160H620v160ZM180-180h160v-160H180v160Zm440 0h160v-160H620v160Z\"/>\n",
              "  </svg>\n",
              "    </button>\n",
              "\n",
              "  <style>\n",
              "    .colab-df-container {\n",
              "      display:flex;\n",
              "      gap: 12px;\n",
              "    }\n",
              "\n",
              "    .colab-df-convert {\n",
              "      background-color: #E8F0FE;\n",
              "      border: none;\n",
              "      border-radius: 50%;\n",
              "      cursor: pointer;\n",
              "      display: none;\n",
              "      fill: #1967D2;\n",
              "      height: 32px;\n",
              "      padding: 0 0 0 0;\n",
              "      width: 32px;\n",
              "    }\n",
              "\n",
              "    .colab-df-convert:hover {\n",
              "      background-color: #E2EBFA;\n",
              "      box-shadow: 0px 1px 2px rgba(60, 64, 67, 0.3), 0px 1px 3px 1px rgba(60, 64, 67, 0.15);\n",
              "      fill: #174EA6;\n",
              "    }\n",
              "\n",
              "    .colab-df-buttons div {\n",
              "      margin-bottom: 4px;\n",
              "    }\n",
              "\n",
              "    [theme=dark] .colab-df-convert {\n",
              "      background-color: #3B4455;\n",
              "      fill: #D2E3FC;\n",
              "    }\n",
              "\n",
              "    [theme=dark] .colab-df-convert:hover {\n",
              "      background-color: #434B5C;\n",
              "      box-shadow: 0px 1px 3px 1px rgba(0, 0, 0, 0.15);\n",
              "      filter: drop-shadow(0px 1px 2px rgba(0, 0, 0, 0.3));\n",
              "      fill: #FFFFFF;\n",
              "    }\n",
              "  </style>\n",
              "\n",
              "    <script>\n",
              "      const buttonEl =\n",
              "        document.querySelector('#df-2cbe8b77-0de2-47c9-bafe-eccb3ffe2e8c button.colab-df-convert');\n",
              "      buttonEl.style.display =\n",
              "        google.colab.kernel.accessAllowed ? 'block' : 'none';\n",
              "\n",
              "      async function convertToInteractive(key) {\n",
              "        const element = document.querySelector('#df-2cbe8b77-0de2-47c9-bafe-eccb3ffe2e8c');\n",
              "        const dataTable =\n",
              "          await google.colab.kernel.invokeFunction('convertToInteractive',\n",
              "                                                    [key], {});\n",
              "        if (!dataTable) return;\n",
              "\n",
              "        const docLinkHtml = 'Like what you see? Visit the ' +\n",
              "          '<a target=\"_blank\" href=https://colab.research.google.com/notebooks/data_table.ipynb>data table notebook</a>'\n",
              "          + ' to learn more about interactive tables.';\n",
              "        element.innerHTML = '';\n",
              "        dataTable['output_type'] = 'display_data';\n",
              "        await google.colab.output.renderOutput(dataTable, element);\n",
              "        const docLink = document.createElement('div');\n",
              "        docLink.innerHTML = docLinkHtml;\n",
              "        element.appendChild(docLink);\n",
              "      }\n",
              "    </script>\n",
              "  </div>\n",
              "\n",
              "\n",
              "<div id=\"df-270a158f-fd83-4baa-81c4-877301a85dee\">\n",
              "  <button class=\"colab-df-quickchart\" onclick=\"quickchart('df-270a158f-fd83-4baa-81c4-877301a85dee')\"\n",
              "            title=\"Suggest charts\"\n",
              "            style=\"display:none;\">\n",
              "\n",
              "<svg xmlns=\"http://www.w3.org/2000/svg\" height=\"24px\"viewBox=\"0 0 24 24\"\n",
              "     width=\"24px\">\n",
              "    <g>\n",
              "        <path d=\"M19 3H5c-1.1 0-2 .9-2 2v14c0 1.1.9 2 2 2h14c1.1 0 2-.9 2-2V5c0-1.1-.9-2-2-2zM9 17H7v-7h2v7zm4 0h-2V7h2v10zm4 0h-2v-4h2v4z\"/>\n",
              "    </g>\n",
              "</svg>\n",
              "  </button>\n",
              "\n",
              "<style>\n",
              "  .colab-df-quickchart {\n",
              "      --bg-color: #E8F0FE;\n",
              "      --fill-color: #1967D2;\n",
              "      --hover-bg-color: #E2EBFA;\n",
              "      --hover-fill-color: #174EA6;\n",
              "      --disabled-fill-color: #AAA;\n",
              "      --disabled-bg-color: #DDD;\n",
              "  }\n",
              "\n",
              "  [theme=dark] .colab-df-quickchart {\n",
              "      --bg-color: #3B4455;\n",
              "      --fill-color: #D2E3FC;\n",
              "      --hover-bg-color: #434B5C;\n",
              "      --hover-fill-color: #FFFFFF;\n",
              "      --disabled-bg-color: #3B4455;\n",
              "      --disabled-fill-color: #666;\n",
              "  }\n",
              "\n",
              "  .colab-df-quickchart {\n",
              "    background-color: var(--bg-color);\n",
              "    border: none;\n",
              "    border-radius: 50%;\n",
              "    cursor: pointer;\n",
              "    display: none;\n",
              "    fill: var(--fill-color);\n",
              "    height: 32px;\n",
              "    padding: 0;\n",
              "    width: 32px;\n",
              "  }\n",
              "\n",
              "  .colab-df-quickchart:hover {\n",
              "    background-color: var(--hover-bg-color);\n",
              "    box-shadow: 0 1px 2px rgba(60, 64, 67, 0.3), 0 1px 3px 1px rgba(60, 64, 67, 0.15);\n",
              "    fill: var(--button-hover-fill-color);\n",
              "  }\n",
              "\n",
              "  .colab-df-quickchart-complete:disabled,\n",
              "  .colab-df-quickchart-complete:disabled:hover {\n",
              "    background-color: var(--disabled-bg-color);\n",
              "    fill: var(--disabled-fill-color);\n",
              "    box-shadow: none;\n",
              "  }\n",
              "\n",
              "  .colab-df-spinner {\n",
              "    border: 2px solid var(--fill-color);\n",
              "    border-color: transparent;\n",
              "    border-bottom-color: var(--fill-color);\n",
              "    animation:\n",
              "      spin 1s steps(1) infinite;\n",
              "  }\n",
              "\n",
              "  @keyframes spin {\n",
              "    0% {\n",
              "      border-color: transparent;\n",
              "      border-bottom-color: var(--fill-color);\n",
              "      border-left-color: var(--fill-color);\n",
              "    }\n",
              "    20% {\n",
              "      border-color: transparent;\n",
              "      border-left-color: var(--fill-color);\n",
              "      border-top-color: var(--fill-color);\n",
              "    }\n",
              "    30% {\n",
              "      border-color: transparent;\n",
              "      border-left-color: var(--fill-color);\n",
              "      border-top-color: var(--fill-color);\n",
              "      border-right-color: var(--fill-color);\n",
              "    }\n",
              "    40% {\n",
              "      border-color: transparent;\n",
              "      border-right-color: var(--fill-color);\n",
              "      border-top-color: var(--fill-color);\n",
              "    }\n",
              "    60% {\n",
              "      border-color: transparent;\n",
              "      border-right-color: var(--fill-color);\n",
              "    }\n",
              "    80% {\n",
              "      border-color: transparent;\n",
              "      border-right-color: var(--fill-color);\n",
              "      border-bottom-color: var(--fill-color);\n",
              "    }\n",
              "    90% {\n",
              "      border-color: transparent;\n",
              "      border-bottom-color: var(--fill-color);\n",
              "    }\n",
              "  }\n",
              "</style>\n",
              "\n",
              "  <script>\n",
              "    async function quickchart(key) {\n",
              "      const quickchartButtonEl =\n",
              "        document.querySelector('#' + key + ' button');\n",
              "      quickchartButtonEl.disabled = true;  // To prevent multiple clicks.\n",
              "      quickchartButtonEl.classList.add('colab-df-spinner');\n",
              "      try {\n",
              "        const charts = await google.colab.kernel.invokeFunction(\n",
              "            'suggestCharts', [key], {});\n",
              "      } catch (error) {\n",
              "        console.error('Error during call to suggestCharts:', error);\n",
              "      }\n",
              "      quickchartButtonEl.classList.remove('colab-df-spinner');\n",
              "      quickchartButtonEl.classList.add('colab-df-quickchart-complete');\n",
              "    }\n",
              "    (() => {\n",
              "      let quickchartButtonEl =\n",
              "        document.querySelector('#df-270a158f-fd83-4baa-81c4-877301a85dee button');\n",
              "      quickchartButtonEl.style.display =\n",
              "        google.colab.kernel.accessAllowed ? 'block' : 'none';\n",
              "    })();\n",
              "  </script>\n",
              "</div>\n",
              "\n",
              "    </div>\n",
              "  </div>\n"
            ]
          },
          "metadata": {},
          "execution_count": 19
        }
      ],
      "source": [
        "dados_teste.head()"
      ]
    },
    {
      "cell_type": "markdown",
      "id": "dba032d5-f1fa-4c27-bdd9-3d736af57c4c",
      "metadata": {
        "id": "dba032d5-f1fa-4c27-bdd9-3d736af57c4c"
      },
      "source": [
        "### Modelo de Arquitetura Fully Connected Neural Network"
      ]
    },
    {
      "cell_type": "markdown",
      "id": "85228d07-e9c7-4930-9ea2-fd70697a9e7e",
      "metadata": {
        "id": "85228d07-e9c7-4930-9ea2-fd70697a9e7e"
      },
      "source": [
        "#### Preparação dos dados de texto"
      ]
    },
    {
      "cell_type": "code",
      "execution_count": 20,
      "id": "b252a346-0b1f-499b-aae4-031668048380",
      "metadata": {
        "id": "b252a346-0b1f-499b-aae4-031668048380"
      },
      "outputs": [],
      "source": [
        "tfidf = TfidfVectorizer(max_df = 0.95, min_df = 2, stop_words = 'english')"
      ]
    },
    {
      "cell_type": "code",
      "execution_count": 21,
      "id": "7e62d79f-82d8-4f9b-ac94-9e8342cef507",
      "metadata": {
        "id": "7e62d79f-82d8-4f9b-ac94-9e8342cef507"
      },
      "outputs": [],
      "source": [
        "dados_treino_tfidf = tfidf.fit_transform(dados_treino['text_processado'])\n",
        "dados_teste_tfidf = tfidf.transform(dados_teste['text_processado'])"
      ]
    },
    {
      "cell_type": "code",
      "execution_count": 22,
      "id": "908b6fa8-5ed8-4968-b5f9-4ee86204ecfc",
      "metadata": {
        "colab": {
          "base_uri": "https://localhost:8080/"
        },
        "id": "908b6fa8-5ed8-4968-b5f9-4ee86204ecfc",
        "outputId": "0d2518fe-7b29-4225-8ce9-3b607063a7bd"
      },
      "outputs": [
        {
          "output_type": "execute_result",
          "data": {
            "text/plain": [
              "(16000, 5587)"
            ]
          },
          "metadata": {},
          "execution_count": 22
        }
      ],
      "source": [
        "dados_treino_tfidf.shape"
      ]
    },
    {
      "cell_type": "code",
      "execution_count": 23,
      "id": "082aec2a-b93a-45fb-8d1e-2ca0a1113af1",
      "metadata": {
        "colab": {
          "base_uri": "https://localhost:8080/"
        },
        "id": "082aec2a-b93a-45fb-8d1e-2ca0a1113af1",
        "outputId": "43855fdd-150f-45be-e020-f34b4458fc7c"
      },
      "outputs": [
        {
          "output_type": "execute_result",
          "data": {
            "text/plain": [
              "(2000, 5587)"
            ]
          },
          "metadata": {},
          "execution_count": 23
        }
      ],
      "source": [
        "dados_teste_tfidf.shape"
      ]
    },
    {
      "cell_type": "code",
      "execution_count": 24,
      "id": "ed4c372c-cbe7-46f9-a2d9-33f804c89f00",
      "metadata": {
        "colab": {
          "base_uri": "https://localhost:8080/"
        },
        "id": "ed4c372c-cbe7-46f9-a2d9-33f804c89f00",
        "outputId": "955b2527-3455-47ae-8cde-6e959068e693"
      },
      "outputs": [
        {
          "output_type": "execute_result",
          "data": {
            "text/plain": [
              "scipy.sparse._csr.csr_matrix"
            ]
          },
          "metadata": {},
          "execution_count": 24
        }
      ],
      "source": [
        "type(dados_treino_tfidf)"
      ]
    },
    {
      "cell_type": "code",
      "execution_count": 25,
      "id": "16f179f0-d43e-4d63-93e4-1ba1a57775df",
      "metadata": {
        "id": "16f179f0-d43e-4d63-93e4-1ba1a57775df"
      },
      "outputs": [],
      "source": [
        "X_treino_array = dados_treino_tfidf.toarray()\n",
        "X_teste_array = dados_teste_tfidf.toarray()"
      ]
    },
    {
      "cell_type": "markdown",
      "id": "45cd19a6-d874-470a-9572-37a851999694",
      "metadata": {
        "id": "45cd19a6-d874-470a-9572-37a851999694"
      },
      "source": [
        "#### Preparação dos dados de rótulo"
      ]
    },
    {
      "cell_type": "code",
      "execution_count": 26,
      "id": "c6820651-8be5-49c2-9b19-4e0f70c5b2c5",
      "metadata": {
        "id": "c6820651-8be5-49c2-9b19-4e0f70c5b2c5"
      },
      "outputs": [],
      "source": [
        "le = LabelEncoder()"
      ]
    },
    {
      "cell_type": "code",
      "execution_count": 27,
      "id": "5f270b4d-4cbe-4e1f-bf52-937d87f12b1a",
      "metadata": {
        "id": "5f270b4d-4cbe-4e1f-bf52-937d87f12b1a"
      },
      "outputs": [],
      "source": [
        "y_treino_le = le.fit_transform(dados_treino['sentimento'])"
      ]
    },
    {
      "cell_type": "code",
      "execution_count": 28,
      "id": "76e5f689-93bf-4f36-bf84-21d41f1225ed",
      "metadata": {
        "id": "76e5f689-93bf-4f36-bf84-21d41f1225ed"
      },
      "outputs": [],
      "source": [
        "y_teste_le = le.transform(dados_teste['sentimento'])"
      ]
    },
    {
      "cell_type": "code",
      "execution_count": 29,
      "id": "3839bb2d-619f-4e55-b917-aae031775792",
      "metadata": {
        "id": "3839bb2d-619f-4e55-b917-aae031775792"
      },
      "outputs": [],
      "source": [
        "pesos_classes = compute_class_weight('balanced', classes = np.unique(y_treino_le), y = y_treino_le)"
      ]
    },
    {
      "cell_type": "code",
      "execution_count": 30,
      "id": "696cd396-55b8-41f8-919e-974001728d39",
      "metadata": {
        "colab": {
          "base_uri": "https://localhost:8080/"
        },
        "id": "696cd396-55b8-41f8-919e-974001728d39",
        "outputId": "6f1109ef-483e-4037-d22d-95da615f73e6"
      },
      "outputs": [
        {
          "output_type": "execute_result",
          "data": {
            "text/plain": [
              "numpy.ndarray"
            ]
          },
          "metadata": {},
          "execution_count": 30
        }
      ],
      "source": [
        "type(pesos_classes)"
      ]
    },
    {
      "cell_type": "markdown",
      "id": "cee220d9-cad3-4dd8-9fd4-83c221fa6e6b",
      "metadata": {
        "id": "cee220d9-cad3-4dd8-9fd4-83c221fa6e6b"
      },
      "source": [
        "#### Divisão dos dados em treino e validação"
      ]
    },
    {
      "cell_type": "code",
      "execution_count": 31,
      "id": "b909e912-9a2c-4859-be0d-b1bbde26a3f9",
      "metadata": {
        "id": "b909e912-9a2c-4859-be0d-b1bbde26a3f9"
      },
      "outputs": [],
      "source": [
        "X_treino, X_val, y_treino, y_val = train_test_split(X_treino_array,\n",
        "                                                    y_treino_le,\n",
        "                                                    test_size = 0.2,\n",
        "                                                    stratify = y_treino_le)"
      ]
    },
    {
      "cell_type": "markdown",
      "id": "598828b5-2733-4057-a6c8-e7b0c80e37d2",
      "metadata": {
        "id": "598828b5-2733-4057-a6c8-e7b0c80e37d2"
      },
      "source": [
        "#### Ajustar a variável alvo como tipo categorical"
      ]
    },
    {
      "cell_type": "code",
      "execution_count": 32,
      "id": "8ffc024d-053c-4fc2-99a1-216967e6bbc8",
      "metadata": {
        "id": "8ffc024d-053c-4fc2-99a1-216967e6bbc8"
      },
      "outputs": [],
      "source": [
        "y_treino_encoded = to_categorical(y_treino)\n",
        "y_teste_encoded = to_categorical(y_treino_le)\n",
        "y_val_encoded = to_categorical(y_val)"
      ]
    },
    {
      "cell_type": "code",
      "execution_count": 33,
      "id": "66ebcdce-20a4-4a8c-bf46-6b351da359d9",
      "metadata": {
        "colab": {
          "base_uri": "https://localhost:8080/"
        },
        "id": "66ebcdce-20a4-4a8c-bf46-6b351da359d9",
        "outputId": "83ba012c-e490-48e0-fca5-daa1e96cc110"
      },
      "outputs": [
        {
          "output_type": "execute_result",
          "data": {
            "text/plain": [
              "((12800, 6), (16000, 6), (3200, 6))"
            ]
          },
          "metadata": {},
          "execution_count": 33
        }
      ],
      "source": [
        "y_treino_encoded.shape, y_teste_encoded.shape, y_val_encoded.shape"
      ]
    },
    {
      "cell_type": "markdown",
      "id": "2b9e0882-7faa-480f-9f75-ec3104f4e856",
      "metadata": {
        "id": "2b9e0882-7faa-480f-9f75-ec3104f4e856"
      },
      "source": [
        "### Construção do Modelo 1"
      ]
    },
    {
      "cell_type": "code",
      "execution_count": 34,
      "id": "447f8625-3c08-42f6-aaf8-756894e78a83",
      "metadata": {
        "id": "447f8625-3c08-42f6-aaf8-756894e78a83"
      },
      "outputs": [],
      "source": [
        "modelo_v1 = Sequential()\n",
        "modelo_v1.add(Dense(4096, activation = 'selu', kernel_initializer = 'lecun_normal',\n",
        "                    input_shape = (X_treino.shape[1],), kernel_regularizer = tf.keras.regularizers.l2(0.01)))\n",
        "modelo_v1.add(Dense(2048, activation = 'selu', kernel_initializer = 'lecun_normal',\n",
        "                    kernel_regularizer = tf.keras.regularizers.l2(0.01)))\n",
        "modelo_v1.add(Dense(1024, activation = 'selu', kernel_initializer = 'lecun_normal',\n",
        "                    kernel_regularizer = tf.keras.regularizers.l2(0.1)))\n",
        "modelo_v1.add(Dense(64, activation = 'selu'))\n",
        "modelo_v1.add(Dense(6, activation = 'softmax'))"
      ]
    },
    {
      "cell_type": "code",
      "execution_count": 35,
      "id": "e53326e5-2798-40de-9d34-47fa96fb1230",
      "metadata": {
        "colab": {
          "base_uri": "https://localhost:8080/"
        },
        "id": "e53326e5-2798-40de-9d34-47fa96fb1230",
        "outputId": "00ea7d5a-0d8f-4398-a057-506e815ba184"
      },
      "outputs": [
        {
          "output_type": "execute_result",
          "data": {
            "text/plain": [
              "<tf.Variable 'UnreadVariable' shape=(6,) dtype=float32, numpy=\n",
              "array([1.2351397 , 1.3766993 , 0.49732688, 2.0449898 , 0.5715102 ,\n",
              "       4.6620045 ], dtype=float32)>"
            ]
          },
          "metadata": {},
          "execution_count": 35
        }
      ],
      "source": [
        "modelo_v1.layers[-1].bias.assign(pesos_classes)"
      ]
    },
    {
      "cell_type": "code",
      "execution_count": 36,
      "id": "5fa7921e-d7c0-4433-bc1d-f03f05c8ba29",
      "metadata": {
        "id": "5fa7921e-d7c0-4433-bc1d-f03f05c8ba29"
      },
      "outputs": [],
      "source": [
        "modelo_v1.compile(optimizer = 'Adam', loss = tf.losses.categorical_crossentropy,\n",
        "                  metrics = ['accuracy', Precision(), Recall(), AUC()])"
      ]
    },
    {
      "cell_type": "code",
      "execution_count": 37,
      "id": "365b4fe1-7baa-413c-9dcb-22e6a7398945",
      "metadata": {
        "colab": {
          "base_uri": "https://localhost:8080/"
        },
        "id": "365b4fe1-7baa-413c-9dcb-22e6a7398945",
        "outputId": "8cdaa492-d17f-4c69-9644-9c4c86fc1765"
      },
      "outputs": [
        {
          "output_type": "stream",
          "name": "stdout",
          "text": [
            "Model: \"sequential\"\n",
            "_________________________________________________________________\n",
            " Layer (type)                Output Shape              Param #   \n",
            "=================================================================\n",
            " dense (Dense)               (None, 4096)              22888448  \n",
            "                                                                 \n",
            " dense_1 (Dense)             (None, 2048)              8390656   \n",
            "                                                                 \n",
            " dense_2 (Dense)             (None, 1024)              2098176   \n",
            "                                                                 \n",
            " dense_3 (Dense)             (None, 64)                65600     \n",
            "                                                                 \n",
            " dense_4 (Dense)             (None, 6)                 390       \n",
            "                                                                 \n",
            "=================================================================\n",
            "Total params: 33443270 (127.58 MB)\n",
            "Trainable params: 33443270 (127.58 MB)\n",
            "Non-trainable params: 0 (0.00 Byte)\n",
            "_________________________________________________________________\n"
          ]
        }
      ],
      "source": [
        "modelo_v1.summary()"
      ]
    },
    {
      "cell_type": "markdown",
      "id": "a6877efe-10b0-4174-9a7e-8113d90796a3",
      "metadata": {
        "id": "a6877efe-10b0-4174-9a7e-8113d90796a3"
      },
      "source": [
        "#### Callbacks e Early Stopping"
      ]
    },
    {
      "cell_type": "code",
      "execution_count": 38,
      "id": "1aa98c41-950e-4422-9584-306159a916a6",
      "metadata": {
        "id": "1aa98c41-950e-4422-9584-306159a916a6"
      },
      "outputs": [],
      "source": [
        "def step_decay(epoch):\n",
        "    initial_lrate = 0.001\n",
        "    drop = 0.5\n",
        "    epochs_drop = 10.0\n",
        "    lrate = initial_lrate * math.pow(drop, math.floor((1 + epoch) / epochs_drop))\n",
        "    return lrate"
      ]
    },
    {
      "cell_type": "code",
      "execution_count": 39,
      "id": "6eaac529-fc0b-4a24-9e54-587be4a248fd",
      "metadata": {
        "id": "6eaac529-fc0b-4a24-9e54-587be4a248fd"
      },
      "outputs": [],
      "source": [
        "lr_scheduler = LearningRateScheduler(step_decay)"
      ]
    },
    {
      "cell_type": "code",
      "execution_count": 40,
      "id": "f065a6d3-be9e-481b-b441-05be66428f3a",
      "metadata": {
        "id": "f065a6d3-be9e-481b-b441-05be66428f3a"
      },
      "outputs": [],
      "source": [
        "early_stopping = EarlyStopping(monitor = 'val_loss', restore_best_weights = True,\n",
        "                               patience = 3)"
      ]
    },
    {
      "cell_type": "markdown",
      "id": "dc2c7400-1f55-455f-83e5-88b5d440c069",
      "metadata": {
        "id": "dc2c7400-1f55-455f-83e5-88b5d440c069"
      },
      "source": [
        "### Treinamento do Modelo"
      ]
    },
    {
      "cell_type": "code",
      "execution_count": 41,
      "id": "d202e494-41f2-43f2-9b4d-05d5a92c4f85",
      "metadata": {
        "id": "d202e494-41f2-43f2-9b4d-05d5a92c4f85"
      },
      "outputs": [],
      "source": [
        "num_epochs = 20\n",
        "tamanho_batch = 256"
      ]
    },
    {
      "cell_type": "code",
      "execution_count": 42,
      "id": "3f11a125-0c45-43f1-a11b-50f66cde5aba",
      "metadata": {
        "colab": {
          "base_uri": "https://localhost:8080/"
        },
        "id": "3f11a125-0c45-43f1-a11b-50f66cde5aba",
        "outputId": "e8a3b1ec-ac19-4997-def1-b3b08b599f2d"
      },
      "outputs": [
        {
          "output_type": "stream",
          "name": "stdout",
          "text": [
            "Epoch 1/20\n",
            "50/50 [==============================] - 9s 43ms/step - loss: 36.9615 - accuracy: 0.6582 - precision: 0.8230 - recall: 0.4737 - auc: 0.8989 - val_loss: 2.2375 - val_accuracy: 0.7769 - val_precision: 0.8561 - val_recall: 0.6506 - val_auc: 0.9607 - lr: 0.0010\n",
            "Epoch 2/20\n",
            "50/50 [==============================] - 1s 26ms/step - loss: 1.5031 - accuracy: 0.7894 - precision: 0.8654 - recall: 0.6864 - auc: 0.9629 - val_loss: 1.3334 - val_accuracy: 0.8159 - val_precision: 0.8887 - val_recall: 0.7059 - val_auc: 0.9654 - lr: 0.0010\n",
            "Epoch 3/20\n",
            "50/50 [==============================] - 1s 27ms/step - loss: 1.1906 - accuracy: 0.8202 - precision: 0.8802 - recall: 0.7491 - auc: 0.9728 - val_loss: 1.1858 - val_accuracy: 0.8225 - val_precision: 0.8795 - val_recall: 0.7572 - val_auc: 0.9720 - lr: 0.0010\n",
            "Epoch 4/20\n",
            "50/50 [==============================] - 1s 26ms/step - loss: 1.0655 - accuracy: 0.8506 - precision: 0.8948 - recall: 0.7957 - auc: 0.9792 - val_loss: 1.1228 - val_accuracy: 0.8431 - val_precision: 0.8979 - val_recall: 0.7778 - val_auc: 0.9761 - lr: 0.0010\n",
            "Epoch 5/20\n",
            "50/50 [==============================] - 1s 26ms/step - loss: 0.9686 - accuracy: 0.8726 - precision: 0.9055 - recall: 0.8327 - auc: 0.9847 - val_loss: 1.1027 - val_accuracy: 0.8369 - val_precision: 0.8834 - val_recall: 0.7812 - val_auc: 0.9750 - lr: 0.0010\n",
            "Epoch 6/20\n",
            "50/50 [==============================] - 1s 24ms/step - loss: 0.9440 - accuracy: 0.8836 - precision: 0.9109 - recall: 0.8519 - auc: 0.9869 - val_loss: 1.1481 - val_accuracy: 0.8334 - val_precision: 0.8684 - val_recall: 0.7959 - val_auc: 0.9736 - lr: 0.0010\n",
            "Epoch 7/20\n",
            "50/50 [==============================] - 1s 30ms/step - loss: 0.9447 - accuracy: 0.8911 - precision: 0.9145 - recall: 0.8673 - auc: 0.9886 - val_loss: 1.0779 - val_accuracy: 0.8441 - val_precision: 0.8701 - val_recall: 0.8163 - val_auc: 0.9781 - lr: 0.0010\n",
            "Epoch 8/20\n",
            "50/50 [==============================] - 1s 27ms/step - loss: 0.8613 - accuracy: 0.9063 - precision: 0.9234 - recall: 0.8850 - auc: 0.9912 - val_loss: 1.1075 - val_accuracy: 0.8363 - val_precision: 0.8742 - val_recall: 0.7950 - val_auc: 0.9732 - lr: 0.0010\n",
            "Epoch 9/20\n",
            "50/50 [==============================] - 1s 27ms/step - loss: 0.9018 - accuracy: 0.9078 - precision: 0.9243 - recall: 0.8886 - auc: 0.9913 - val_loss: 1.1482 - val_accuracy: 0.8394 - val_precision: 0.8730 - val_recall: 0.8097 - val_auc: 0.9766 - lr: 0.0010\n",
            "Epoch 10/20\n",
            "50/50 [==============================] - 2s 31ms/step - loss: 0.6351 - accuracy: 0.9408 - precision: 0.9518 - recall: 0.9299 - auc: 0.9960 - val_loss: 0.7514 - val_accuracy: 0.8566 - val_precision: 0.8778 - val_recall: 0.8306 - val_auc: 0.9806 - lr: 5.0000e-04\n",
            "Epoch 11/20\n",
            "50/50 [==============================] - 1s 27ms/step - loss: 0.4613 - accuracy: 0.9603 - precision: 0.9675 - recall: 0.9530 - auc: 0.9975 - val_loss: 0.7153 - val_accuracy: 0.8503 - val_precision: 0.8759 - val_recall: 0.8294 - val_auc: 0.9803 - lr: 5.0000e-04\n",
            "Epoch 12/20\n",
            "50/50 [==============================] - 1s 24ms/step - loss: 0.4419 - accuracy: 0.9636 - precision: 0.9690 - recall: 0.9555 - auc: 0.9977 - val_loss: 0.7276 - val_accuracy: 0.8459 - val_precision: 0.8689 - val_recall: 0.8247 - val_auc: 0.9802 - lr: 5.0000e-04\n",
            "Epoch 13/20\n",
            "50/50 [==============================] - 1s 26ms/step - loss: 0.4322 - accuracy: 0.9625 - precision: 0.9698 - recall: 0.9533 - auc: 0.9976 - val_loss: 0.7094 - val_accuracy: 0.8556 - val_precision: 0.8760 - val_recall: 0.8325 - val_auc: 0.9790 - lr: 5.0000e-04\n",
            "Epoch 14/20\n",
            "50/50 [==============================] - 1s 23ms/step - loss: 0.4443 - accuracy: 0.9580 - precision: 0.9651 - recall: 0.9494 - auc: 0.9976 - val_loss: 0.7376 - val_accuracy: 0.8494 - val_precision: 0.8717 - val_recall: 0.8259 - val_auc: 0.9796 - lr: 5.0000e-04\n",
            "Epoch 15/20\n",
            "50/50 [==============================] - 1s 24ms/step - loss: 0.4339 - accuracy: 0.9609 - precision: 0.9675 - recall: 0.9527 - auc: 0.9978 - val_loss: 0.7521 - val_accuracy: 0.8453 - val_precision: 0.8707 - val_recall: 0.8228 - val_auc: 0.9763 - lr: 5.0000e-04\n",
            "Epoch 16/20\n",
            "50/50 [==============================] - 1s 28ms/step - loss: 0.4466 - accuracy: 0.9595 - precision: 0.9650 - recall: 0.9503 - auc: 0.9976 - val_loss: 0.7908 - val_accuracy: 0.8397 - val_precision: 0.8639 - val_recall: 0.8191 - val_auc: 0.9757 - lr: 5.0000e-04\n",
            "CPU times: user 25 s, sys: 2.89 s, total: 27.9 s\n",
            "Wall time: 29.7 s\n"
          ]
        }
      ],
      "source": [
        "%%time\n",
        "history = modelo_v1.fit(X_treino,\n",
        "                        y_treino_encoded,\n",
        "                        validation_data = (X_val, y_val_encoded),\n",
        "                        epochs = num_epochs,\n",
        "                        batch_size = tamanho_batch,\n",
        "                        callbacks = [early_stopping, lr_scheduler])"
      ]
    },
    {
      "cell_type": "markdown",
      "id": "ae68f8ca-803c-4e4b-b6a1-b6b8507a3cbf",
      "metadata": {
        "id": "ae68f8ca-803c-4e4b-b6a1-b6b8507a3cbf"
      },
      "source": [
        "### Avaliação do Modelo"
      ]
    },
    {
      "cell_type": "code",
      "execution_count": 43,
      "id": "8ea23ad5-05e5-42ac-bad3-a0c805478fb5",
      "metadata": {
        "id": "8ea23ad5-05e5-42ac-bad3-a0c805478fb5"
      },
      "outputs": [],
      "source": [
        "loss, val_loss = history.history['loss'], history.history['val_loss']"
      ]
    },
    {
      "cell_type": "code",
      "execution_count": 44,
      "id": "98ccbff0-6b8a-4941-b4ec-b5de4f4fa641",
      "metadata": {
        "colab": {
          "base_uri": "https://localhost:8080/",
          "height": 430
        },
        "id": "98ccbff0-6b8a-4941-b4ec-b5de4f4fa641",
        "outputId": "a061768e-daea-40af-fc17-f0b120d6fd34"
      },
      "outputs": [
        {
          "output_type": "display_data",
          "data": {
            "text/plain": [
              "<Figure size 640x480 with 1 Axes>"
            ],
            "image/png": "[encoded data removed]"
          },
          "metadata": {}
        }
      ],
      "source": [
        "plt.plot(loss, label = 'loss')\n",
        "plt.plot(val_loss, label = 'val_loss')\n",
        "plt.legend()\n",
        "plt.show()"
      ]
    },
    {
      "cell_type": "code",
      "execution_count": 45,
      "id": "a6b25e78-8cdb-4bc9-b96a-67c76884f3c9",
      "metadata": {
        "colab": {
          "base_uri": "https://localhost:8080/"
        },
        "id": "a6b25e78-8cdb-4bc9-b96a-67c76884f3c9",
        "outputId": "969ea111-5e1e-40b9-c715-29ec892e5901"
      },
      "outputs": [
        {
          "output_type": "stream",
          "name": "stdout",
          "text": [
            "63/63 [==============================] - 0s 2ms/step\n"
          ]
        }
      ],
      "source": [
        "previsoes_v1 = modelo_v1.predict(X_teste_array)"
      ]
    },
    {
      "cell_type": "code",
      "execution_count": 46,
      "id": "a5bfe074-a5bc-4322-bc9c-2cb34b3c346c",
      "metadata": {
        "id": "a5bfe074-a5bc-4322-bc9c-2cb34b3c346c"
      },
      "outputs": [],
      "source": [
        "previsoes_v1_labels = previsoes_v1.argmax(axis = 1)"
      ]
    },
    {
      "cell_type": "code",
      "execution_count": 47,
      "id": "c2c55bf0-8698-4c3a-a95d-4ff51477028f",
      "metadata": {
        "colab": {
          "base_uri": "https://localhost:8080/"
        },
        "id": "c2c55bf0-8698-4c3a-a95d-4ff51477028f",
        "outputId": "aebca633-5b07-417b-9771-589cc4a22bf7"
      },
      "outputs": [
        {
          "output_type": "stream",
          "name": "stdout",
          "text": [
            "              precision    recall  f1-score   support\n",
            "\n",
            "           0       0.88      0.80      0.84       275\n",
            "           1       0.82      0.81      0.82       224\n",
            "           2       0.86      0.88      0.87       695\n",
            "           3       0.64      0.73      0.68       159\n",
            "           4       0.88      0.87      0.88       581\n",
            "           5       0.68      0.65      0.67        66\n",
            "\n",
            "    accuracy                           0.84      2000\n",
            "   macro avg       0.79      0.79      0.79      2000\n",
            "weighted avg       0.84      0.84      0.84      2000\n",
            "\n"
          ]
        }
      ],
      "source": [
        "print(classification_report(y_teste_le, previsoes_v1_labels))"
      ]
    },
    {
      "cell_type": "code",
      "execution_count": 48,
      "id": "d50493a5-3733-4b3e-ba90-c01c78487277",
      "metadata": {
        "colab": {
          "base_uri": "https://localhost:8080/",
          "height": 430
        },
        "id": "d50493a5-3733-4b3e-ba90-c01c78487277",
        "outputId": "5850f0ab-2dc8-42a6-c782-cdcdb76649fb"
      },
      "outputs": [
        {
          "output_type": "display_data",
          "data": {
            "text/plain": [
              "<Figure size 640x480 with 2 Axes>"
            ],
            "image/png": "[encoded data removed]"
          },
          "metadata": {}
        }
      ],
      "source": [
        "cm = confusion_matrix(y_teste_le, previsoes_v1_labels)\n",
        "sns.heatmap(cm, annot = True);"
      ]
    },
    {
      "cell_type": "code",
      "execution_count": 49,
      "id": "958c16ff-eed4-49e9-9d4d-892ae4c1cc4b",
      "metadata": {
        "colab": {
          "base_uri": "https://localhost:8080/"
        },
        "id": "958c16ff-eed4-49e9-9d4d-892ae4c1cc4b",
        "outputId": "5d7a1519-2188-493d-c2e5-e810f6f552e8"
      },
      "outputs": [
        {
          "output_type": "stream",
          "name": "stdout",
          "text": [
            "0.8385\n"
          ]
        }
      ],
      "source": [
        "print(accuracy_score(y_teste_le, previsoes_v1_labels))"
      ]
    },
    {
      "cell_type": "code",
      "execution_count": 50,
      "id": "a262c6ed-1043-424a-83f2-aae3ca62d6ba",
      "metadata": {
        "id": "a262c6ed-1043-424a-83f2-aae3ca62d6ba"
      },
      "outputs": [],
      "source": [
        "modelo_v1.save('modelo_v1.keras')"
      ]
    },
    {
      "cell_type": "markdown",
      "id": "82375459-8c52-4645-ae66-733799fb437c",
      "metadata": {
        "id": "82375459-8c52-4645-ae66-733799fb437c"
      },
      "source": [
        "### Deploy da Versão 1 do Modelo"
      ]
    },
    {
      "cell_type": "code",
      "execution_count": 51,
      "id": "8df53d4c-19e4-459e-aedb-0fd50950070c",
      "metadata": {
        "id": "8df53d4c-19e4-459e-aedb-0fd50950070c"
      },
      "outputs": [],
      "source": [
        "modelo_carregado = load_model('modelo_v1.keras')"
      ]
    },
    {
      "cell_type": "code",
      "execution_count": 52,
      "id": "b4c9a43b-643a-42b4-aad3-fee3abdce347",
      "metadata": {
        "id": "b4c9a43b-643a-42b4-aad3-fee3abdce347"
      },
      "outputs": [],
      "source": [
        "frase = 'I even feel a little shaky'"
      ]
    },
    {
      "cell_type": "code",
      "execution_count": 53,
      "id": "5e4e0edc-cae4-4e9b-a120-6718cc9430b4",
      "metadata": {
        "id": "5e4e0edc-cae4-4e9b-a120-6718cc9430b4"
      },
      "outputs": [],
      "source": [
        "df_novo = pd.DataFrame({'Frase': [frase]})"
      ]
    },
    {
      "cell_type": "code",
      "execution_count": 54,
      "id": "9eb1777e-a1b3-44ef-84dc-38f6ef9e5c45",
      "metadata": {
        "id": "9eb1777e-a1b3-44ef-84dc-38f6ef9e5c45"
      },
      "outputs": [],
      "source": [
        "df_novo['frase_processada'] = df_novo['Frase'].apply(preprocessa_texto)"
      ]
    },
    {
      "cell_type": "code",
      "execution_count": 55,
      "id": "87f2fe80-8b12-484b-a959-870503f05d1e",
      "metadata": {
        "colab": {
          "base_uri": "https://localhost:8080/",
          "height": 89
        },
        "id": "87f2fe80-8b12-484b-a959-870503f05d1e",
        "outputId": "cc3c9820-2e5f-46aa-afa1-d6a8c6ff7fae"
      },
      "outputs": [
        {
          "output_type": "execute_result",
          "data": {
            "text/plain": [
              "                        Frase   frase_processada\n",
              "0  I even feel a little shaky  feel little shaky"
            ],
            "text/html": [
              "\n",
              "  <div id=\"df-1a82d496-2679-43e7-8c35-667e1564a935\" class=\"colab-df-container\">\n",
              "    <div>\n",
              "<style scoped>\n",
              "    .dataframe tbody tr th:only-of-type {\n",
              "        vertical-align: middle;\n",
              "    }\n",
              "\n",
              "    .dataframe tbody tr th {\n",
              "        vertical-align: top;\n",
              "    }\n",
              "\n",
              "    .dataframe thead th {\n",
              "        text-align: right;\n",
              "    }\n",
              "</style>\n",
              "<table border=\"1\" class=\"dataframe\">\n",
              "  <thead>\n",
              "    <tr style=\"text-align: right;\">\n",
              "      <th></th>\n",
              "      <th>Frase</th>\n",
              "      <th>frase_processada</th>\n",
              "    </tr>\n",
              "  </thead>\n",
              "  <tbody>\n",
              "    <tr>\n",
              "      <th>0</th>\n",
              "      <td>I even feel a little shaky</td>\n",
              "      <td>feel little shaky</td>\n",
              "    </tr>\n",
              "  </tbody>\n",
              "</table>\n",
              "</div>\n",
              "    <div class=\"colab-df-buttons\">\n",
              "\n",
              "  <div class=\"colab-df-container\">\n",
              "    <button class=\"colab-df-convert\" onclick=\"convertToInteractive('df-1a82d496-2679-43e7-8c35-667e1564a935')\"\n",
              "            title=\"Convert this dataframe to an interactive table.\"\n",
              "            style=\"display:none;\">\n",
              "\n",
              "  <svg xmlns=\"http://www.w3.org/2000/svg\" height=\"24px\" viewBox=\"0 -960 960 960\">\n",
              "    <path d=\"M120-120v-720h720v720H120Zm60-500h600v-160H180v160Zm220 220h160v-160H400v160Zm0 220h160v-160H400v160ZM180-400h160v-160H180v160Zm440 0h160v-160H620v160ZM180-180h160v-160H180v160Zm440 0h160v-160H620v160Z\"/>\n",
              "  </svg>\n",
              "    </button>\n",
              "\n",
              "  <style>\n",
              "    .colab-df-container {\n",
              "      display:flex;\n",
              "      gap: 12px;\n",
              "    }\n",
              "\n",
              "    .colab-df-convert {\n",
              "      background-color: #E8F0FE;\n",
              "      border: none;\n",
              "      border-radius: 50%;\n",
              "      cursor: pointer;\n",
              "      display: none;\n",
              "      fill: #1967D2;\n",
              "      height: 32px;\n",
              "      padding: 0 0 0 0;\n",
              "      width: 32px;\n",
              "    }\n",
              "\n",
              "    .colab-df-convert:hover {\n",
              "      background-color: #E2EBFA;\n",
              "      box-shadow: 0px 1px 2px rgba(60, 64, 67, 0.3), 0px 1px 3px 1px rgba(60, 64, 67, 0.15);\n",
              "      fill: #174EA6;\n",
              "    }\n",
              "\n",
              "    .colab-df-buttons div {\n",
              "      margin-bottom: 4px;\n",
              "    }\n",
              "\n",
              "    [theme=dark] .colab-df-convert {\n",
              "      background-color: #3B4455;\n",
              "      fill: #D2E3FC;\n",
              "    }\n",
              "\n",
              "    [theme=dark] .colab-df-convert:hover {\n",
              "      background-color: #434B5C;\n",
              "      box-shadow: 0px 1px 3px 1px rgba(0, 0, 0, 0.15);\n",
              "      filter: drop-shadow(0px 1px 2px rgba(0, 0, 0, 0.3));\n",
              "      fill: #FFFFFF;\n",
              "    }\n",
              "  </style>\n",
              "\n",
              "    <script>\n",
              "      const buttonEl =\n",
              "        document.querySelector('#df-1a82d496-2679-43e7-8c35-667e1564a935 button.colab-df-convert');\n",
              "      buttonEl.style.display =\n",
              "        google.colab.kernel.accessAllowed ? 'block' : 'none';\n",
              "\n",
              "      async function convertToInteractive(key) {\n",
              "        const element = document.querySelector('#df-1a82d496-2679-43e7-8c35-667e1564a935');\n",
              "        const dataTable =\n",
              "          await google.colab.kernel.invokeFunction('convertToInteractive',\n",
              "                                                    [key], {});\n",
              "        if (!dataTable) return;\n",
              "\n",
              "        const docLinkHtml = 'Like what you see? Visit the ' +\n",
              "          '<a target=\"_blank\" href=https://colab.research.google.com/notebooks/data_table.ipynb>data table notebook</a>'\n",
              "          + ' to learn more about interactive tables.';\n",
              "        element.innerHTML = '';\n",
              "        dataTable['output_type'] = 'display_data';\n",
              "        await google.colab.output.renderOutput(dataTable, element);\n",
              "        const docLink = document.createElement('div');\n",
              "        docLink.innerHTML = docLinkHtml;\n",
              "        element.appendChild(docLink);\n",
              "      }\n",
              "    </script>\n",
              "  </div>\n",
              "\n",
              "\n",
              "  <div id=\"id_a397dc3d-c870-46db-9bae-a419e264954e\">\n",
              "    <style>\n",
              "      .colab-df-generate {\n",
              "        background-color: #E8F0FE;\n",
              "        border: none;\n",
              "        border-radius: 50%;\n",
              "        cursor: pointer;\n",
              "        display: none;\n",
              "        fill: #1967D2;\n",
              "        height: 32px;\n",
              "        padding: 0 0 0 0;\n",
              "        width: 32px;\n",
              "      }\n",
              "\n",
              "      .colab-df-generate:hover {\n",
              "        background-color: #E2EBFA;\n",
              "        box-shadow: 0px 1px 2px rgba(60, 64, 67, 0.3), 0px 1px 3px 1px rgba(60, 64, 67, 0.15);\n",
              "        fill: #174EA6;\n",
              "      }\n",
              "\n",
              "      [theme=dark] .colab-df-generate {\n",
              "        background-color: #3B4455;\n",
              "        fill: #D2E3FC;\n",
              "      }\n",
              "\n",
              "      [theme=dark] .colab-df-generate:hover {\n",
              "        background-color: #434B5C;\n",
              "        box-shadow: 0px 1px 3px 1px rgba(0, 0, 0, 0.15);\n",
              "        filter: drop-shadow(0px 1px 2px rgba(0, 0, 0, 0.3));\n",
              "        fill: #FFFFFF;\n",
              "      }\n",
              "    </style>\n",
              "    <button class=\"colab-df-generate\" onclick=\"generateWithVariable('df_novo')\"\n",
              "            title=\"Generate code using this dataframe.\"\n",
              "            style=\"display:none;\">\n",
              "\n",
              "  <svg xmlns=\"http://www.w3.org/2000/svg\" height=\"24px\"viewBox=\"0 0 24 24\"\n",
              "       width=\"24px\">\n",
              "    <path d=\"M7,19H8.4L18.45,9,17,7.55,7,17.6ZM5,21V16.75L18.45,3.32a2,2,0,0,1,2.83,0l1.4,1.43a1.91,1.91,0,0,1,.58,1.4,1.91,1.91,0,0,1-.58,1.4L9.25,21ZM18.45,9,17,7.55Zm-12,3A5.31,5.31,0,0,0,4.9,8.1,5.31,5.31,0,0,0,1,6.5,5.31,5.31,0,0,0,4.9,4.9,5.31,5.31,0,0,0,6.5,1,5.31,5.31,0,0,0,8.1,4.9,5.31,5.31,0,0,0,12,6.5,5.46,5.46,0,0,0,6.5,12Z\"/>\n",
              "  </svg>\n",
              "    </button>\n",
              "    <script>\n",
              "      (() => {\n",
              "      const buttonEl =\n",
              "        document.querySelector('#id_a397dc3d-c870-46db-9bae-a419e264954e button.colab-df-generate');\n",
              "      buttonEl.style.display =\n",
              "        google.colab.kernel.accessAllowed ? 'block' : 'none';\n",
              "\n",
              "      buttonEl.onclick = () => {\n",
              "        google.colab.notebook.generateWithVariable('df_novo');\n",
              "      }\n",
              "      })();\n",
              "    </script>\n",
              "  </div>\n",
              "\n",
              "    </div>\n",
              "  </div>\n"
            ]
          },
          "metadata": {},
          "execution_count": 55
        }
      ],
      "source": [
        "df_novo"
      ]
    },
    {
      "cell_type": "code",
      "execution_count": 56,
      "id": "4fcee91c-80e5-4547-8bce-7db86696263c",
      "metadata": {
        "id": "4fcee91c-80e5-4547-8bce-7db86696263c"
      },
      "outputs": [],
      "source": [
        "novo_tfidf = tfidf.transform(df_novo['frase_processada'])"
      ]
    },
    {
      "cell_type": "code",
      "execution_count": 57,
      "id": "1c570fee-2a06-451e-a251-5a402bf5047b",
      "metadata": {
        "id": "1c570fee-2a06-451e-a251-5a402bf5047b"
      },
      "outputs": [],
      "source": [
        "df_novo_array = novo_tfidf.toarray()"
      ]
    },
    {
      "cell_type": "code",
      "execution_count": 58,
      "id": "e040928f-1ef3-47bc-980c-8566bad2ed9d",
      "metadata": {
        "colab": {
          "base_uri": "https://localhost:8080/"
        },
        "id": "e040928f-1ef3-47bc-980c-8566bad2ed9d",
        "outputId": "27a7948b-b6a8-4bc5-f5df-99a970ed23ee"
      },
      "outputs": [
        {
          "output_type": "stream",
          "name": "stdout",
          "text": [
            "1/1 [==============================] - 0s 134ms/step\n"
          ]
        }
      ],
      "source": [
        "previsoes = modelo_carregado.predict(df_novo_array)"
      ]
    },
    {
      "cell_type": "code",
      "execution_count": 59,
      "id": "0474caea-a505-4840-a352-5f3f5b674dc6",
      "metadata": {
        "id": "0474caea-a505-4840-a352-5f3f5b674dc6"
      },
      "outputs": [],
      "source": [
        "classe_maior_prob = np.argmax(previsoes, axis = 1)"
      ]
    },
    {
      "cell_type": "code",
      "execution_count": 60,
      "id": "f2738043-24d1-4f66-ad42-30e5f4f01e70",
      "metadata": {
        "colab": {
          "base_uri": "https://localhost:8080/"
        },
        "id": "f2738043-24d1-4f66-ad42-30e5f4f01e70",
        "outputId": "3c3a09c8-d160-4c2c-8c31-cb3cf4c4db97"
      },
      "outputs": [
        {
          "output_type": "execute_result",
          "data": {
            "text/plain": [
              "array([1])"
            ]
          },
          "metadata": {},
          "execution_count": 60
        }
      ],
      "source": [
        "classe_maior_prob"
      ]
    },
    {
      "cell_type": "code",
      "execution_count": 61,
      "id": "88aea7cf-c481-4e94-9783-848fbdce3277",
      "metadata": {
        "id": "88aea7cf-c481-4e94-9783-848fbdce3277"
      },
      "outputs": [],
      "source": [
        "nome_classe = le.inverse_transform(classe_maior_prob)"
      ]
    },
    {
      "cell_type": "code",
      "execution_count": 62,
      "id": "2db1858c-e865-4d05-83c4-2d3a38fc0d5e",
      "metadata": {
        "colab": {
          "base_uri": "https://localhost:8080/"
        },
        "id": "2db1858c-e865-4d05-83c4-2d3a38fc0d5e",
        "outputId": "7e997ef3-0e7b-4066-f52f-6ca98a5c0b8b"
      },
      "outputs": [
        {
          "output_type": "execute_result",
          "data": {
            "text/plain": [
              "array(['fear'], dtype=object)"
            ]
          },
          "metadata": {},
          "execution_count": 62
        }
      ],
      "source": [
        "nome_classe"
      ]
    },
    {
      "cell_type": "markdown",
      "id": "62ec993d-0b6a-4b0a-bad9-fa8817306225",
      "metadata": {
        "id": "62ec993d-0b6a-4b0a-bad9-fa8817306225"
      },
      "source": [
        "## Modelo Versão 2 - LSTM (Long Short Term Memory)"
      ]
    },
    {
      "cell_type": "markdown",
      "id": "f439e149-e8f1-45c3-bed2-7f5b654b3423",
      "metadata": {
        "id": "f439e149-e8f1-45c3-bed2-7f5b654b3423"
      },
      "source": [
        "#### Preparação dos dados de texto"
      ]
    },
    {
      "cell_type": "code",
      "execution_count": 63,
      "id": "79fe1d9c-d5fe-4940-b4b5-d9c18b3c621d",
      "metadata": {
        "colab": {
          "base_uri": "https://localhost:8080/",
          "height": 293
        },
        "id": "79fe1d9c-d5fe-4940-b4b5-d9c18b3c621d",
        "outputId": "7f99bbd6-26b6-4325-9c10-03fd45541a1f"
      },
      "outputs": [
        {
          "output_type": "execute_result",
          "data": {
            "text/plain": [
              "                                                text sentimento  \\\n",
              "0  i am feeling completely overwhelmed i have two...       fear   \n",
              "1    i have the feeling she was amused and delighted        joy   \n",
              "2  i was able to help chai lifeline with your sup...        joy   \n",
              "3  i already feel like i fucked up though because...      anger   \n",
              "4  i still love my so and wish the best for him i...    sadness   \n",
              "\n",
              "                                     text_processado  \n",
              "0  feel completely overwhelmed strategy help feel...  \n",
              "1                              feeling amuse delight  \n",
              "2  able help chai lifeline support encouragement ...  \n",
              "3             feel like fuck not usually eat morning  \n",
              "4  love wish good long tolerate effect bm life fa...  "
            ],
            "text/html": [
              "\n",
              "  <div id=\"df-9c9d80bd-9f77-47d1-853c-defcd051f99b\" class=\"colab-df-container\">\n",
              "    <div>\n",
              "<style scoped>\n",
              "    .dataframe tbody tr th:only-of-type {\n",
              "        vertical-align: middle;\n",
              "    }\n",
              "\n",
              "    .dataframe tbody tr th {\n",
              "        vertical-align: top;\n",
              "    }\n",
              "\n",
              "    .dataframe thead th {\n",
              "        text-align: right;\n",
              "    }\n",
              "</style>\n",
              "<table border=\"1\" class=\"dataframe\">\n",
              "  <thead>\n",
              "    <tr style=\"text-align: right;\">\n",
              "      <th></th>\n",
              "      <th>text</th>\n",
              "      <th>sentimento</th>\n",
              "      <th>text_processado</th>\n",
              "    </tr>\n",
              "  </thead>\n",
              "  <tbody>\n",
              "    <tr>\n",
              "      <th>0</th>\n",
              "      <td>i am feeling completely overwhelmed i have two...</td>\n",
              "      <td>fear</td>\n",
              "      <td>feel completely overwhelmed strategy help feel...</td>\n",
              "    </tr>\n",
              "    <tr>\n",
              "      <th>1</th>\n",
              "      <td>i have the feeling she was amused and delighted</td>\n",
              "      <td>joy</td>\n",
              "      <td>feeling amuse delight</td>\n",
              "    </tr>\n",
              "    <tr>\n",
              "      <th>2</th>\n",
              "      <td>i was able to help chai lifeline with your sup...</td>\n",
              "      <td>joy</td>\n",
              "      <td>able help chai lifeline support encouragement ...</td>\n",
              "    </tr>\n",
              "    <tr>\n",
              "      <th>3</th>\n",
              "      <td>i already feel like i fucked up though because...</td>\n",
              "      <td>anger</td>\n",
              "      <td>feel like fuck not usually eat morning</td>\n",
              "    </tr>\n",
              "    <tr>\n",
              "      <th>4</th>\n",
              "      <td>i still love my so and wish the best for him i...</td>\n",
              "      <td>sadness</td>\n",
              "      <td>love wish good long tolerate effect bm life fa...</td>\n",
              "    </tr>\n",
              "  </tbody>\n",
              "</table>\n",
              "</div>\n",
              "    <div class=\"colab-df-buttons\">\n",
              "\n",
              "  <div class=\"colab-df-container\">\n",
              "    <button class=\"colab-df-convert\" onclick=\"convertToInteractive('df-9c9d80bd-9f77-47d1-853c-defcd051f99b')\"\n",
              "            title=\"Convert this dataframe to an interactive table.\"\n",
              "            style=\"display:none;\">\n",
              "\n",
              "  <svg xmlns=\"http://www.w3.org/2000/svg\" height=\"24px\" viewBox=\"0 -960 960 960\">\n",
              "    <path d=\"M120-120v-720h720v720H120Zm60-500h600v-160H180v160Zm220 220h160v-160H400v160Zm0 220h160v-160H400v160ZM180-400h160v-160H180v160Zm440 0h160v-160H620v160ZM180-180h160v-160H180v160Zm440 0h160v-160H620v160Z\"/>\n",
              "  </svg>\n",
              "    </button>\n",
              "\n",
              "  <style>\n",
              "    .colab-df-container {\n",
              "      display:flex;\n",
              "      gap: 12px;\n",
              "    }\n",
              "\n",
              "    .colab-df-convert {\n",
              "      background-color: #E8F0FE;\n",
              "      border: none;\n",
              "      border-radius: 50%;\n",
              "      cursor: pointer;\n",
              "      display: none;\n",
              "      fill: #1967D2;\n",
              "      height: 32px;\n",
              "      padding: 0 0 0 0;\n",
              "      width: 32px;\n",
              "    }\n",
              "\n",
              "    .colab-df-convert:hover {\n",
              "      background-color: #E2EBFA;\n",
              "      box-shadow: 0px 1px 2px rgba(60, 64, 67, 0.3), 0px 1px 3px 1px rgba(60, 64, 67, 0.15);\n",
              "      fill: #174EA6;\n",
              "    }\n",
              "\n",
              "    .colab-df-buttons div {\n",
              "      margin-bottom: 4px;\n",
              "    }\n",
              "\n",
              "    [theme=dark] .colab-df-convert {\n",
              "      background-color: #3B4455;\n",
              "      fill: #D2E3FC;\n",
              "    }\n",
              "\n",
              "    [theme=dark] .colab-df-convert:hover {\n",
              "      background-color: #434B5C;\n",
              "      box-shadow: 0px 1px 3px 1px rgba(0, 0, 0, 0.15);\n",
              "      filter: drop-shadow(0px 1px 2px rgba(0, 0, 0, 0.3));\n",
              "      fill: #FFFFFF;\n",
              "    }\n",
              "  </style>\n",
              "\n",
              "    <script>\n",
              "      const buttonEl =\n",
              "        document.querySelector('#df-9c9d80bd-9f77-47d1-853c-defcd051f99b button.colab-df-convert');\n",
              "      buttonEl.style.display =\n",
              "        google.colab.kernel.accessAllowed ? 'block' : 'none';\n",
              "\n",
              "      async function convertToInteractive(key) {\n",
              "        const element = document.querySelector('#df-9c9d80bd-9f77-47d1-853c-defcd051f99b');\n",
              "        const dataTable =\n",
              "          await google.colab.kernel.invokeFunction('convertToInteractive',\n",
              "                                                    [key], {});\n",
              "        if (!dataTable) return;\n",
              "\n",
              "        const docLinkHtml = 'Like what you see? Visit the ' +\n",
              "          '<a target=\"_blank\" href=https://colab.research.google.com/notebooks/data_table.ipynb>data table notebook</a>'\n",
              "          + ' to learn more about interactive tables.';\n",
              "        element.innerHTML = '';\n",
              "        dataTable['output_type'] = 'display_data';\n",
              "        await google.colab.output.renderOutput(dataTable, element);\n",
              "        const docLink = document.createElement('div');\n",
              "        docLink.innerHTML = docLinkHtml;\n",
              "        element.appendChild(docLink);\n",
              "      }\n",
              "    </script>\n",
              "  </div>\n",
              "\n",
              "\n",
              "<div id=\"df-20f96105-3698-4a76-a9fb-fe0c6780bc4c\">\n",
              "  <button class=\"colab-df-quickchart\" onclick=\"quickchart('df-20f96105-3698-4a76-a9fb-fe0c6780bc4c')\"\n",
              "            title=\"Suggest charts\"\n",
              "            style=\"display:none;\">\n",
              "\n",
              "<svg xmlns=\"http://www.w3.org/2000/svg\" height=\"24px\"viewBox=\"0 0 24 24\"\n",
              "     width=\"24px\">\n",
              "    <g>\n",
              "        <path d=\"M19 3H5c-1.1 0-2 .9-2 2v14c0 1.1.9 2 2 2h14c1.1 0 2-.9 2-2V5c0-1.1-.9-2-2-2zM9 17H7v-7h2v7zm4 0h-2V7h2v10zm4 0h-2v-4h2v4z\"/>\n",
              "    </g>\n",
              "</svg>\n",
              "  </button>\n",
              "\n",
              "<style>\n",
              "  .colab-df-quickchart {\n",
              "      --bg-color: #E8F0FE;\n",
              "      --fill-color: #1967D2;\n",
              "      --hover-bg-color: #E2EBFA;\n",
              "      --hover-fill-color: #174EA6;\n",
              "      --disabled-fill-color: #AAA;\n",
              "      --disabled-bg-color: #DDD;\n",
              "  }\n",
              "\n",
              "  [theme=dark] .colab-df-quickchart {\n",
              "      --bg-color: #3B4455;\n",
              "      --fill-color: #D2E3FC;\n",
              "      --hover-bg-color: #434B5C;\n",
              "      --hover-fill-color: #FFFFFF;\n",
              "      --disabled-bg-color: #3B4455;\n",
              "      --disabled-fill-color: #666;\n",
              "  }\n",
              "\n",
              "  .colab-df-quickchart {\n",
              "    background-color: var(--bg-color);\n",
              "    border: none;\n",
              "    border-radius: 50%;\n",
              "    cursor: pointer;\n",
              "    display: none;\n",
              "    fill: var(--fill-color);\n",
              "    height: 32px;\n",
              "    padding: 0;\n",
              "    width: 32px;\n",
              "  }\n",
              "\n",
              "  .colab-df-quickchart:hover {\n",
              "    background-color: var(--hover-bg-color);\n",
              "    box-shadow: 0 1px 2px rgba(60, 64, 67, 0.3), 0 1px 3px 1px rgba(60, 64, 67, 0.15);\n",
              "    fill: var(--button-hover-fill-color);\n",
              "  }\n",
              "\n",
              "  .colab-df-quickchart-complete:disabled,\n",
              "  .colab-df-quickchart-complete:disabled:hover {\n",
              "    background-color: var(--disabled-bg-color);\n",
              "    fill: var(--disabled-fill-color);\n",
              "    box-shadow: none;\n",
              "  }\n",
              "\n",
              "  .colab-df-spinner {\n",
              "    border: 2px solid var(--fill-color);\n",
              "    border-color: transparent;\n",
              "    border-bottom-color: var(--fill-color);\n",
              "    animation:\n",
              "      spin 1s steps(1) infinite;\n",
              "  }\n",
              "\n",
              "  @keyframes spin {\n",
              "    0% {\n",
              "      border-color: transparent;\n",
              "      border-bottom-color: var(--fill-color);\n",
              "      border-left-color: var(--fill-color);\n",
              "    }\n",
              "    20% {\n",
              "      border-color: transparent;\n",
              "      border-left-color: var(--fill-color);\n",
              "      border-top-color: var(--fill-color);\n",
              "    }\n",
              "    30% {\n",
              "      border-color: transparent;\n",
              "      border-left-color: var(--fill-color);\n",
              "      border-top-color: var(--fill-color);\n",
              "      border-right-color: var(--fill-color);\n",
              "    }\n",
              "    40% {\n",
              "      border-color: transparent;\n",
              "      border-right-color: var(--fill-color);\n",
              "      border-top-color: var(--fill-color);\n",
              "    }\n",
              "    60% {\n",
              "      border-color: transparent;\n",
              "      border-right-color: var(--fill-color);\n",
              "    }\n",
              "    80% {\n",
              "      border-color: transparent;\n",
              "      border-right-color: var(--fill-color);\n",
              "      border-bottom-color: var(--fill-color);\n",
              "    }\n",
              "    90% {\n",
              "      border-color: transparent;\n",
              "      border-bottom-color: var(--fill-color);\n",
              "    }\n",
              "  }\n",
              "</style>\n",
              "\n",
              "  <script>\n",
              "    async function quickchart(key) {\n",
              "      const quickchartButtonEl =\n",
              "        document.querySelector('#' + key + ' button');\n",
              "      quickchartButtonEl.disabled = true;  // To prevent multiple clicks.\n",
              "      quickchartButtonEl.classList.add('colab-df-spinner');\n",
              "      try {\n",
              "        const charts = await google.colab.kernel.invokeFunction(\n",
              "            'suggestCharts', [key], {});\n",
              "      } catch (error) {\n",
              "        console.error('Error during call to suggestCharts:', error);\n",
              "      }\n",
              "      quickchartButtonEl.classList.remove('colab-df-spinner');\n",
              "      quickchartButtonEl.classList.add('colab-df-quickchart-complete');\n",
              "    }\n",
              "    (() => {\n",
              "      let quickchartButtonEl =\n",
              "        document.querySelector('#df-20f96105-3698-4a76-a9fb-fe0c6780bc4c button');\n",
              "      quickchartButtonEl.style.display =\n",
              "        google.colab.kernel.accessAllowed ? 'block' : 'none';\n",
              "    })();\n",
              "  </script>\n",
              "</div>\n",
              "\n",
              "    </div>\n",
              "  </div>\n"
            ]
          },
          "metadata": {},
          "execution_count": 63
        }
      ],
      "source": [
        "dados_treino.head()"
      ]
    },
    {
      "cell_type": "code",
      "execution_count": 64,
      "id": "9e5b95e4-d62e-4150-bf59-23ab120cefaa",
      "metadata": {
        "id": "9e5b95e4-d62e-4150-bf59-23ab120cefaa"
      },
      "outputs": [],
      "source": [
        "tokenizador = Tokenizer()"
      ]
    },
    {
      "cell_type": "code",
      "execution_count": 65,
      "id": "bff6410e-ea46-4d82-b162-83eff55f9f3c",
      "metadata": {
        "id": "bff6410e-ea46-4d82-b162-83eff55f9f3c"
      },
      "outputs": [],
      "source": [
        "tokenizador.fit_on_texts(dados_treino['text_processado'])"
      ]
    },
    {
      "cell_type": "code",
      "execution_count": 66,
      "id": "428eb762-68cd-4097-8650-cdb85461e928",
      "metadata": {
        "id": "428eb762-68cd-4097-8650-cdb85461e928"
      },
      "outputs": [],
      "source": [
        "word_index = tokenizador.word_index"
      ]
    },
    {
      "cell_type": "code",
      "execution_count": 67,
      "id": "26886ba3-ebc6-4501-84cb-c9a2e96f6be6",
      "metadata": {
        "colab": {
          "base_uri": "https://localhost:8080/"
        },
        "id": "26886ba3-ebc6-4501-84cb-c9a2e96f6be6",
        "outputId": "8715b261-e623-42c5-85da-4cd3fd5cf482"
      },
      "outputs": [
        {
          "output_type": "execute_result",
          "data": {
            "text/plain": [
              "11897"
            ]
          },
          "metadata": {},
          "execution_count": 67
        }
      ],
      "source": [
        "len(word_index)"
      ]
    },
    {
      "cell_type": "code",
      "execution_count": 68,
      "id": "be23ee87-d3cc-4c83-8bb0-58162921f659",
      "metadata": {
        "colab": {
          "base_uri": "https://localhost:8080/"
        },
        "id": "be23ee87-d3cc-4c83-8bb0-58162921f659",
        "outputId": "762760c3-e9c1-4529-dfa6-03b202e9201c"
      },
      "outputs": [
        {
          "output_type": "stream",
          "name": "stdout",
          "text": [
            "feel 1\n",
            "like 2\n",
            "m 3\n",
            "not 4\n",
            "feeling 5\n",
            "know 6\n",
            "time 7\n",
            "t 8\n",
            "want 9\n",
            "think 10\n"
          ]
        }
      ],
      "source": [
        "for i, (chave, valor) in enumerate(word_index.items()):\n",
        "    print(chave, valor)\n",
        "    if i == 9:\n",
        "        break"
      ]
    },
    {
      "cell_type": "code",
      "execution_count": 69,
      "id": "f4a678d7-306a-4cab-82ee-3e2b8dc333d2",
      "metadata": {
        "id": "f4a678d7-306a-4cab-82ee-3e2b8dc333d2"
      },
      "outputs": [],
      "source": [
        "sequencias_treino = tokenizador.texts_to_sequences(dados_treino['text_processado'])"
      ]
    },
    {
      "cell_type": "code",
      "execution_count": 70,
      "id": "b581bf35-15cb-44fa-a2ae-59df545c5389",
      "metadata": {
        "id": "b581bf35-15cb-44fa-a2ae-59df545c5389"
      },
      "outputs": [],
      "source": [
        "max_lenght = 100"
      ]
    },
    {
      "cell_type": "code",
      "execution_count": 71,
      "id": "4721bb94-b961-4b92-803a-083bbfa95138",
      "metadata": {
        "id": "4721bb94-b961-4b92-803a-083bbfa95138"
      },
      "outputs": [],
      "source": [
        "sequencias_treino_padded = pad_sequences(sequencias_treino, maxlen = max_lenght,\n",
        "                                         truncating = 'post')"
      ]
    },
    {
      "cell_type": "code",
      "execution_count": 72,
      "id": "3f0a162e-89ab-48e1-8f81-e1be8c74e5a5",
      "metadata": {
        "id": "3f0a162e-89ab-48e1-8f81-e1be8c74e5a5"
      },
      "outputs": [],
      "source": [
        "sequencias_teste = tokenizador.texts_to_sequences(dados_teste['text_processado'])"
      ]
    },
    {
      "cell_type": "code",
      "execution_count": 73,
      "id": "04e70b25-0659-4801-b7bc-3ca3210ec03a",
      "metadata": {
        "id": "04e70b25-0659-4801-b7bc-3ca3210ec03a"
      },
      "outputs": [],
      "source": [
        "sequencias_teste_padded = pad_sequences(sequencias_teste, maxlen = max_lenght)"
      ]
    },
    {
      "cell_type": "code",
      "execution_count": 74,
      "id": "6fdec28b-79bf-4bb0-9351-d821ef02b120",
      "metadata": {
        "id": "6fdec28b-79bf-4bb0-9351-d821ef02b120"
      },
      "outputs": [],
      "source": [
        "le_v2 = LabelEncoder()"
      ]
    },
    {
      "cell_type": "code",
      "execution_count": 75,
      "id": "0a121b01-f445-41c7-8905-c531fd2512af",
      "metadata": {
        "id": "0a121b01-f445-41c7-8905-c531fd2512af"
      },
      "outputs": [],
      "source": [
        "y_treino_le = le_v2.fit_transform(dados_treino['sentimento'])"
      ]
    },
    {
      "cell_type": "code",
      "execution_count": 76,
      "id": "2a040b74-a15e-47c3-b37d-607f028dc4ce",
      "metadata": {
        "id": "2a040b74-a15e-47c3-b37d-607f028dc4ce"
      },
      "outputs": [],
      "source": [
        "y_teste_le = le_v2.transform(dados_teste['sentimento'])"
      ]
    },
    {
      "cell_type": "code",
      "execution_count": 77,
      "id": "dd900204-eac1-4135-b52a-874df1b4cee6",
      "metadata": {
        "id": "dd900204-eac1-4135-b52a-874df1b4cee6"
      },
      "outputs": [],
      "source": [
        "y_treino_encoded = to_categorical(y_treino_le)\n",
        "y_teste_encoded = to_categorical(y_teste_le)"
      ]
    },
    {
      "cell_type": "code",
      "execution_count": 78,
      "id": "cdaa494a-7e22-4fec-adf8-db0085f05b18",
      "metadata": {
        "id": "cdaa494a-7e22-4fec-adf8-db0085f05b18"
      },
      "outputs": [],
      "source": [
        "vocab_size = len(tokenizador.word_index) + 1"
      ]
    },
    {
      "cell_type": "code",
      "execution_count": 79,
      "id": "fdb3792e-5328-40d2-b900-83ce6790dc2a",
      "metadata": {
        "colab": {
          "base_uri": "https://localhost:8080/"
        },
        "id": "fdb3792e-5328-40d2-b900-83ce6790dc2a",
        "outputId": "5b548025-a8de-45a1-ccef-c1aa5e045d93"
      },
      "outputs": [
        {
          "output_type": "stream",
          "name": "stdout",
          "text": [
            "11898\n"
          ]
        }
      ],
      "source": [
        "print(vocab_size)"
      ]
    },
    {
      "cell_type": "code",
      "execution_count": 80,
      "id": "0753f92b-e813-4624-bed1-f295d60e4d9a",
      "metadata": {
        "id": "0753f92b-e813-4624-bed1-f295d60e4d9a"
      },
      "outputs": [],
      "source": [
        "embedding_dim = max_lenght"
      ]
    },
    {
      "cell_type": "markdown",
      "id": "8ebffdf0-4778-4eea-a3a1-8a1d881b75fb",
      "metadata": {
        "id": "8ebffdf0-4778-4eea-a3a1-8a1d881b75fb"
      },
      "source": [
        "### Construção do Modelo 2"
      ]
    },
    {
      "cell_type": "code",
      "execution_count": 81,
      "id": "b26fb0a2-1f00-4c99-aefe-ec5945360865",
      "metadata": {
        "id": "b26fb0a2-1f00-4c99-aefe-ec5945360865"
      },
      "outputs": [],
      "source": [
        "modelo_v2 = tf.keras.Sequential([Embedding(vocab_size, embedding_dim, input_length = max_lenght),\n",
        "                                 Bidirectional(LSTM(64)),\n",
        "                                 Dropout(0.4),\n",
        "                                 Dense(32, activation = 'leaky_relu', kernel_regularizer = 'l1_l2'),\n",
        "                                 Dropout(0.4),\n",
        "                                 Dense(6, activation = 'softmax')])"
      ]
    },
    {
      "cell_type": "code",
      "execution_count": 82,
      "id": "3d926a8a-1a07-49b4-b96d-ad7a1ebf9b6b",
      "metadata": {
        "id": "3d926a8a-1a07-49b4-b96d-ad7a1ebf9b6b"
      },
      "outputs": [],
      "source": [
        "modelo_v2.compile(loss = 'categorical_crossentropy',\n",
        "                  optimizer = 'adam',\n",
        "                  metrics = ['accuracy', Precision(), Recall(), AUC()])"
      ]
    },
    {
      "cell_type": "code",
      "execution_count": 83,
      "id": "88112453-f480-4460-bff6-080eb8a58356",
      "metadata": {
        "colab": {
          "base_uri": "https://localhost:8080/"
        },
        "id": "88112453-f480-4460-bff6-080eb8a58356",
        "outputId": "b9fe821a-d7a3-4cc1-e6a1-b5ba7ecebadb"
      },
      "outputs": [
        {
          "output_type": "stream",
          "name": "stdout",
          "text": [
            "Model: \"sequential_1\"\n",
            "_________________________________________________________________\n",
            " Layer (type)                Output Shape              Param #   \n",
            "=================================================================\n",
            " embedding (Embedding)       (None, 100, 100)          1189800   \n",
            "                                                                 \n",
            " bidirectional (Bidirection  (None, 128)               84480     \n",
            " al)                                                             \n",
            "                                                                 \n",
            " dropout (Dropout)           (None, 128)               0         \n",
            "                                                                 \n",
            " dense_5 (Dense)             (None, 32)                4128      \n",
            "                                                                 \n",
            " dropout_1 (Dropout)         (None, 32)                0         \n",
            "                                                                 \n",
            " dense_6 (Dense)             (None, 6)                 198       \n",
            "                                                                 \n",
            "=================================================================\n",
            "Total params: 1278606 (4.88 MB)\n",
            "Trainable params: 1278606 (4.88 MB)\n",
            "Non-trainable params: 0 (0.00 Byte)\n",
            "_________________________________________________________________\n",
            "None\n"
          ]
        }
      ],
      "source": [
        "print(modelo_v2.summary())"
      ]
    },
    {
      "cell_type": "code",
      "execution_count": 84,
      "id": "b17f4797-54aa-477e-b242-0f27b9c6c7ab",
      "metadata": {
        "id": "b17f4797-54aa-477e-b242-0f27b9c6c7ab"
      },
      "outputs": [],
      "source": [
        "dados_entrada = np.array(sequencias_treino_padded)"
      ]
    },
    {
      "cell_type": "code",
      "execution_count": 85,
      "id": "ac4b9060-b626-4f01-8e7c-a24f9fd9b74c",
      "metadata": {
        "id": "ac4b9060-b626-4f01-8e7c-a24f9fd9b74c"
      },
      "outputs": [],
      "source": [
        "dados_saida = np.array(y_treino_encoded)"
      ]
    },
    {
      "cell_type": "code",
      "execution_count": 86,
      "id": "90ce9d5e-78c2-45dc-aff0-28f2805b53c1",
      "metadata": {
        "id": "90ce9d5e-78c2-45dc-aff0-28f2805b53c1"
      },
      "outputs": [],
      "source": [
        "num_epochs = 35\n",
        "validation_split_value = 0.2\n",
        "paciencia = 5"
      ]
    },
    {
      "cell_type": "markdown",
      "id": "12fcef11-b20b-499d-a802-a672d020ee88",
      "metadata": {
        "id": "12fcef11-b20b-499d-a802-a672d020ee88"
      },
      "source": [
        "#### Early Stopping"
      ]
    },
    {
      "cell_type": "code",
      "execution_count": 87,
      "id": "d064dd72-c36c-4e52-920b-d769c65d2d46",
      "metadata": {
        "id": "d064dd72-c36c-4e52-920b-d769c65d2d46"
      },
      "outputs": [],
      "source": [
        "early_stopping = tf.keras.callbacks.EarlyStopping(patience = paciencia)"
      ]
    },
    {
      "cell_type": "markdown",
      "id": "3bb40d73-16af-4a89-8167-a01166a57236",
      "metadata": {
        "id": "3bb40d73-16af-4a89-8167-a01166a57236"
      },
      "source": [
        "### Treinamento do Modelo"
      ]
    },
    {
      "cell_type": "code",
      "execution_count": 88,
      "id": "43802d6f-e08d-4f61-b3ce-dbe1bd4360e7",
      "metadata": {
        "colab": {
          "base_uri": "https://localhost:8080/"
        },
        "id": "43802d6f-e08d-4f61-b3ce-dbe1bd4360e7",
        "outputId": "0d927f46-6a26-4454-f7e3-cdf0a32d6c79"
      },
      "outputs": [
        {
          "output_type": "stream",
          "name": "stdout",
          "text": [
            "Epoch 1/35\n",
            "400/400 [==============================] - 30s 60ms/step - loss: 2.4435 - accuracy: 0.3306 - precision_1: 0.5299 - recall_1: 0.0055 - auc_1: 0.7097 - val_loss: 1.5501 - val_accuracy: 0.3553 - val_precision_1: 0.8906 - val_recall_1: 0.0356 - val_auc_1: 0.7709\n",
            "Epoch 2/35\n",
            "400/400 [==============================] - 7s 18ms/step - loss: 1.2805 - accuracy: 0.5687 - precision_1: 0.8782 - recall_1: 0.3521 - auc_1: 0.8615 - val_loss: 0.9756 - val_accuracy: 0.7016 - val_precision_1: 0.9038 - val_recall_1: 0.5581 - val_auc_1: 0.9335\n",
            "Epoch 3/35\n",
            "400/400 [==============================] - 9s 22ms/step - loss: 0.8609 - accuracy: 0.7316 - precision_1: 0.9396 - recall_1: 0.5792 - auc_1: 0.9543 - val_loss: 0.7922 - val_accuracy: 0.7434 - val_precision_1: 0.9157 - val_recall_1: 0.5634 - val_auc_1: 0.9599\n",
            "Epoch 4/35\n",
            "400/400 [==============================] - 6s 16ms/step - loss: 0.6817 - accuracy: 0.7820 - precision_1: 0.9124 - recall_1: 0.6515 - auc_1: 0.9735 - val_loss: 0.7440 - val_accuracy: 0.7494 - val_precision_1: 0.8221 - val_recall_1: 0.6891 - val_auc_1: 0.9629\n",
            "Epoch 5/35\n",
            "400/400 [==============================] - 7s 17ms/step - loss: 0.6023 - accuracy: 0.8013 - precision_1: 0.9047 - recall_1: 0.6944 - auc_1: 0.9797 - val_loss: 0.7348 - val_accuracy: 0.7578 - val_precision_1: 0.8919 - val_recall_1: 0.6241 - val_auc_1: 0.9625\n",
            "Epoch 6/35\n",
            "400/400 [==============================] - 5s 13ms/step - loss: 0.5449 - accuracy: 0.8211 - precision_1: 0.9057 - recall_1: 0.7257 - auc_1: 0.9831 - val_loss: 0.7086 - val_accuracy: 0.7719 - val_precision_1: 0.8307 - val_recall_1: 0.6978 - val_auc_1: 0.9648\n",
            "Epoch 7/35\n",
            "400/400 [==============================] - 7s 16ms/step - loss: 0.5113 - accuracy: 0.8291 - precision_1: 0.9018 - recall_1: 0.7389 - auc_1: 0.9850 - val_loss: 0.7214 - val_accuracy: 0.7750 - val_precision_1: 0.8967 - val_recall_1: 0.6403 - val_auc_1: 0.9639\n",
            "Epoch 8/35\n",
            "400/400 [==============================] - 6s 15ms/step - loss: 0.4858 - accuracy: 0.8455 - precision_1: 0.9091 - recall_1: 0.7595 - auc_1: 0.9865 - val_loss: 0.6974 - val_accuracy: 0.7722 - val_precision_1: 0.8211 - val_recall_1: 0.7141 - val_auc_1: 0.9668\n",
            "Epoch 9/35\n",
            "400/400 [==============================] - 6s 15ms/step - loss: 0.4578 - accuracy: 0.8509 - precision_1: 0.8984 - recall_1: 0.7833 - auc_1: 0.9881 - val_loss: 0.6833 - val_accuracy: 0.7781 - val_precision_1: 0.8259 - val_recall_1: 0.7203 - val_auc_1: 0.9658\n",
            "Epoch 10/35\n",
            "400/400 [==============================] - 7s 17ms/step - loss: 0.4275 - accuracy: 0.8642 - precision_1: 0.9110 - recall_1: 0.7941 - auc_1: 0.9899 - val_loss: 0.7246 - val_accuracy: 0.8084 - val_precision_1: 0.8365 - val_recall_1: 0.7788 - val_auc_1: 0.9641\n",
            "Epoch 11/35\n",
            "400/400 [==============================] - 5s 13ms/step - loss: 0.4147 - accuracy: 0.8927 - precision_1: 0.9246 - recall_1: 0.8435 - auc_1: 0.9917 - val_loss: 0.6467 - val_accuracy: 0.8584 - val_precision_1: 0.8836 - val_recall_1: 0.8444 - val_auc_1: 0.9720\n",
            "Epoch 12/35\n",
            "400/400 [==============================] - 6s 16ms/step - loss: 0.3712 - accuracy: 0.9365 - precision_1: 0.9505 - recall_1: 0.9130 - auc_1: 0.9947 - val_loss: 0.6135 - val_accuracy: 0.8728 - val_precision_1: 0.8878 - val_recall_1: 0.8653 - val_auc_1: 0.9729\n",
            "Epoch 13/35\n",
            "400/400 [==============================] - 6s 15ms/step - loss: 0.3280 - accuracy: 0.9503 - precision_1: 0.9615 - recall_1: 0.9354 - auc_1: 0.9961 - val_loss: 0.6072 - val_accuracy: 0.8697 - val_precision_1: 0.8826 - val_recall_1: 0.8644 - val_auc_1: 0.9747\n",
            "Epoch 14/35\n",
            "400/400 [==============================] - 5s 14ms/step - loss: 0.2894 - accuracy: 0.9630 - precision_1: 0.9700 - recall_1: 0.9506 - auc_1: 0.9974 - val_loss: 0.6328 - val_accuracy: 0.8778 - val_precision_1: 0.8869 - val_recall_1: 0.8728 - val_auc_1: 0.9706\n",
            "Epoch 15/35\n",
            "400/400 [==============================] - 7s 18ms/step - loss: 0.2742 - accuracy: 0.9674 - precision_1: 0.9733 - recall_1: 0.9573 - auc_1: 0.9974 - val_loss: 0.6081 - val_accuracy: 0.8763 - val_precision_1: 0.8862 - val_recall_1: 0.8712 - val_auc_1: 0.9741\n",
            "Epoch 16/35\n",
            "400/400 [==============================] - 6s 14ms/step - loss: 0.2555 - accuracy: 0.9691 - precision_1: 0.9756 - recall_1: 0.9611 - auc_1: 0.9982 - val_loss: 0.6175 - val_accuracy: 0.8806 - val_precision_1: 0.8909 - val_recall_1: 0.8781 - val_auc_1: 0.9714\n",
            "Epoch 17/35\n",
            "400/400 [==============================] - 6s 15ms/step - loss: 0.2529 - accuracy: 0.9706 - precision_1: 0.9769 - recall_1: 0.9610 - auc_1: 0.9980 - val_loss: 0.6082 - val_accuracy: 0.8822 - val_precision_1: 0.8898 - val_recall_1: 0.8778 - val_auc_1: 0.9732\n",
            "Epoch 18/35\n",
            "400/400 [==============================] - 6s 14ms/step - loss: 0.2328 - accuracy: 0.9759 - precision_1: 0.9799 - recall_1: 0.9691 - auc_1: 0.9985 - val_loss: 0.6313 - val_accuracy: 0.8806 - val_precision_1: 0.8871 - val_recall_1: 0.8737 - val_auc_1: 0.9701\n"
          ]
        }
      ],
      "source": [
        "history = modelo_v2.fit(dados_entrada,\n",
        "                        dados_saida,\n",
        "                        epochs = num_epochs,\n",
        "                        verbose = 1,\n",
        "                        validation_split = validation_split_value,\n",
        "                        callbacks = [early_stopping])"
      ]
    },
    {
      "cell_type": "code",
      "execution_count": 89,
      "id": "5bb3827f-20b4-4f3c-aeca-6ce7bbc80040",
      "metadata": {
        "colab": {
          "base_uri": "https://localhost:8080/",
          "height": 430
        },
        "id": "5bb3827f-20b4-4f3c-aeca-6ce7bbc80040",
        "outputId": "f85e1991-dbb3-443d-d678-c51f121ecc49"
      },
      "outputs": [
        {
          "output_type": "display_data",
          "data": {
            "text/plain": [
              "<Figure size 640x480 with 1 Axes>"
            ],
            "image/png": "[encoded data removed]"
          },
          "metadata": {}
        }
      ],
      "source": [
        "loss, val_loss = history.history['loss'], history.history['val_loss']\n",
        "plt.plot(loss, label = 'Erro em Treino')\n",
        "plt.plot(val_loss, label = 'Erro em Validação')\n",
        "plt.legend()\n",
        "plt.show()"
      ]
    },
    {
      "cell_type": "code",
      "execution_count": 90,
      "id": "ff12bf04-9088-4c6e-8c8c-5d6601960d75",
      "metadata": {
        "colab": {
          "base_uri": "https://localhost:8080/"
        },
        "id": "ff12bf04-9088-4c6e-8c8c-5d6601960d75",
        "outputId": "6ef6c372-716c-44aa-89b4-63c678ea16f1"
      },
      "outputs": [
        {
          "output_type": "stream",
          "name": "stdout",
          "text": [
            "63/63 [==============================] - 1s 6ms/step\n"
          ]
        }
      ],
      "source": [
        "previsoes = modelo_v2.predict(sequencias_teste_padded)"
      ]
    },
    {
      "cell_type": "code",
      "execution_count": 91,
      "id": "6539bfe5-e41b-46d5-acde-345f1facfa7b",
      "metadata": {
        "id": "6539bfe5-e41b-46d5-acde-345f1facfa7b"
      },
      "outputs": [],
      "source": [
        "labels_previstos = previsoes.argmax(axis = 1)"
      ]
    },
    {
      "cell_type": "code",
      "execution_count": 92,
      "id": "a0a810c9-719a-4c79-bd9a-2390d2821bdc",
      "metadata": {
        "colab": {
          "base_uri": "https://localhost:8080/"
        },
        "id": "a0a810c9-719a-4c79-bd9a-2390d2821bdc",
        "outputId": "40cb7675-5072-4214-cc87-a492055281f7"
      },
      "outputs": [
        {
          "output_type": "stream",
          "name": "stdout",
          "text": [
            "              precision    recall  f1-score   support\n",
            "\n",
            "           0       0.91      0.89      0.90       275\n",
            "           1       0.86      0.88      0.87       224\n",
            "           2       0.89      0.93      0.91       695\n",
            "           3       0.75      0.64      0.69       159\n",
            "           4       0.93      0.93      0.93       581\n",
            "           5       0.75      0.67      0.70        66\n",
            "\n",
            "    accuracy                           0.89      2000\n",
            "   macro avg       0.85      0.82      0.83      2000\n",
            "weighted avg       0.88      0.89      0.88      2000\n",
            "\n"
          ]
        }
      ],
      "source": [
        "print(classification_report(y_teste_le, labels_previstos))"
      ]
    },
    {
      "cell_type": "code",
      "execution_count": 93,
      "id": "06703c3d-4918-4945-88fa-e04e1201ea56",
      "metadata": {
        "colab": {
          "base_uri": "https://localhost:8080/",
          "height": 430
        },
        "id": "06703c3d-4918-4945-88fa-e04e1201ea56",
        "outputId": "a4db5de7-52ea-48e0-b9b4-a4fb32a8ae35"
      },
      "outputs": [
        {
          "output_type": "display_data",
          "data": {
            "text/plain": [
              "<Figure size 640x480 with 2 Axes>"
            ],
            "image/png": "[encoded data removed]"
          },
          "metadata": {}
        }
      ],
      "source": [
        "cm = confusion_matrix(y_teste_le, labels_previstos)\n",
        "sns.heatmap(cm, annot = True);"
      ]
    },
    {
      "cell_type": "code",
      "execution_count": 94,
      "id": "ee95b79e-cc33-4fc7-9aa9-60e39198cb15",
      "metadata": {
        "colab": {
          "base_uri": "https://localhost:8080/"
        },
        "id": "ee95b79e-cc33-4fc7-9aa9-60e39198cb15",
        "outputId": "eb279f8d-2090-4a6e-875c-5779d154c736"
      },
      "outputs": [
        {
          "output_type": "stream",
          "name": "stdout",
          "text": [
            "0.8865\n"
          ]
        }
      ],
      "source": [
        "print(accuracy_score(y_teste_le, labels_previstos))"
      ]
    },
    {
      "cell_type": "code",
      "execution_count": 95,
      "id": "f54d7418-e1ed-4133-aff0-92d8c33d9f17",
      "metadata": {
        "id": "f54d7418-e1ed-4133-aff0-92d8c33d9f17"
      },
      "outputs": [],
      "source": [
        "modelo_v2.save('modelo_v2.keras')"
      ]
    },
    {
      "cell_type": "markdown",
      "id": "3f8c4e35-47e2-47d0-9258-d8562e773075",
      "metadata": {
        "id": "3f8c4e35-47e2-47d0-9258-d8562e773075"
      },
      "source": [
        "### Deploy da Versão 2 do Modelo"
      ]
    },
    {
      "cell_type": "code",
      "execution_count": 96,
      "id": "869cfc69-31d7-45a6-af11-182a71d6c88d",
      "metadata": {
        "id": "869cfc69-31d7-45a6-af11-182a71d6c88d"
      },
      "outputs": [],
      "source": [
        "modelo_carregado = load_model('modelo_v2.keras')"
      ]
    },
    {
      "cell_type": "code",
      "execution_count": 97,
      "id": "652d8794-c2b0-4b37-904f-8f1eb9849b02",
      "metadata": {
        "id": "652d8794-c2b0-4b37-904f-8f1eb9849b02"
      },
      "outputs": [],
      "source": [
        "frase = 'I even feel a little shaky'"
      ]
    },
    {
      "cell_type": "code",
      "execution_count": 98,
      "id": "e6605156-44d1-4462-9e75-3476fe92c34d",
      "metadata": {
        "id": "e6605156-44d1-4462-9e75-3476fe92c34d"
      },
      "outputs": [],
      "source": [
        "df_novo = pd.DataFrame({'Frase': [frase]})"
      ]
    },
    {
      "cell_type": "code",
      "execution_count": 99,
      "id": "8e32a4b6-068b-45d7-a39e-c1ec805ee213",
      "metadata": {
        "id": "8e32a4b6-068b-45d7-a39e-c1ec805ee213"
      },
      "outputs": [],
      "source": [
        "df_novo['Frase_processada'] = df_novo['Frase'].apply(preprocessa_texto)"
      ]
    },
    {
      "cell_type": "code",
      "execution_count": 100,
      "id": "85a5a9ce-6b90-4e5a-9dc2-2c475d46508e",
      "metadata": {
        "id": "85a5a9ce-6b90-4e5a-9dc2-2c475d46508e"
      },
      "outputs": [],
      "source": [
        "sequencias_novos = tokenizador.texts_to_sequences(df_novo['Frase_processada'])\n",
        "sequencias_novos_padded = pad_sequences(sequencias_novos, maxlen = max_lenght)"
      ]
    },
    {
      "cell_type": "code",
      "execution_count": 101,
      "id": "cadac394-412f-4ce9-8e81-5a0aca708b34",
      "metadata": {
        "colab": {
          "base_uri": "https://localhost:8080/"
        },
        "id": "cadac394-412f-4ce9-8e81-5a0aca708b34",
        "outputId": "ea295a8e-0e60-4287-848b-48633f1ec9f9"
      },
      "outputs": [
        {
          "output_type": "stream",
          "name": "stdout",
          "text": [
            "1/1 [==============================] - 1s 644ms/step\n"
          ]
        }
      ],
      "source": [
        "previsoes = modelo_carregado.predict(sequencias_novos_padded)"
      ]
    },
    {
      "cell_type": "code",
      "execution_count": 102,
      "id": "4c9bb164-483d-4e97-86d7-fdaea67d04d2",
      "metadata": {
        "id": "4c9bb164-483d-4e97-86d7-fdaea67d04d2"
      },
      "outputs": [],
      "source": [
        "classe_maior_prob = np.argmax(previsoes, axis = 1)"
      ]
    },
    {
      "cell_type": "code",
      "execution_count": 103,
      "id": "aae44fcc-d520-4c0b-a870-b7b2a60c8af0",
      "metadata": {
        "colab": {
          "base_uri": "https://localhost:8080/"
        },
        "id": "aae44fcc-d520-4c0b-a870-b7b2a60c8af0",
        "outputId": "4016d90b-7834-4b2a-e3bd-a02c60466198"
      },
      "outputs": [
        {
          "output_type": "execute_result",
          "data": {
            "text/plain": [
              "array([1])"
            ]
          },
          "metadata": {},
          "execution_count": 103
        }
      ],
      "source": [
        "classe_maior_prob"
      ]
    },
    {
      "cell_type": "code",
      "execution_count": 104,
      "id": "9f960b08-e784-4996-a413-656f50ec9249",
      "metadata": {
        "id": "9f960b08-e784-4996-a413-656f50ec9249"
      },
      "outputs": [],
      "source": [
        "nome_classe = le_v2.inverse_transform(classe_maior_prob)"
      ]
    },
    {
      "cell_type": "code",
      "execution_count": 105,
      "id": "f1c14263-01ac-43bb-a036-4a33c59d5668",
      "metadata": {
        "colab": {
          "base_uri": "https://localhost:8080/"
        },
        "id": "f1c14263-01ac-43bb-a036-4a33c59d5668",
        "outputId": "88471e46-0f6a-4e79-f40b-1b934ca0d7ad"
      },
      "outputs": [
        {
          "output_type": "execute_result",
          "data": {
            "text/plain": [
              "array(['fear'], dtype=object)"
            ]
          },
          "metadata": {},
          "execution_count": 105
        }
      ],
      "source": [
        "nome_classe"
      ]
    },
    {
      "cell_type": "markdown",
      "id": "f5f452d0-6700-4fce-9ffc-fd577df32b12",
      "metadata": {
        "id": "f5f452d0-6700-4fce-9ffc-fd577df32b12"
      },
      "source": [
        "## Modelo Versão 3 - Fine Tuning de Modelo Transformer Pré-Treinado"
      ]
    },
    {
      "cell_type": "code",
      "execution_count": 106,
      "id": "b875b50e-9c28-480b-b7a8-97e78e047753",
      "metadata": {
        "colab": {
          "base_uri": "https://localhost:8080/",
          "height": 293
        },
        "id": "b875b50e-9c28-480b-b7a8-97e78e047753",
        "outputId": "a730875d-f66d-434e-8dcd-a24821d2fbaa"
      },
      "outputs": [
        {
          "output_type": "execute_result",
          "data": {
            "text/plain": [
              "                                                text sentimento  \\\n",
              "0  i am feeling completely overwhelmed i have two...       fear   \n",
              "1    i have the feeling she was amused and delighted        joy   \n",
              "2  i was able to help chai lifeline with your sup...        joy   \n",
              "3  i already feel like i fucked up though because...      anger   \n",
              "4  i still love my so and wish the best for him i...    sadness   \n",
              "\n",
              "                                     text_processado  \n",
              "0  feel completely overwhelmed strategy help feel...  \n",
              "1                              feeling amuse delight  \n",
              "2  able help chai lifeline support encouragement ...  \n",
              "3             feel like fuck not usually eat morning  \n",
              "4  love wish good long tolerate effect bm life fa...  "
            ],
            "text/html": [
              "\n",
              "  <div id=\"df-634ccbf3-2447-465f-bab5-3c642407bee2\" class=\"colab-df-container\">\n",
              "    <div>\n",
              "<style scoped>\n",
              "    .dataframe tbody tr th:only-of-type {\n",
              "        vertical-align: middle;\n",
              "    }\n",
              "\n",
              "    .dataframe tbody tr th {\n",
              "        vertical-align: top;\n",
              "    }\n",
              "\n",
              "    .dataframe thead th {\n",
              "        text-align: right;\n",
              "    }\n",
              "</style>\n",
              "<table border=\"1\" class=\"dataframe\">\n",
              "  <thead>\n",
              "    <tr style=\"text-align: right;\">\n",
              "      <th></th>\n",
              "      <th>text</th>\n",
              "      <th>sentimento</th>\n",
              "      <th>text_processado</th>\n",
              "    </tr>\n",
              "  </thead>\n",
              "  <tbody>\n",
              "    <tr>\n",
              "      <th>0</th>\n",
              "      <td>i am feeling completely overwhelmed i have two...</td>\n",
              "      <td>fear</td>\n",
              "      <td>feel completely overwhelmed strategy help feel...</td>\n",
              "    </tr>\n",
              "    <tr>\n",
              "      <th>1</th>\n",
              "      <td>i have the feeling she was amused and delighted</td>\n",
              "      <td>joy</td>\n",
              "      <td>feeling amuse delight</td>\n",
              "    </tr>\n",
              "    <tr>\n",
              "      <th>2</th>\n",
              "      <td>i was able to help chai lifeline with your sup...</td>\n",
              "      <td>joy</td>\n",
              "      <td>able help chai lifeline support encouragement ...</td>\n",
              "    </tr>\n",
              "    <tr>\n",
              "      <th>3</th>\n",
              "      <td>i already feel like i fucked up though because...</td>\n",
              "      <td>anger</td>\n",
              "      <td>feel like fuck not usually eat morning</td>\n",
              "    </tr>\n",
              "    <tr>\n",
              "      <th>4</th>\n",
              "      <td>i still love my so and wish the best for him i...</td>\n",
              "      <td>sadness</td>\n",
              "      <td>love wish good long tolerate effect bm life fa...</td>\n",
              "    </tr>\n",
              "  </tbody>\n",
              "</table>\n",
              "</div>\n",
              "    <div class=\"colab-df-buttons\">\n",
              "\n",
              "  <div class=\"colab-df-container\">\n",
              "    <button class=\"colab-df-convert\" onclick=\"convertToInteractive('df-634ccbf3-2447-465f-bab5-3c642407bee2')\"\n",
              "            title=\"Convert this dataframe to an interactive table.\"\n",
              "            style=\"display:none;\">\n",
              "\n",
              "  <svg xmlns=\"http://www.w3.org/2000/svg\" height=\"24px\" viewBox=\"0 -960 960 960\">\n",
              "    <path d=\"M120-120v-720h720v720H120Zm60-500h600v-160H180v160Zm220 220h160v-160H400v160Zm0 220h160v-160H400v160ZM180-400h160v-160H180v160Zm440 0h160v-160H620v160ZM180-180h160v-160H180v160Zm440 0h160v-160H620v160Z\"/>\n",
              "  </svg>\n",
              "    </button>\n",
              "\n",
              "  <style>\n",
              "    .colab-df-container {\n",
              "      display:flex;\n",
              "      gap: 12px;\n",
              "    }\n",
              "\n",
              "    .colab-df-convert {\n",
              "      background-color: #E8F0FE;\n",
              "      border: none;\n",
              "      border-radius: 50%;\n",
              "      cursor: pointer;\n",
              "      display: none;\n",
              "      fill: #1967D2;\n",
              "      height: 32px;\n",
              "      padding: 0 0 0 0;\n",
              "      width: 32px;\n",
              "    }\n",
              "\n",
              "    .colab-df-convert:hover {\n",
              "      background-color: #E2EBFA;\n",
              "      box-shadow: 0px 1px 2px rgba(60, 64, 67, 0.3), 0px 1px 3px 1px rgba(60, 64, 67, 0.15);\n",
              "      fill: #174EA6;\n",
              "    }\n",
              "\n",
              "    .colab-df-buttons div {\n",
              "      margin-bottom: 4px;\n",
              "    }\n",
              "\n",
              "    [theme=dark] .colab-df-convert {\n",
              "      background-color: #3B4455;\n",
              "      fill: #D2E3FC;\n",
              "    }\n",
              "\n",
              "    [theme=dark] .colab-df-convert:hover {\n",
              "      background-color: #434B5C;\n",
              "      box-shadow: 0px 1px 3px 1px rgba(0, 0, 0, 0.15);\n",
              "      filter: drop-shadow(0px 1px 2px rgba(0, 0, 0, 0.3));\n",
              "      fill: #FFFFFF;\n",
              "    }\n",
              "  </style>\n",
              "\n",
              "    <script>\n",
              "      const buttonEl =\n",
              "        document.querySelector('#df-634ccbf3-2447-465f-bab5-3c642407bee2 button.colab-df-convert');\n",
              "      buttonEl.style.display =\n",
              "        google.colab.kernel.accessAllowed ? 'block' : 'none';\n",
              "\n",
              "      async function convertToInteractive(key) {\n",
              "        const element = document.querySelector('#df-634ccbf3-2447-465f-bab5-3c642407bee2');\n",
              "        const dataTable =\n",
              "          await google.colab.kernel.invokeFunction('convertToInteractive',\n",
              "                                                    [key], {});\n",
              "        if (!dataTable) return;\n",
              "\n",
              "        const docLinkHtml = 'Like what you see? Visit the ' +\n",
              "          '<a target=\"_blank\" href=https://colab.research.google.com/notebooks/data_table.ipynb>data table notebook</a>'\n",
              "          + ' to learn more about interactive tables.';\n",
              "        element.innerHTML = '';\n",
              "        dataTable['output_type'] = 'display_data';\n",
              "        await google.colab.output.renderOutput(dataTable, element);\n",
              "        const docLink = document.createElement('div');\n",
              "        docLink.innerHTML = docLinkHtml;\n",
              "        element.appendChild(docLink);\n",
              "      }\n",
              "    </script>\n",
              "  </div>\n",
              "\n",
              "\n",
              "<div id=\"df-0ff9742d-f92d-442b-a923-b20691dee7c3\">\n",
              "  <button class=\"colab-df-quickchart\" onclick=\"quickchart('df-0ff9742d-f92d-442b-a923-b20691dee7c3')\"\n",
              "            title=\"Suggest charts\"\n",
              "            style=\"display:none;\">\n",
              "\n",
              "<svg xmlns=\"http://www.w3.org/2000/svg\" height=\"24px\"viewBox=\"0 0 24 24\"\n",
              "     width=\"24px\">\n",
              "    <g>\n",
              "        <path d=\"M19 3H5c-1.1 0-2 .9-2 2v14c0 1.1.9 2 2 2h14c1.1 0 2-.9 2-2V5c0-1.1-.9-2-2-2zM9 17H7v-7h2v7zm4 0h-2V7h2v10zm4 0h-2v-4h2v4z\"/>\n",
              "    </g>\n",
              "</svg>\n",
              "  </button>\n",
              "\n",
              "<style>\n",
              "  .colab-df-quickchart {\n",
              "      --bg-color: #E8F0FE;\n",
              "      --fill-color: #1967D2;\n",
              "      --hover-bg-color: #E2EBFA;\n",
              "      --hover-fill-color: #174EA6;\n",
              "      --disabled-fill-color: #AAA;\n",
              "      --disabled-bg-color: #DDD;\n",
              "  }\n",
              "\n",
              "  [theme=dark] .colab-df-quickchart {\n",
              "      --bg-color: #3B4455;\n",
              "      --fill-color: #D2E3FC;\n",
              "      --hover-bg-color: #434B5C;\n",
              "      --hover-fill-color: #FFFFFF;\n",
              "      --disabled-bg-color: #3B4455;\n",
              "      --disabled-fill-color: #666;\n",
              "  }\n",
              "\n",
              "  .colab-df-quickchart {\n",
              "    background-color: var(--bg-color);\n",
              "    border: none;\n",
              "    border-radius: 50%;\n",
              "    cursor: pointer;\n",
              "    display: none;\n",
              "    fill: var(--fill-color);\n",
              "    height: 32px;\n",
              "    padding: 0;\n",
              "    width: 32px;\n",
              "  }\n",
              "\n",
              "  .colab-df-quickchart:hover {\n",
              "    background-color: var(--hover-bg-color);\n",
              "    box-shadow: 0 1px 2px rgba(60, 64, 67, 0.3), 0 1px 3px 1px rgba(60, 64, 67, 0.15);\n",
              "    fill: var(--button-hover-fill-color);\n",
              "  }\n",
              "\n",
              "  .colab-df-quickchart-complete:disabled,\n",
              "  .colab-df-quickchart-complete:disabled:hover {\n",
              "    background-color: var(--disabled-bg-color);\n",
              "    fill: var(--disabled-fill-color);\n",
              "    box-shadow: none;\n",
              "  }\n",
              "\n",
              "  .colab-df-spinner {\n",
              "    border: 2px solid var(--fill-color);\n",
              "    border-color: transparent;\n",
              "    border-bottom-color: var(--fill-color);\n",
              "    animation:\n",
              "      spin 1s steps(1) infinite;\n",
              "  }\n",
              "\n",
              "  @keyframes spin {\n",
              "    0% {\n",
              "      border-color: transparent;\n",
              "      border-bottom-color: var(--fill-color);\n",
              "      border-left-color: var(--fill-color);\n",
              "    }\n",
              "    20% {\n",
              "      border-color: transparent;\n",
              "      border-left-color: var(--fill-color);\n",
              "      border-top-color: var(--fill-color);\n",
              "    }\n",
              "    30% {\n",
              "      border-color: transparent;\n",
              "      border-left-color: var(--fill-color);\n",
              "      border-top-color: var(--fill-color);\n",
              "      border-right-color: var(--fill-color);\n",
              "    }\n",
              "    40% {\n",
              "      border-color: transparent;\n",
              "      border-right-color: var(--fill-color);\n",
              "      border-top-color: var(--fill-color);\n",
              "    }\n",
              "    60% {\n",
              "      border-color: transparent;\n",
              "      border-right-color: var(--fill-color);\n",
              "    }\n",
              "    80% {\n",
              "      border-color: transparent;\n",
              "      border-right-color: var(--fill-color);\n",
              "      border-bottom-color: var(--fill-color);\n",
              "    }\n",
              "    90% {\n",
              "      border-color: transparent;\n",
              "      border-bottom-color: var(--fill-color);\n",
              "    }\n",
              "  }\n",
              "</style>\n",
              "\n",
              "  <script>\n",
              "    async function quickchart(key) {\n",
              "      const quickchartButtonEl =\n",
              "        document.querySelector('#' + key + ' button');\n",
              "      quickchartButtonEl.disabled = true;  // To prevent multiple clicks.\n",
              "      quickchartButtonEl.classList.add('colab-df-spinner');\n",
              "      try {\n",
              "        const charts = await google.colab.kernel.invokeFunction(\n",
              "            'suggestCharts', [key], {});\n",
              "      } catch (error) {\n",
              "        console.error('Error during call to suggestCharts:', error);\n",
              "      }\n",
              "      quickchartButtonEl.classList.remove('colab-df-spinner');\n",
              "      quickchartButtonEl.classList.add('colab-df-quickchart-complete');\n",
              "    }\n",
              "    (() => {\n",
              "      let quickchartButtonEl =\n",
              "        document.querySelector('#df-0ff9742d-f92d-442b-a923-b20691dee7c3 button');\n",
              "      quickchartButtonEl.style.display =\n",
              "        google.colab.kernel.accessAllowed ? 'block' : 'none';\n",
              "    })();\n",
              "  </script>\n",
              "</div>\n",
              "\n",
              "    </div>\n",
              "  </div>\n"
            ]
          },
          "metadata": {},
          "execution_count": 106
        }
      ],
      "source": [
        "dados_treino.head()"
      ]
    },
    {
      "cell_type": "code",
      "execution_count": 107,
      "id": "7d45bf9f-1443-4f75-a54d-27a0dd8df9b9",
      "metadata": {
        "id": "7d45bf9f-1443-4f75-a54d-27a0dd8df9b9"
      },
      "outputs": [],
      "source": [
        "def encode(texts, tokenizer, chunk_size = 256, maxlen = 512):\n",
        "    tokenizer.enable_truncation(max_length = maxlen)\n",
        "    tokenizer.enable_padding(length = maxlen)\n",
        "    all_ids = []\n",
        "    for i in tqdm(range(0, len(texts), chunk_size)):\n",
        "        text_chunk = texts[i:i+chunk_size].tolist()\n",
        "        encs = tokenizer.encode_batch(text_chunk)\n",
        "        all_ids.extend([enc.ids for enc in encs])\n",
        "    return np.array(all_ids)"
      ]
    },
    {
      "cell_type": "code",
      "execution_count": 108,
      "id": "0fb6b92c-af01-4e84-b562-5daffb102d14",
      "metadata": {
        "colab": {
          "base_uri": "https://localhost:8080/",
          "height": 269,
          "referenced_widgets": [
            "da7bb5e0946649eaac92779ebea33067",
            "1674a99c34994a52a0cfb9bb93bd1098",
            "983741d2bb424908a814c45956d3b326",
            "c8b993af4f1541138930e261080d891c",
            "79226ff85ae646c3a2f4b0ceadc574db",
            "ae87e770cd514ba9a6351c00c686ae5e",
            "1dacf3084c604d3e80f86127a1514857",
            "e5fb8b30f0704fc698e0e26adbdccdb8",
            "1a4a3f4613954a4d80eb3416b6f3ee8b",
            "d041c21423004ff3834a85ca812b4d4b",
            "a492f6f7bf7448d1b65904ff39a8bf15",
            "d62f051a4b384d659808d1cc9f07a07b",
            "6646374b4409485ca326cd91390e00e3",
            "078546d9fd2743d1a4fe75bbbd634359",
            "7d245b8b4a6a4b4a81fe3cfdbf5a45e9",
            "290fa1d36587482fb76b6f2bfe4eee13",
            "476b4f94ffdd41958bd6acf891898ba6",
            "5df3a1fa51234616a9c5552b79e973ea",
            "2ac4350e0a734100abb99714cab57ada",
            "21a036667a9a4829800f5ef51eac6a15",
            "6fb5c390fa2444a5b103ae995bfc9f33",
            "d589757fceff4d418017b4679e00711a",
            "d480e45ea464456988ee508d6f97ea48",
            "468e37b7bfd14b3984f9eb08275ae8e7",
            "f8f4430f4f5d4536a6c4a0a760ca0ebb",
            "706e04f6169f40c3b1dd229044430b6c",
            "739da4a6e0fe4267a2ab820586f63cbe",
            "93afd672bd474a0eac047fa3de06c495",
            "c547ea87392841f3a7ba47873c1f6dd1",
            "dc91329964ee4d82a6d5edf03c4c51fa",
            "b04373b2bd1c4964ad53268832d03822",
            "19f8837b830d43feaff0e9ed07e1e4a8",
            "cb021c7b797444578c25cb4c0e4730f1",
            "d55221f7b7ee45cf84afb62da5b641a9",
            "81b670dcd7104f528bfb5ce67dc02148",
            "73178eefdb364abba80d8a82828dda51",
            "e03dee37e3ce486db3e289d3d2a271b6",
            "2cdd05f6b83d439a983f60457a6138ab",
            "732d107c99ea4e29a4f8525c35227961",
            "65aa4f76f69e4dbba46be7ccf4024458",
            "c2b84f1de03f4de89fe5722212ac8c77",
            "5281bfba29f5481892de1b4deb2a6cae",
            "760f4e07dd4542c6b6563db5ad588408",
            "78228aeb861144a78b011ed52bfd7632"
          ]
        },
        "id": "0fb6b92c-af01-4e84-b562-5daffb102d14",
        "outputId": "f0f496e8-5f71-467e-a046-caac42002d87"
      },
      "outputs": [
        {
          "output_type": "stream",
          "name": "stderr",
          "text": [
            "/usr/local/lib/python3.10/dist-packages/huggingface_hub/utils/_token.py:88: UserWarning: \n",
            "The secret `HF_TOKEN` does not exist in your Colab secrets.\n",
            "To authenticate with the Hugging Face Hub, create a token in your settings tab (https://huggingface.co/settings/tokens), set it as secret in your Google Colab and restart your session.\n",
            "You will be able to reuse this secret in all of your notebooks.\n",
            "Please note that authentication is recommended but still optional to access public models or datasets.\n",
            "  warnings.warn(\n"
          ]
        },
        {
          "output_type": "display_data",
          "data": {
            "text/plain": [
              "tokenizer_config.json:   0%|          | 0.00/29.0 [00:00<?, ?B/s]"
            ],
            "application/vnd.jupyter.widget-view+json": {
              "version_major": 2,
              "version_minor": 0,
              "model_id": "da7bb5e0946649eaac92779ebea33067"
            }
          },
          "metadata": {}
        },
        {
          "output_type": "display_data",
          "data": {
            "text/plain": [
              "vocab.txt:   0%|          | 0.00/996k [00:00<?, ?B/s]"
            ],
            "application/vnd.jupyter.widget-view+json": {
              "version_major": 2,
              "version_minor": 0,
              "model_id": "d62f051a4b384d659808d1cc9f07a07b"
            }
          },
          "metadata": {}
        },
        {
          "output_type": "display_data",
          "data": {
            "text/plain": [
              "tokenizer.json:   0%|          | 0.00/1.96M [00:00<?, ?B/s]"
            ],
            "application/vnd.jupyter.widget-view+json": {
              "version_major": 2,
              "version_minor": 0,
              "model_id": "d480e45ea464456988ee508d6f97ea48"
            }
          },
          "metadata": {}
        },
        {
          "output_type": "display_data",
          "data": {
            "text/plain": [
              "config.json:   0%|          | 0.00/466 [00:00<?, ?B/s]"
            ],
            "application/vnd.jupyter.widget-view+json": {
              "version_major": 2,
              "version_minor": 0,
              "model_id": "d55221f7b7ee45cf84afb62da5b641a9"
            }
          },
          "metadata": {}
        }
      ],
      "source": [
        "tokenizador_bert = transformers.DistilBertTokenizer.from_pretrained('distilbert-base-multilingual-cased')"
      ]
    },
    {
      "cell_type": "code",
      "execution_count": 109,
      "id": "cfb8d8b2-4754-4627-810d-539da3c871c8",
      "metadata": {
        "colab": {
          "base_uri": "https://localhost:8080/"
        },
        "id": "cfb8d8b2-4754-4627-810d-539da3c871c8",
        "outputId": "0ebab2e4-1639-4321-ff4e-b742fc2d043d"
      },
      "outputs": [
        {
          "output_type": "execute_result",
          "data": {
            "text/plain": [
              "('./tokenizer_config.json',\n",
              " './special_tokens_map.json',\n",
              " './vocab.txt',\n",
              " './added_tokens.json')"
            ]
          },
          "metadata": {},
          "execution_count": 109
        }
      ],
      "source": [
        "tokenizador_bert.save_pretrained('.')"
      ]
    },
    {
      "cell_type": "code",
      "execution_count": 110,
      "id": "dc67f11a-ecff-4f8c-afb2-f7eef60f3c96",
      "metadata": {
        "id": "dc67f11a-ecff-4f8c-afb2-f7eef60f3c96"
      },
      "outputs": [],
      "source": [
        "fast_tokenizer = BertWordPieceTokenizer('vocab.txt', lowercase = False)"
      ]
    },
    {
      "cell_type": "code",
      "execution_count": 111,
      "id": "57ec6a8d-7db2-43cc-ac37-5fed9d7ea6d9",
      "metadata": {
        "colab": {
          "base_uri": "https://localhost:8080/"
        },
        "id": "57ec6a8d-7db2-43cc-ac37-5fed9d7ea6d9",
        "outputId": "15244416-8f32-4678-b0e5-377fb496f948"
      },
      "outputs": [
        {
          "output_type": "execute_result",
          "data": {
            "text/plain": [
              "Tokenizer(vocabulary_size=119547, model=BertWordPiece, unk_token=[UNK], sep_token=[SEP], cls_token=[CLS], pad_token=[PAD], mask_token=[MASK], clean_text=True, handle_chinese_chars=True, strip_accents=None, lowercase=False, wordpieces_prefix=##)"
            ]
          },
          "metadata": {},
          "execution_count": 111
        }
      ],
      "source": [
        "fast_tokenizer"
      ]
    },
    {
      "cell_type": "code",
      "execution_count": 112,
      "id": "5e12391b-5e36-43f4-a7af-fac53aa672fb",
      "metadata": {
        "id": "5e12391b-5e36-43f4-a7af-fac53aa672fb"
      },
      "outputs": [],
      "source": [
        "X_treino, X_valid, Y_treino, Y_valid = train_test_split(dados_treino['text_processado'].values,\n",
        "                                                        dados_treino['sentimento'].values,\n",
        "                                                        test_size = 0.2,\n",
        "                                                        random_state = 42,\n",
        "                                                        stratify = dados_treino['sentimento'])"
      ]
    },
    {
      "cell_type": "code",
      "execution_count": 113,
      "id": "64dc8e8e-2c1b-4403-9a3e-c07deb71f07c",
      "metadata": {
        "id": "64dc8e8e-2c1b-4403-9a3e-c07deb71f07c"
      },
      "outputs": [],
      "source": [
        "max_length = 100"
      ]
    },
    {
      "cell_type": "code",
      "execution_count": 114,
      "id": "05a003d8-5cdb-42b2-92ac-948594e9be46",
      "metadata": {
        "colab": {
          "base_uri": "https://localhost:8080/"
        },
        "id": "05a003d8-5cdb-42b2-92ac-948594e9be46",
        "outputId": "6753145e-6d83-4c1a-a653-dfc198ba368e"
      },
      "outputs": [
        {
          "output_type": "stream",
          "name": "stderr",
          "text": [
            "100%|██████████| 50/50 [00:01<00:00, 41.53it/s]\n",
            "100%|██████████| 13/13 [00:00<00:00, 35.68it/s]\n",
            "100%|██████████| 8/8 [00:00<00:00, 40.62it/s]\n"
          ]
        }
      ],
      "source": [
        "X_treino_final = encode(X_treino, fast_tokenizer, maxlen = max_length)\n",
        "X_valid_final = encode(X_valid, fast_tokenizer, maxlen = max_length)\n",
        "X_teste_final = encode(dados_teste['text_processado'].to_numpy(), fast_tokenizer, maxlen = max_length)"
      ]
    },
    {
      "cell_type": "code",
      "execution_count": 115,
      "id": "2146b7c4-f5d1-40aa-b520-f279ba7ce231",
      "metadata": {
        "colab": {
          "base_uri": "https://localhost:8080/"
        },
        "id": "2146b7c4-f5d1-40aa-b520-f279ba7ce231",
        "outputId": "de657527-f790-4e31-d654-8862d7af020d"
      },
      "outputs": [
        {
          "output_type": "execute_result",
          "data": {
            "text/plain": [
              "(12800, 100)"
            ]
          },
          "metadata": {},
          "execution_count": 115
        }
      ],
      "source": [
        "X_treino_final.shape"
      ]
    },
    {
      "cell_type": "code",
      "execution_count": 116,
      "id": "55438051-c4ef-42b2-818f-bb296bf927ba",
      "metadata": {
        "id": "55438051-c4ef-42b2-818f-bb296bf927ba"
      },
      "outputs": [],
      "source": [
        "le_v3 = LabelEncoder()"
      ]
    },
    {
      "cell_type": "code",
      "execution_count": 117,
      "id": "2a3d4228-782a-45d7-adf3-aa2431a7ed1f",
      "metadata": {
        "id": "2a3d4228-782a-45d7-adf3-aa2431a7ed1f"
      },
      "outputs": [],
      "source": [
        "y_treino_le = le_v3.fit_transform(Y_treino)\n",
        "y_valid_le = le_v3.transform(Y_valid)\n",
        "y_teste_le = le_v3.transform(dados_teste['sentimento'])"
      ]
    },
    {
      "cell_type": "code",
      "execution_count": 118,
      "id": "f1fdd0d8-70e5-4cbc-bf67-dadaf7b17f09",
      "metadata": {
        "id": "f1fdd0d8-70e5-4cbc-bf67-dadaf7b17f09"
      },
      "outputs": [],
      "source": [
        "y_treino_encoded = to_categorical(y_treino_le)\n",
        "y_valid_encoded = to_categorical(y_valid_le)\n",
        "y_teste_encoded = to_categorical(y_teste_le)"
      ]
    },
    {
      "cell_type": "code",
      "execution_count": 131,
      "id": "1b42d59a-8467-4b57-8ff6-2b8faf105e34",
      "metadata": {
        "id": "1b42d59a-8467-4b57-8ff6-2b8faf105e34"
      },
      "outputs": [],
      "source": [
        "BATCH_SIZE = 16"
      ]
    },
    {
      "cell_type": "code",
      "execution_count": 132,
      "id": "f62664dd-756f-44cc-8e12-a1c57d42cf54",
      "metadata": {
        "id": "f62664dd-756f-44cc-8e12-a1c57d42cf54"
      },
      "outputs": [],
      "source": [
        "dataset_treino = (tf.data.Dataset.from_tensor_slices((X_treino_final, y_treino_encoded)).\n",
        "                  repeat().shuffle(2048).batch(BATCH_SIZE))"
      ]
    },
    {
      "cell_type": "code",
      "execution_count": 133,
      "id": "5d07d71c-1180-41c8-ade4-418123cf2a1c",
      "metadata": {
        "id": "5d07d71c-1180-41c8-ade4-418123cf2a1c"
      },
      "outputs": [],
      "source": [
        "dataset_valid = (tf.data.Dataset.from_tensor_slices((X_valid_final, y_valid_encoded)).\n",
        "                 batch(BATCH_SIZE).cache())"
      ]
    },
    {
      "cell_type": "code",
      "execution_count": 134,
      "id": "17b3647d-d0f4-4bbe-851b-e5bc512efc42",
      "metadata": {
        "id": "17b3647d-d0f4-4bbe-851b-e5bc512efc42"
      },
      "outputs": [],
      "source": [
        "dataset_teste = (tf.data.Dataset.from_tensor_slices((X_teste_final, y_teste_encoded)).\n",
        "                 batch(BATCH_SIZE))"
      ]
    },
    {
      "cell_type": "markdown",
      "id": "46426383-2a0d-4d5d-a61c-76d0063e435f",
      "metadata": {
        "id": "46426383-2a0d-4d5d-a61c-76d0063e435f"
      },
      "source": [
        "### Construção do Modelo 3"
      ]
    },
    {
      "cell_type": "code",
      "execution_count": 135,
      "id": "e49dd1a8-6d10-4f02-a7e9-c1fc67bfc379",
      "metadata": {
        "id": "e49dd1a8-6d10-4f02-a7e9-c1fc67bfc379"
      },
      "outputs": [],
      "source": [
        "def cria_modelo(transformer, max_len = 512):\n",
        "    input_word_ids = tf.keras.layers.Input(shape = (max_len,),\n",
        "                                           dtype = tf.int32,\n",
        "                                           name = 'input_word_ids')\n",
        "    sequence_output = transformer(input_word_ids)[0]\n",
        "    cls_token = sequence_output[:, 0, :]\n",
        "    out = Dense(6, activation = 'softmax')(cls_token)\n",
        "    modelo = tf.keras.Model(inputs = input_word_ids, outputs = out)\n",
        "    modelo.compile(tf.keras.optimizers.legacy.Adam(learning_rate = 1e-5),\n",
        "                    loss = 'categorical_crossentropy',\n",
        "                    metrics = ['accuracy', Precision(), Recall(), AUC()])\n",
        "    return modelo"
      ]
    },
    {
      "cell_type": "markdown",
      "id": "433d47e3-9d3d-4cc2-a5b3-0061e9e708df",
      "metadata": {
        "id": "433d47e3-9d3d-4cc2-a5b3-0061e9e708df"
      },
      "source": [
        "#### Carregando o Modelo Pré-Treinado"
      ]
    },
    {
      "cell_type": "code",
      "execution_count": 136,
      "id": "de29cf15-b428-4897-b855-42f94c75da12",
      "metadata": {
        "colab": {
          "base_uri": "https://localhost:8080/"
        },
        "id": "de29cf15-b428-4897-b855-42f94c75da12",
        "outputId": "72e94a54-b921-4cc1-97eb-64263367fed5"
      },
      "outputs": [
        {
          "output_type": "stream",
          "name": "stderr",
          "text": [
            "Some weights of the PyTorch model were not used when initializing the TF 2.0 model TFDistilBertModel: ['vocab_transform.weight', 'vocab_transform.bias', 'vocab_projector.bias', 'vocab_layer_norm.bias', 'vocab_layer_norm.weight']\n",
            "- This IS expected if you are initializing TFDistilBertModel from a PyTorch model trained on another task or with another architecture (e.g. initializing a TFBertForSequenceClassification model from a BertForPreTraining model).\n",
            "- This IS NOT expected if you are initializing TFDistilBertModel from a PyTorch model that you expect to be exactly identical (e.g. initializing a TFBertForSequenceClassification model from a BertForSequenceClassification model).\n",
            "All the weights of TFDistilBertModel were initialized from the PyTorch model.\n",
            "If your task is similar to the task the model of the checkpoint was trained on, you can already use TFDistilBertModel for predictions without further training.\n"
          ]
        }
      ],
      "source": [
        "transformer_layer = (transformers.TFDistilBertModel.from_pretrained('distilbert-base-multilingual-cased'))"
      ]
    },
    {
      "cell_type": "code",
      "execution_count": 137,
      "id": "9cacb8c6-f2a0-48f4-bd3f-23e5a3341440",
      "metadata": {
        "id": "9cacb8c6-f2a0-48f4-bd3f-23e5a3341440"
      },
      "outputs": [],
      "source": [
        "modelo_v3 = cria_modelo(transformer_layer, max_len = max_length)"
      ]
    },
    {
      "cell_type": "code",
      "execution_count": 138,
      "id": "9e6a16cb-2d2a-459e-a30c-892509a9bccf",
      "metadata": {
        "colab": {
          "base_uri": "https://localhost:8080/"
        },
        "id": "9e6a16cb-2d2a-459e-a30c-892509a9bccf",
        "outputId": "9a0343b8-1dea-470a-9c70-44639c9df98f"
      },
      "outputs": [
        {
          "output_type": "stream",
          "name": "stdout",
          "text": [
            "Model: \"model_1\"\n",
            "_________________________________________________________________\n",
            " Layer (type)                Output Shape              Param #   \n",
            "=================================================================\n",
            " input_word_ids (InputLayer  [(None, 100)]             0         \n",
            " )                                                               \n",
            "                                                                 \n",
            " tf_distil_bert_model_1 (TF  TFBaseModelOutput(last_   134734080 \n",
            " DistilBertModel)            hidden_state=(None, 100             \n",
            "                             , 768),                             \n",
            "                              hidden_states=None, at             \n",
            "                             tentions=None)                      \n",
            "                                                                 \n",
            " tf.__operators__.getitem_1  (None, 768)               0         \n",
            "  (SlicingOpLambda)                                              \n",
            "                                                                 \n",
            " dense_8 (Dense)             (None, 6)                 4614      \n",
            "                                                                 \n",
            "=================================================================\n",
            "Total params: 134738694 (513.99 MB)\n",
            "Trainable params: 134738694 (513.99 MB)\n",
            "Non-trainable params: 0 (0.00 Byte)\n",
            "_________________________________________________________________\n"
          ]
        }
      ],
      "source": [
        "modelo_v3.summary()"
      ]
    },
    {
      "cell_type": "code",
      "execution_count": 139,
      "id": "518ce492-fe34-4e1e-b9cc-d16b45756ee9",
      "metadata": {
        "id": "518ce492-fe34-4e1e-b9cc-d16b45756ee9"
      },
      "outputs": [],
      "source": [
        "modelo_v3.layers[0].trainable = False\n",
        "modelo_v3.layers[1].trainable = False\n",
        "modelo_v3.layers[2].trainable = False"
      ]
    },
    {
      "cell_type": "code",
      "execution_count": 140,
      "id": "4038c94b-ae4e-488b-a3a5-d3eb763f2757",
      "metadata": {
        "colab": {
          "base_uri": "https://localhost:8080/"
        },
        "id": "4038c94b-ae4e-488b-a3a5-d3eb763f2757",
        "outputId": "7cab0c93-dd55-4830-c8f8-35d191813b70"
      },
      "outputs": [
        {
          "output_type": "stream",
          "name": "stdout",
          "text": [
            "Model: \"model_1\"\n",
            "_________________________________________________________________\n",
            " Layer (type)                Output Shape              Param #   \n",
            "=================================================================\n",
            " input_word_ids (InputLayer  [(None, 100)]             0         \n",
            " )                                                               \n",
            "                                                                 \n",
            " tf_distil_bert_model_1 (TF  TFBaseModelOutput(last_   134734080 \n",
            " DistilBertModel)            hidden_state=(None, 100             \n",
            "                             , 768),                             \n",
            "                              hidden_states=None, at             \n",
            "                             tentions=None)                      \n",
            "                                                                 \n",
            " tf.__operators__.getitem_1  (None, 768)               0         \n",
            "  (SlicingOpLambda)                                              \n",
            "                                                                 \n",
            " dense_8 (Dense)             (None, 6)                 4614      \n",
            "                                                                 \n",
            "=================================================================\n",
            "Total params: 134738694 (513.99 MB)\n",
            "Trainable params: 4614 (18.02 KB)\n",
            "Non-trainable params: 134734080 (513.97 MB)\n",
            "_________________________________________________________________\n"
          ]
        }
      ],
      "source": [
        "modelo_v3.summary()"
      ]
    },
    {
      "cell_type": "code",
      "execution_count": 141,
      "id": "48db9b1d-681e-4622-b4ab-55a49aec8b6c",
      "metadata": {
        "id": "48db9b1d-681e-4622-b4ab-55a49aec8b6c"
      },
      "outputs": [],
      "source": [
        "n_steps = X_treino_final.shape[0] // BATCH_SIZE\n",
        "num_epochs = 3"
      ]
    },
    {
      "cell_type": "code",
      "execution_count": 142,
      "id": "1297b161-22ca-4170-b017-e16a282179f7",
      "metadata": {
        "colab": {
          "base_uri": "https://localhost:8080/"
        },
        "id": "1297b161-22ca-4170-b017-e16a282179f7",
        "outputId": "c8987c5c-c0a2-46c7-e188-84eb504eb25c"
      },
      "outputs": [
        {
          "output_type": "stream",
          "name": "stdout",
          "text": [
            "Epoch 1/3\n",
            "800/800 [==============================] - 192s 229ms/step - loss: 1.1475 - accuracy: 0.5523 - precision_3: 0.7930 - recall_3: 0.3537 - auc_3: 0.8622 - val_loss: 0.4924 - val_accuracy: 0.8344 - val_precision_3: 0.8603 - val_recall_3: 0.8122 - val_auc_3: 0.9736\n",
            "Epoch 2/3\n",
            "800/800 [==============================] - 174s 217ms/step - loss: 0.3656 - accuracy: 0.8680 - precision_3: 0.8904 - recall_3: 0.8477 - auc_3: 0.9853 - val_loss: 0.3319 - val_accuracy: 0.8819 - val_precision_3: 0.8933 - val_recall_3: 0.8737 - val_auc_3: 0.9864\n",
            "Epoch 3/3\n",
            "800/800 [==============================] - 176s 220ms/step - loss: 0.2344 - accuracy: 0.9090 - precision_3: 0.9200 - recall_3: 0.8989 - auc_3: 0.9936 - val_loss: 0.2633 - val_accuracy: 0.8953 - val_precision_3: 0.9073 - val_recall_3: 0.8903 - val_auc_3: 0.9905\n",
            "CPU times: user 6min 30s, sys: 14 s, total: 6min 44s\n",
            "Wall time: 9min 1s\n"
          ]
        }
      ],
      "source": [
        "%%time\n",
        "history = modelo_v3.fit(dataset_treino,\n",
        "                        steps_per_epoch = n_steps,\n",
        "                        validation_data = dataset_valid,\n",
        "                        epochs = num_epochs)"
      ]
    },
    {
      "cell_type": "code",
      "execution_count": 144,
      "id": "d5bf6f47-b6ad-4318-865c-4d2abdbb58b7",
      "metadata": {
        "colab": {
          "base_uri": "https://localhost:8080/",
          "height": 430
        },
        "id": "d5bf6f47-b6ad-4318-865c-4d2abdbb58b7",
        "outputId": "7f788051-a378-49cc-a3b0-4d9d1e56e15f"
      },
      "outputs": [
        {
          "output_type": "display_data",
          "data": {
            "text/plain": [
              "<Figure size 640x480 with 1 Axes>"
            ],
            "image/png": "[encoded data removed]"
          },
          "metadata": {}
        }
      ],
      "source": [
        "loss, val_loss = history.history['loss'], history.history['val_loss']\n",
        "plt.plot(loss, label = 'Erro em Treino')\n",
        "plt.plot(val_loss, label = 'Erro em Validação')\n",
        "plt.legend()\n",
        "plt.show()"
      ]
    },
    {
      "cell_type": "code",
      "source": [
        "previsoes = modelo_v3.predict(X_teste_final)"
      ],
      "metadata": {
        "colab": {
          "base_uri": "https://localhost:8080/"
        },
        "id": "Ht84FO_OTx0P",
        "outputId": "1c1e1b09-06d5-403f-fc62-e36872a2cf32"
      },
      "id": "Ht84FO_OTx0P",
      "execution_count": 145,
      "outputs": [
        {
          "output_type": "stream",
          "name": "stdout",
          "text": [
            "63/63 [==============================] - 9s 103ms/step\n"
          ]
        }
      ]
    },
    {
      "cell_type": "code",
      "source": [
        "labels_previstos = previsoes.argmax(axis = 1)"
      ],
      "metadata": {
        "id": "lBQs2kurUf3g"
      },
      "id": "lBQs2kurUf3g",
      "execution_count": 146,
      "outputs": []
    },
    {
      "cell_type": "code",
      "source": [
        "print(classification_report(y_teste_le, labels_previstos))"
      ],
      "metadata": {
        "colab": {
          "base_uri": "https://localhost:8080/"
        },
        "id": "fNqbBxujUoGT",
        "outputId": "979d9d6d-77bf-4902-88dd-bb6a716fe791"
      },
      "id": "fNqbBxujUoGT",
      "execution_count": 147,
      "outputs": [
        {
          "output_type": "stream",
          "name": "stdout",
          "text": [
            "              precision    recall  f1-score   support\n",
            "\n",
            "           0       0.88      0.92      0.90       275\n",
            "           1       0.84      0.95      0.89       224\n",
            "           2       0.93      0.92      0.92       695\n",
            "           3       0.74      0.82      0.78       159\n",
            "           4       0.94      0.91      0.93       581\n",
            "           5       0.97      0.55      0.70        66\n",
            "\n",
            "    accuracy                           0.90      2000\n",
            "   macro avg       0.89      0.84      0.85      2000\n",
            "weighted avg       0.90      0.90      0.90      2000\n",
            "\n"
          ]
        }
      ]
    },
    {
      "cell_type": "code",
      "source": [
        "cm = confusion_matrix(y_teste_le, labels_previstos)\n",
        "sns.heatmap(cm, annot = True);"
      ],
      "metadata": {
        "colab": {
          "base_uri": "https://localhost:8080/",
          "height": 430
        },
        "id": "Jnde-B2rUwiN",
        "outputId": "f355b592-8b6e-47d9-8943-ce64dd5cfc47"
      },
      "id": "Jnde-B2rUwiN",
      "execution_count": 148,
      "outputs": [
        {
          "output_type": "display_data",
          "data": {
            "text/plain": [
              "<Figure size 640x480 with 2 Axes>"
            ],
            "image/png": "[encoded data removed]"
          },
          "metadata": {}
        }
      ]
    },
    {
      "cell_type": "code",
      "source": [
        "print(accuracy_score(y_teste_le, labels_previstos))"
      ],
      "metadata": {
        "colab": {
          "base_uri": "https://localhost:8080/"
        },
        "id": "Z83ZWKvOU9aX",
        "outputId": "372b03fb-9fb4-47fc-f58b-703ee7d20b31"
      },
      "id": "Z83ZWKvOU9aX",
      "execution_count": 149,
      "outputs": [
        {
          "output_type": "stream",
          "name": "stdout",
          "text": [
            "0.9\n"
          ]
        }
      ]
    },
    {
      "cell_type": "code",
      "source": [
        "modelo_v3.save('modelo_v3.keras', save_format = 'tf')"
      ],
      "metadata": {
        "id": "Z2JZPIG9VJ5K"
      },
      "id": "Z2JZPIG9VJ5K",
      "execution_count": 150,
      "outputs": []
    },
    {
      "cell_type": "markdown",
      "source": [
        "## Deploy do Modelo 3"
      ],
      "metadata": {
        "id": "w9j9vbhoVp8M"
      },
      "id": "w9j9vbhoVp8M"
    },
    {
      "cell_type": "code",
      "source": [
        "with custom_object_scope({'TFDistilBertModel': TFDistilBertModel}):\n",
        "  modelo_recarregado = tf.keras.models.load_model('modelo_v3.keras')"
      ],
      "metadata": {
        "id": "8lC5hJqIVSt7"
      },
      "id": "8lC5hJqIVSt7",
      "execution_count": 152,
      "outputs": []
    },
    {
      "cell_type": "code",
      "source": [
        "frase = 'I even feel a little shaky'"
      ],
      "metadata": {
        "id": "zOABlCmwXlsg"
      },
      "id": "zOABlCmwXlsg",
      "execution_count": 153,
      "outputs": []
    },
    {
      "cell_type": "code",
      "source": [
        "df_novo = pd.DataFrame({'Frase': [frase]})"
      ],
      "metadata": {
        "id": "YSv4UFX3XtGI"
      },
      "id": "YSv4UFX3XtGI",
      "execution_count": 154,
      "outputs": []
    },
    {
      "cell_type": "code",
      "source": [
        "df_novo['Frase_Processada'] = df_novo['Frase'].apply(preprocessa_texto)"
      ],
      "metadata": {
        "id": "6aRtGgHFX3ph"
      },
      "id": "6aRtGgHFX3ph",
      "execution_count": 155,
      "outputs": []
    },
    {
      "cell_type": "code",
      "source": [
        "novos_dados = encode(df_novo['Frase_Processada'], fast_tokenizer, maxlen = max_length)"
      ],
      "metadata": {
        "colab": {
          "base_uri": "https://localhost:8080/"
        },
        "id": "JFc1Fs5iYIWT",
        "outputId": "7e7c428f-7f98-466c-c890-65896151ac45"
      },
      "id": "JFc1Fs5iYIWT",
      "execution_count": 156,
      "outputs": [
        {
          "output_type": "stream",
          "name": "stderr",
          "text": [
            "100%|██████████| 1/1 [00:00<00:00, 96.13it/s]\n"
          ]
        }
      ]
    },
    {
      "cell_type": "code",
      "source": [
        "previsoes = modelo_recarregado.predict(novos_dados)"
      ],
      "metadata": {
        "colab": {
          "base_uri": "https://localhost:8080/"
        },
        "id": "COC01AIEYTjE",
        "outputId": "3904c2de-3b0c-4a39-d66d-779b00b5f073"
      },
      "id": "COC01AIEYTjE",
      "execution_count": 157,
      "outputs": [
        {
          "output_type": "stream",
          "name": "stdout",
          "text": [
            "1/1 [==============================] - 3s 3s/step\n"
          ]
        }
      ]
    },
    {
      "cell_type": "code",
      "source": [
        "classe_maior_prob = np.argmax(previsoes, axis = 1)"
      ],
      "metadata": {
        "id": "n2Z_SQx4YZKF"
      },
      "id": "n2Z_SQx4YZKF",
      "execution_count": 158,
      "outputs": []
    },
    {
      "cell_type": "code",
      "source": [
        "classe_maior_prob"
      ],
      "metadata": {
        "colab": {
          "base_uri": "https://localhost:8080/"
        },
        "id": "3lYEyDH_YgFk",
        "outputId": "e59ccd14-ef7c-4081-a6ce-84b73de8ccc0"
      },
      "id": "3lYEyDH_YgFk",
      "execution_count": 159,
      "outputs": [
        {
          "output_type": "execute_result",
          "data": {
            "text/plain": [
              "array([1])"
            ]
          },
          "metadata": {},
          "execution_count": 159
        }
      ]
    },
    {
      "cell_type": "code",
      "source": [
        "nome_classe = le_v3.inverse_transform(classe_maior_prob)"
      ],
      "metadata": {
        "id": "z-Rn0mMPYift"
      },
      "id": "z-Rn0mMPYift",
      "execution_count": 160,
      "outputs": []
    },
    {
      "cell_type": "code",
      "source": [
        "nome_classe"
      ],
      "metadata": {
        "colab": {
          "base_uri": "https://localhost:8080/"
        },
        "id": "h5hOy3HIY3AA",
        "outputId": "bb04e276-be76-44fe-e44a-220ced8441fb"
      },
      "id": "h5hOy3HIY3AA",
      "execution_count": 161,
      "outputs": [
        {
          "output_type": "execute_result",
          "data": {
            "text/plain": [
              "array(['fear'], dtype=object)"
            ]
          },
          "metadata": {},
          "execution_count": 161
        }
      ]
    }
  ],
  "metadata": {
    "kernelspec": {
      "display_name": "Python 3",
      "name": "python3"
    },
    "language_info": {
      "codemirror_mode": {
        "name": "ipython",
        "version": 3
      },
      "file_extension": ".py",
      "mimetype": "text/x-python",
      "name": "python",
      "nbconvert_exporter": "python",
      "pygments_lexer": "ipython3",
      "version": "3.11.7"
    },
    "colab": {
      "provenance": [],
      "gpuType": "T4",
      "include_colab_link": true
    },
    "accelerator": "GPU",
    "widgets": {
      "application/vnd.jupyter.widget-state+json": {
        "da7bb5e0946649eaac92779ebea33067": {
          "model_module": "@jupyter-widgets/controls",
          "model_name": "HBoxModel",
          "model_module_version": "1.5.0",
          "state": {
            "_dom_classes": [],
            "_model_module": "@jupyter-widgets/controls",
            "_model_module_version": "1.5.0",
            "_model_name": "HBoxModel",
            "_view_count": null,
            "_view_module": "@jupyter-widgets/controls",
            "_view_module_version": "1.5.0",
            "_view_name": "HBoxView",
            "box_style": "",
            "children": [
              "IPY_MODEL_1674a99c34994a52a0cfb9bb93bd1098",
              "IPY_MODEL_983741d2bb424908a814c45956d3b326",
              "IPY_MODEL_c8b993af4f1541138930e261080d891c"
            ],
            "layout": "IPY_MODEL_79226ff85ae646c3a2f4b0ceadc574db"
          }
        },
        "1674a99c34994a52a0cfb9bb93bd1098": {
          "model_module": "@jupyter-widgets/controls",
          "model_name": "HTMLModel",
          "model_module_version": "1.5.0",
          "state": {
            "_dom_classes": [],
            "_model_module": "@jupyter-widgets/controls",
            "_model_module_version": "1.5.0",
            "_model_name": "HTMLModel",
            "_view_count": null,
            "_view_module": "@jupyter-widgets/controls",
            "_view_module_version": "1.5.0",
            "_view_name": "HTMLView",
            "description": "",
            "description_tooltip": null,
            "layout": "IPY_MODEL_ae87e770cd514ba9a6351c00c686ae5e",
            "placeholder": "​",
            "style": "IPY_MODEL_1dacf3084c604d3e80f86127a1514857",
            "value": "tokenizer_config.json: 100%"
          }
        },
        "983741d2bb424908a814c45956d3b326": {
          "model_module": "@jupyter-widgets/controls",
          "model_name": "FloatProgressModel",
          "model_module_version": "1.5.0",
          "state": {
            "_dom_classes": [],
            "_model_module": "@jupyter-widgets/controls",
            "_model_module_version": "1.5.0",
            "_model_name": "FloatProgressModel",
            "_view_count": null,
            "_view_module": "@jupyter-widgets/controls",
            "_view_module_version": "1.5.0",
            "_view_name": "ProgressView",
            "bar_style": "success",
            "description": "",
            "description_tooltip": null,
            "layout": "IPY_MODEL_e5fb8b30f0704fc698e0e26adbdccdb8",
            "max": 29,
            "min": 0,
            "orientation": "horizontal",
            "style": "IPY_MODEL_1a4a3f4613954a4d80eb3416b6f3ee8b",
            "value": 29
          }
        },
        "c8b993af4f1541138930e261080d891c": {
          "model_module": "@jupyter-widgets/controls",
          "model_name": "HTMLModel",
          "model_module_version": "1.5.0",
          "state": {
            "_dom_classes": [],
            "_model_module": "@jupyter-widgets/controls",
            "_model_module_version": "1.5.0",
            "_model_name": "HTMLModel",
            "_view_count": null,
            "_view_module": "@jupyter-widgets/controls",
            "_view_module_version": "1.5.0",
            "_view_name": "HTMLView",
            "description": "",
            "description_tooltip": null,
            "layout": "IPY_MODEL_d041c21423004ff3834a85ca812b4d4b",
            "placeholder": "​",
            "style": "IPY_MODEL_a492f6f7bf7448d1b65904ff39a8bf15",
            "value": " 29.0/29.0 [00:00&lt;00:00, 1.77kB/s]"
          }
        },
        "79226ff85ae646c3a2f4b0ceadc574db": {
          "model_module": "@jupyter-widgets/base",
          "model_name": "LayoutModel",
          "model_module_version": "1.2.0",
          "state": {
            "_model_module": "@jupyter-widgets/base",
            "_model_module_version": "1.2.0",
            "_model_name": "LayoutModel",
            "_view_count": null,
            "_view_module": "@jupyter-widgets/base",
            "_view_module_version": "1.2.0",
            "_view_name": "LayoutView",
            "align_content": null,
            "align_items": null,
            "align_self": null,
            "border": null,
            "bottom": null,
            "display": null,
            "flex": null,
            "flex_flow": null,
            "grid_area": null,
            "grid_auto_columns": null,
            "grid_auto_flow": null,
            "grid_auto_rows": null,
            "grid_column": null,
            "grid_gap": null,
            "grid_row": null,
            "grid_template_areas": null,
            "grid_template_columns": null,
            "grid_template_rows": null,
            "height": null,
            "justify_content": null,
            "justify_items": null,
            "left": null,
            "margin": null,
            "max_height": null,
            "max_width": null,
            "min_height": null,
            "min_width": null,
            "object_fit": null,
            "object_position": null,
            "order": null,
            "overflow": null,
            "overflow_x": null,
            "overflow_y": null,
            "padding": null,
            "right": null,
            "top": null,
            "visibility": null,
            "width": null
          }
        },
        "ae87e770cd514ba9a6351c00c686ae5e": {
          "model_module": "@jupyter-widgets/base",
          "model_name": "LayoutModel",
          "model_module_version": "1.2.0",
          "state": {
            "_model_module": "@jupyter-widgets/base",
            "_model_module_version": "1.2.0",
            "_model_name": "LayoutModel",
            "_view_count": null,
            "_view_module": "@jupyter-widgets/base",
            "_view_module_version": "1.2.0",
            "_view_name": "LayoutView",
            "align_content": null,
            "align_items": null,
            "align_self": null,
            "border": null,
            "bottom": null,
            "display": null,
            "flex": null,
            "flex_flow": null,
            "grid_area": null,
            "grid_auto_columns": null,
            "grid_auto_flow": null,
            "grid_auto_rows": null,
            "grid_column": null,
            "grid_gap": null,
            "grid_row": null,
            "grid_template_areas": null,
            "grid_template_columns": null,
            "grid_template_rows": null,
            "height": null,
            "justify_content": null,
            "justify_items": null,
            "left": null,
            "margin": null,
            "max_height": null,
            "max_width": null,
            "min_height": null,
            "min_width": null,
            "object_fit": null,
            "object_position": null,
            "order": null,
            "overflow": null,
            "overflow_x": null,
            "overflow_y": null,
            "padding": null,
            "right": null,
            "top": null,
            "visibility": null,
            "width": null
          }
        },
        "1dacf3084c604d3e80f86127a1514857": {
          "model_module": "@jupyter-widgets/controls",
          "model_name": "DescriptionStyleModel",
          "model_module_version": "1.5.0",
          "state": {
            "_model_module": "@jupyter-widgets/controls",
            "_model_module_version": "1.5.0",
            "_model_name": "DescriptionStyleModel",
            "_view_count": null,
            "_view_module": "@jupyter-widgets/base",
            "_view_module_version": "1.2.0",
            "_view_name": "StyleView",
            "description_width": ""
          }
        },
        "e5fb8b30f0704fc698e0e26adbdccdb8": {
          "model_module": "@jupyter-widgets/base",
          "model_name": "LayoutModel",
          "model_module_version": "1.2.0",
          "state": {
            "_model_module": "@jupyter-widgets/base",
            "_model_module_version": "1.2.0",
            "_model_name": "LayoutModel",
            "_view_count": null,
            "_view_module": "@jupyter-widgets/base",
            "_view_module_version": "1.2.0",
            "_view_name": "LayoutView",
            "align_content": null,
            "align_items": null,
            "align_self": null,
            "border": null,
            "bottom": null,
            "display": null,
            "flex": null,
            "flex_flow": null,
            "grid_area": null,
            "grid_auto_columns": null,
            "grid_auto_flow": null,
            "grid_auto_rows": null,
            "grid_column": null,
            "grid_gap": null,
            "grid_row": null,
            "grid_template_areas": null,
            "grid_template_columns": null,
            "grid_template_rows": null,
            "height": null,
            "justify_content": null,
            "justify_items": null,
            "left": null,
            "margin": null,
            "max_height": null,
            "max_width": null,
            "min_height": null,
            "min_width": null,
            "object_fit": null,
            "object_position": null,
            "order": null,
            "overflow": null,
            "overflow_x": null,
            "overflow_y": null,
            "padding": null,
            "right": null,
            "top": null,
            "visibility": null,
            "width": null
          }
        },
        "1a4a3f4613954a4d80eb3416b6f3ee8b": {
          "model_module": "@jupyter-widgets/controls",
          "model_name": "ProgressStyleModel",
          "model_module_version": "1.5.0",
          "state": {
            "_model_module": "@jupyter-widgets/controls",
            "_model_module_version": "1.5.0",
            "_model_name": "ProgressStyleModel",
            "_view_count": null,
            "_view_module": "@jupyter-widgets/base",
            "_view_module_version": "1.2.0",
            "_view_name": "StyleView",
            "bar_color": null,
            "description_width": ""
          }
        },
        "d041c21423004ff3834a85ca812b4d4b": {
          "model_module": "@jupyter-widgets/base",
          "model_name": "LayoutModel",
          "model_module_version": "1.2.0",
          "state": {
            "_model_module": "@jupyter-widgets/base",
            "_model_module_version": "1.2.0",
            "_model_name": "LayoutModel",
            "_view_count": null,
            "_view_module": "@jupyter-widgets/base",
            "_view_module_version": "1.2.0",
            "_view_name": "LayoutView",
            "align_content": null,
            "align_items": null,
            "align_self": null,
            "border": null,
            "bottom": null,
            "display": null,
            "flex": null,
            "flex_flow": null,
            "grid_area": null,
            "grid_auto_columns": null,
            "grid_auto_flow": null,
            "grid_auto_rows": null,
            "grid_column": null,
            "grid_gap": null,
            "grid_row": null,
            "grid_template_areas": null,
            "grid_template_columns": null,
            "grid_template_rows": null,
            "height": null,
            "justify_content": null,
            "justify_items": null,
            "left": null,
            "margin": null,
            "max_height": null,
            "max_width": null,
            "min_height": null,
            "min_width": null,
            "object_fit": null,
            "object_position": null,
            "order": null,
            "overflow": null,
            "overflow_x": null,
            "overflow_y": null,
            "padding": null,
            "right": null,
            "top": null,
            "visibility": null,
            "width": null
          }
        },
        "a492f6f7bf7448d1b65904ff39a8bf15": {
          "model_module": "@jupyter-widgets/controls",
          "model_name": "DescriptionStyleModel",
          "model_module_version": "1.5.0",
          "state": {
            "_model_module": "@jupyter-widgets/controls",
            "_model_module_version": "1.5.0",
            "_model_name": "DescriptionStyleModel",
            "_view_count": null,
            "_view_module": "@jupyter-widgets/base",
            "_view_module_version": "1.2.0",
            "_view_name": "StyleView",
            "description_width": ""
          }
        },
        "d62f051a4b384d659808d1cc9f07a07b": {
          "model_module": "@jupyter-widgets/controls",
          "model_name": "HBoxModel",
          "model_module_version": "1.5.0",
          "state": {
            "_dom_classes": [],
            "_model_module": "@jupyter-widgets/controls",
            "_model_module_version": "1.5.0",
            "_model_name": "HBoxModel",
            "_view_count": null,
            "_view_module": "@jupyter-widgets/controls",
            "_view_module_version": "1.5.0",
            "_view_name": "HBoxView",
            "box_style": "",
            "children": [
              "IPY_MODEL_6646374b4409485ca326cd91390e00e3",
              "IPY_MODEL_078546d9fd2743d1a4fe75bbbd634359",
              "IPY_MODEL_7d245b8b4a6a4b4a81fe3cfdbf5a45e9"
            ],
            "layout": "IPY_MODEL_290fa1d36587482fb76b6f2bfe4eee13"
          }
        },
        "6646374b4409485ca326cd91390e00e3": {
          "model_module": "@jupyter-widgets/controls",
          "model_name": "HTMLModel",
          "model_module_version": "1.5.0",
          "state": {
            "_dom_classes": [],
            "_model_module": "@jupyter-widgets/controls",
            "_model_module_version": "1.5.0",
            "_model_name": "HTMLModel",
            "_view_count": null,
            "_view_module": "@jupyter-widgets/controls",
            "_view_module_version": "1.5.0",
            "_view_name": "HTMLView",
            "description": "",
            "description_tooltip": null,
            "layout": "IPY_MODEL_476b4f94ffdd41958bd6acf891898ba6",
            "placeholder": "​",
            "style": "IPY_MODEL_5df3a1fa51234616a9c5552b79e973ea",
            "value": "vocab.txt: 100%"
          }
        },
        "078546d9fd2743d1a4fe75bbbd634359": {
          "model_module": "@jupyter-widgets/controls",
          "model_name": "FloatProgressModel",
          "model_module_version": "1.5.0",
          "state": {
            "_dom_classes": [],
            "_model_module": "@jupyter-widgets/controls",
            "_model_module_version": "1.5.0",
            "_model_name": "FloatProgressModel",
            "_view_count": null,
            "_view_module": "@jupyter-widgets/controls",
            "_view_module_version": "1.5.0",
            "_view_name": "ProgressView",
            "bar_style": "success",
            "description": "",
            "description_tooltip": null,
            "layout": "IPY_MODEL_2ac4350e0a734100abb99714cab57ada",
            "max": 995526,
            "min": 0,
            "orientation": "horizontal",
            "style": "IPY_MODEL_21a036667a9a4829800f5ef51eac6a15",
            "value": 995526
          }
        },
        "7d245b8b4a6a4b4a81fe3cfdbf5a45e9": {
          "model_module": "@jupyter-widgets/controls",
          "model_name": "HTMLModel",
          "model_module_version": "1.5.0",
          "state": {
            "_dom_classes": [],
            "_model_module": "@jupyter-widgets/controls",
            "_model_module_version": "1.5.0",
            "_model_name": "HTMLModel",
            "_view_count": null,
            "_view_module": "@jupyter-widgets/controls",
            "_view_module_version": "1.5.0",
            "_view_name": "HTMLView",
            "description": "",
            "description_tooltip": null,
            "layout": "IPY_MODEL_6fb5c390fa2444a5b103ae995bfc9f33",
            "placeholder": "​",
            "style": "IPY_MODEL_d589757fceff4d418017b4679e00711a",
            "value": " 996k/996k [00:00&lt;00:00, 4.09MB/s]"
          }
        },
        "290fa1d36587482fb76b6f2bfe4eee13": {
          "model_module": "@jupyter-widgets/base",
          "model_name": "LayoutModel",
          "model_module_version": "1.2.0",
          "state": {
            "_model_module": "@jupyter-widgets/base",
            "_model_module_version": "1.2.0",
            "_model_name": "LayoutModel",
            "_view_count": null,
            "_view_module": "@jupyter-widgets/base",
            "_view_module_version": "1.2.0",
            "_view_name": "LayoutView",
            "align_content": null,
            "align_items": null,
            "align_self": null,
            "border": null,
            "bottom": null,
            "display": null,
            "flex": null,
            "flex_flow": null,
            "grid_area": null,
            "grid_auto_columns": null,
            "grid_auto_flow": null,
            "grid_auto_rows": null,
            "grid_column": null,
            "grid_gap": null,
            "grid_row": null,
            "grid_template_areas": null,
            "grid_template_columns": null,
            "grid_template_rows": null,
            "height": null,
            "justify_content": null,
            "justify_items": null,
            "left": null,
            "margin": null,
            "max_height": null,
            "max_width": null,
            "min_height": null,
            "min_width": null,
            "object_fit": null,
            "object_position": null,
            "order": null,
            "overflow": null,
            "overflow_x": null,
            "overflow_y": null,
            "padding": null,
            "right": null,
            "top": null,
            "visibility": null,
            "width": null
          }
        },
        "476b4f94ffdd41958bd6acf891898ba6": {
          "model_module": "@jupyter-widgets/base",
          "model_name": "LayoutModel",
          "model_module_version": "1.2.0",
          "state": {
            "_model_module": "@jupyter-widgets/base",
            "_model_module_version": "1.2.0",
            "_model_name": "LayoutModel",
            "_view_count": null,
            "_view_module": "@jupyter-widgets/base",
            "_view_module_version": "1.2.0",
            "_view_name": "LayoutView",
            "align_content": null,
            "align_items": null,
            "align_self": null,
            "border": null,
            "bottom": null,
            "display": null,
            "flex": null,
            "flex_flow": null,
            "grid_area": null,
            "grid_auto_columns": null,
            "grid_auto_flow": null,
            "grid_auto_rows": null,
            "grid_column": null,
            "grid_gap": null,
            "grid_row": null,
            "grid_template_areas": null,
            "grid_template_columns": null,
            "grid_template_rows": null,
            "height": null,
            "justify_content": null,
            "justify_items": null,
            "left": null,
            "margin": null,
            "max_height": null,
            "max_width": null,
            "min_height": null,
            "min_width": null,
            "object_fit": null,
            "object_position": null,
            "order": null,
            "overflow": null,
            "overflow_x": null,
            "overflow_y": null,
            "padding": null,
            "right": null,
            "top": null,
            "visibility": null,
            "width": null
          }
        },
        "5df3a1fa51234616a9c5552b79e973ea": {
          "model_module": "@jupyter-widgets/controls",
          "model_name": "DescriptionStyleModel",
          "model_module_version": "1.5.0",
          "state": {
            "_model_module": "@jupyter-widgets/controls",
            "_model_module_version": "1.5.0",
            "_model_name": "DescriptionStyleModel",
            "_view_count": null,
            "_view_module": "@jupyter-widgets/base",
            "_view_module_version": "1.2.0",
            "_view_name": "StyleView",
            "description_width": ""
          }
        },
        "2ac4350e0a734100abb99714cab57ada": {
          "model_module": "@jupyter-widgets/base",
          "model_name": "LayoutModel",
          "model_module_version": "1.2.0",
          "state": {
            "_model_module": "@jupyter-widgets/base",
            "_model_module_version": "1.2.0",
            "_model_name": "LayoutModel",
            "_view_count": null,
            "_view_module": "@jupyter-widgets/base",
            "_view_module_version": "1.2.0",
            "_view_name": "LayoutView",
            "align_content": null,
            "align_items": null,
            "align_self": null,
            "border": null,
            "bottom": null,
            "display": null,
            "flex": null,
            "flex_flow": null,
            "grid_area": null,
            "grid_auto_columns": null,
            "grid_auto_flow": null,
            "grid_auto_rows": null,
            "grid_column": null,
            "grid_gap": null,
            "grid_row": null,
            "grid_template_areas": null,
            "grid_template_columns": null,
            "grid_template_rows": null,
            "height": null,
            "justify_content": null,
            "justify_items": null,
            "left": null,
            "margin": null,
            "max_height": null,
            "max_width": null,
            "min_height": null,
            "min_width": null,
            "object_fit": null,
            "object_position": null,
            "order": null,
            "overflow": null,
            "overflow_x": null,
            "overflow_y": null,
            "padding": null,
            "right": null,
            "top": null,
            "visibility": null,
            "width": null
          }
        },
        "21a036667a9a4829800f5ef51eac6a15": {
          "model_module": "@jupyter-widgets/controls",
          "model_name": "ProgressStyleModel",
          "model_module_version": "1.5.0",
          "state": {
            "_model_module": "@jupyter-widgets/controls",
            "_model_module_version": "1.5.0",
            "_model_name": "ProgressStyleModel",
            "_view_count": null,
            "_view_module": "@jupyter-widgets/base",
            "_view_module_version": "1.2.0",
            "_view_name": "StyleView",
            "bar_color": null,
            "description_width": ""
          }
        },
        "6fb5c390fa2444a5b103ae995bfc9f33": {
          "model_module": "@jupyter-widgets/base",
          "model_name": "LayoutModel",
          "model_module_version": "1.2.0",
          "state": {
            "_model_module": "@jupyter-widgets/base",
            "_model_module_version": "1.2.0",
            "_model_name": "LayoutModel",
            "_view_count": null,
            "_view_module": "@jupyter-widgets/base",
            "_view_module_version": "1.2.0",
            "_view_name": "LayoutView",
            "align_content": null,
            "align_items": null,
            "align_self": null,
            "border": null,
            "bottom": null,
            "display": null,
            "flex": null,
            "flex_flow": null,
            "grid_area": null,
            "grid_auto_columns": null,
            "grid_auto_flow": null,
            "grid_auto_rows": null,
            "grid_column": null,
            "grid_gap": null,
            "grid_row": null,
            "grid_template_areas": null,
            "grid_template_columns": null,
            "grid_template_rows": null,
            "height": null,
            "justify_content": null,
            "justify_items": null,
            "left": null,
            "margin": null,
            "max_height": null,
            "max_width": null,
            "min_height": null,
            "min_width": null,
            "object_fit": null,
            "object_position": null,
            "order": null,
            "overflow": null,
            "overflow_x": null,
            "overflow_y": null,
            "padding": null,
            "right": null,
            "top": null,
            "visibility": null,
            "width": null
          }
        },
        "d589757fceff4d418017b4679e00711a": {
          "model_module": "@jupyter-widgets/controls",
          "model_name": "DescriptionStyleModel",
          "model_module_version": "1.5.0",
          "state": {
            "_model_module": "@jupyter-widgets/controls",
            "_model_module_version": "1.5.0",
            "_model_name": "DescriptionStyleModel",
            "_view_count": null,
            "_view_module": "@jupyter-widgets/base",
            "_view_module_version": "1.2.0",
            "_view_name": "StyleView",
            "description_width": ""
          }
        },
        "d480e45ea464456988ee508d6f97ea48": {
          "model_module": "@jupyter-widgets/controls",
          "model_name": "HBoxModel",
          "model_module_version": "1.5.0",
          "state": {
            "_dom_classes": [],
            "_model_module": "@jupyter-widgets/controls",
            "_model_module_version": "1.5.0",
            "_model_name": "HBoxModel",
            "_view_count": null,
            "_view_module": "@jupyter-widgets/controls",
            "_view_module_version": "1.5.0",
            "_view_name": "HBoxView",
            "box_style": "",
            "children": [
              "IPY_MODEL_468e37b7bfd14b3984f9eb08275ae8e7",
              "IPY_MODEL_f8f4430f4f5d4536a6c4a0a760ca0ebb",
              "IPY_MODEL_706e04f6169f40c3b1dd229044430b6c"
            ],
            "layout": "IPY_MODEL_739da4a6e0fe4267a2ab820586f63cbe"
          }
        },
        "468e37b7bfd14b3984f9eb08275ae8e7": {
          "model_module": "@jupyter-widgets/controls",
          "model_name": "HTMLModel",
          "model_module_version": "1.5.0",
          "state": {
            "_dom_classes": [],
            "_model_module": "@jupyter-widgets/controls",
            "_model_module_version": "1.5.0",
            "_model_name": "HTMLModel",
            "_view_count": null,
            "_view_module": "@jupyter-widgets/controls",
            "_view_module_version": "1.5.0",
            "_view_name": "HTMLView",
            "description": "",
            "description_tooltip": null,
            "layout": "IPY_MODEL_93afd672bd474a0eac047fa3de06c495",
            "placeholder": "​",
            "style": "IPY_MODEL_c547ea87392841f3a7ba47873c1f6dd1",
            "value": "tokenizer.json: 100%"
          }
        },
        "f8f4430f4f5d4536a6c4a0a760ca0ebb": {
          "model_module": "@jupyter-widgets/controls",
          "model_name": "FloatProgressModel",
          "model_module_version": "1.5.0",
          "state": {
            "_dom_classes": [],
            "_model_module": "@jupyter-widgets/controls",
            "_model_module_version": "1.5.0",
            "_model_name": "FloatProgressModel",
            "_view_count": null,
            "_view_module": "@jupyter-widgets/controls",
            "_view_module_version": "1.5.0",
            "_view_name": "ProgressView",
            "bar_style": "success",
            "description": "",
            "description_tooltip": null,
            "layout": "IPY_MODEL_dc91329964ee4d82a6d5edf03c4c51fa",
            "max": 1961828,
            "min": 0,
            "orientation": "horizontal",
            "style": "IPY_MODEL_b04373b2bd1c4964ad53268832d03822",
            "value": 1961828
          }
        },
        "706e04f6169f40c3b1dd229044430b6c": {
          "model_module": "@jupyter-widgets/controls",
          "model_name": "HTMLModel",
          "model_module_version": "1.5.0",
          "state": {
            "_dom_classes": [],
            "_model_module": "@jupyter-widgets/controls",
            "_model_module_version": "1.5.0",
            "_model_name": "HTMLModel",
            "_view_count": null,
            "_view_module": "@jupyter-widgets/controls",
            "_view_module_version": "1.5.0",
            "_view_name": "HTMLView",
            "description": "",
            "description_tooltip": null,
            "layout": "IPY_MODEL_19f8837b830d43feaff0e9ed07e1e4a8",
            "placeholder": "​",
            "style": "IPY_MODEL_cb021c7b797444578c25cb4c0e4730f1",
            "value": " 1.96M/1.96M [00:00&lt;00:00, 21.6MB/s]"
          }
        },
        "739da4a6e0fe4267a2ab820586f63cbe": {
          "model_module": "@jupyter-widgets/base",
          "model_name": "LayoutModel",
          "model_module_version": "1.2.0",
          "state": {
            "_model_module": "@jupyter-widgets/base",
            "_model_module_version": "1.2.0",
            "_model_name": "LayoutModel",
            "_view_count": null,
            "_view_module": "@jupyter-widgets/base",
            "_view_module_version": "1.2.0",
            "_view_name": "LayoutView",
            "align_content": null,
            "align_items": null,
            "align_self": null,
            "border": null,
            "bottom": null,
            "display": null,
            "flex": null,
            "flex_flow": null,
            "grid_area": null,
            "grid_auto_columns": null,
            "grid_auto_flow": null,
            "grid_auto_rows": null,
            "grid_column": null,
            "grid_gap": null,
            "grid_row": null,
            "grid_template_areas": null,
            "grid_template_columns": null,
            "grid_template_rows": null,
            "height": null,
            "justify_content": null,
            "justify_items": null,
            "left": null,
            "margin": null,
            "max_height": null,
            "max_width": null,
            "min_height": null,
            "min_width": null,
            "object_fit": null,
            "object_position": null,
            "order": null,
            "overflow": null,
            "overflow_x": null,
            "overflow_y": null,
            "padding": null,
            "right": null,
            "top": null,
            "visibility": null,
            "width": null
          }
        },
        "93afd672bd474a0eac047fa3de06c495": {
          "model_module": "@jupyter-widgets/base",
          "model_name": "LayoutModel",
          "model_module_version": "1.2.0",
          "state": {
            "_model_module": "@jupyter-widgets/base",
            "_model_module_version": "1.2.0",
            "_model_name": "LayoutModel",
            "_view_count": null,
            "_view_module": "@jupyter-widgets/base",
            "_view_module_version": "1.2.0",
            "_view_name": "LayoutView",
            "align_content": null,
            "align_items": null,
            "align_self": null,
            "border": null,
            "bottom": null,
            "display": null,
            "flex": null,
            "flex_flow": null,
            "grid_area": null,
            "grid_auto_columns": null,
            "grid_auto_flow": null,
            "grid_auto_rows": null,
            "grid_column": null,
            "grid_gap": null,
            "grid_row": null,
            "grid_template_areas": null,
            "grid_template_columns": null,
            "grid_template_rows": null,
            "height": null,
            "justify_content": null,
            "justify_items": null,
            "left": null,
            "margin": null,
            "max_height": null,
            "max_width": null,
            "min_height": null,
            "min_width": null,
            "object_fit": null,
            "object_position": null,
            "order": null,
            "overflow": null,
            "overflow_x": null,
            "overflow_y": null,
            "padding": null,
            "right": null,
            "top": null,
            "visibility": null,
            "width": null
          }
        },
        "c547ea87392841f3a7ba47873c1f6dd1": {
          "model_module": "@jupyter-widgets/controls",
          "model_name": "DescriptionStyleModel",
          "model_module_version": "1.5.0",
          "state": {
            "_model_module": "@jupyter-widgets/controls",
            "_model_module_version": "1.5.0",
            "_model_name": "DescriptionStyleModel",
            "_view_count": null,
            "_view_module": "@jupyter-widgets/base",
            "_view_module_version": "1.2.0",
            "_view_name": "StyleView",
            "description_width": ""
          }
        },
        "dc91329964ee4d82a6d5edf03c4c51fa": {
          "model_module": "@jupyter-widgets/base",
          "model_name": "LayoutModel",
          "model_module_version": "1.2.0",
          "state": {
            "_model_module": "@jupyter-widgets/base",
            "_model_module_version": "1.2.0",
            "_model_name": "LayoutModel",
            "_view_count": null,
            "_view_module": "@jupyter-widgets/base",
            "_view_module_version": "1.2.0",
            "_view_name": "LayoutView",
            "align_content": null,
            "align_items": null,
            "align_self": null,
            "border": null,
            "bottom": null,
            "display": null,
            "flex": null,
            "flex_flow": null,
            "grid_area": null,
            "grid_auto_columns": null,
            "grid_auto_flow": null,
            "grid_auto_rows": null,
            "grid_column": null,
            "grid_gap": null,
            "grid_row": null,
            "grid_template_areas": null,
            "grid_template_columns": null,
            "grid_template_rows": null,
            "height": null,
            "justify_content": null,
            "justify_items": null,
            "left": null,
            "margin": null,
            "max_height": null,
            "max_width": null,
            "min_height": null,
            "min_width": null,
            "object_fit": null,
            "object_position": null,
            "order": null,
            "overflow": null,
            "overflow_x": null,
            "overflow_y": null,
            "padding": null,
            "right": null,
            "top": null,
            "visibility": null,
            "width": null
          }
        },
        "b04373b2bd1c4964ad53268832d03822": {
          "model_module": "@jupyter-widgets/controls",
          "model_name": "ProgressStyleModel",
          "model_module_version": "1.5.0",
          "state": {
            "_model_module": "@jupyter-widgets/controls",
            "_model_module_version": "1.5.0",
            "_model_name": "ProgressStyleModel",
            "_view_count": null,
            "_view_module": "@jupyter-widgets/base",
            "_view_module_version": "1.2.0",
            "_view_name": "StyleView",
            "bar_color": null,
            "description_width": ""
          }
        },
        "19f8837b830d43feaff0e9ed07e1e4a8": {
          "model_module": "@jupyter-widgets/base",
          "model_name": "LayoutModel",
          "model_module_version": "1.2.0",
          "state": {
            "_model_module": "@jupyter-widgets/base",
            "_model_module_version": "1.2.0",
            "_model_name": "LayoutModel",
            "_view_count": null,
            "_view_module": "@jupyter-widgets/base",
            "_view_module_version": "1.2.0",
            "_view_name": "LayoutView",
            "align_content": null,
            "align_items": null,
            "align_self": null,
            "border": null,
            "bottom": null,
            "display": null,
            "flex": null,
            "flex_flow": null,
            "grid_area": null,
            "grid_auto_columns": null,
            "grid_auto_flow": null,
            "grid_auto_rows": null,
            "grid_column": null,
            "grid_gap": null,
            "grid_row": null,
            "grid_template_areas": null,
            "grid_template_columns": null,
            "grid_template_rows": null,
            "height": null,
            "justify_content": null,
            "justify_items": null,
            "left": null,
            "margin": null,
            "max_height": null,
            "max_width": null,
            "min_height": null,
            "min_width": null,
            "object_fit": null,
            "object_position": null,
            "order": null,
            "overflow": null,
            "overflow_x": null,
            "overflow_y": null,
            "padding": null,
            "right": null,
            "top": null,
            "visibility": null,
            "width": null
          }
        },
        "cb021c7b797444578c25cb4c0e4730f1": {
          "model_module": "@jupyter-widgets/controls",
          "model_name": "DescriptionStyleModel",
          "model_module_version": "1.5.0",
          "state": {
            "_model_module": "@jupyter-widgets/controls",
            "_model_module_version": "1.5.0",
            "_model_name": "DescriptionStyleModel",
            "_view_count": null,
            "_view_module": "@jupyter-widgets/base",
            "_view_module_version": "1.2.0",
            "_view_name": "StyleView",
            "description_width": ""
          }
        },
        "d55221f7b7ee45cf84afb62da5b641a9": {
          "model_module": "@jupyter-widgets/controls",
          "model_name": "HBoxModel",
          "model_module_version": "1.5.0",
          "state": {
            "_dom_classes": [],
            "_model_module": "@jupyter-widgets/controls",
            "_model_module_version": "1.5.0",
            "_model_name": "HBoxModel",
            "_view_count": null,
            "_view_module": "@jupyter-widgets/controls",
            "_view_module_version": "1.5.0",
            "_view_name": "HBoxView",
            "box_style": "",
            "children": [
              "IPY_MODEL_81b670dcd7104f528bfb5ce67dc02148",
              "IPY_MODEL_73178eefdb364abba80d8a82828dda51",
              "IPY_MODEL_e03dee37e3ce486db3e289d3d2a271b6"
            ],
            "layout": "IPY_MODEL_2cdd05f6b83d439a983f60457a6138ab"
          }
        },
        "81b670dcd7104f528bfb5ce67dc02148": {
          "model_module": "@jupyter-widgets/controls",
          "model_name": "HTMLModel",
          "model_module_version": "1.5.0",
          "state": {
            "_dom_classes": [],
            "_model_module": "@jupyter-widgets/controls",
            "_model_module_version": "1.5.0",
            "_model_name": "HTMLModel",
            "_view_count": null,
            "_view_module": "@jupyter-widgets/controls",
            "_view_module_version": "1.5.0",
            "_view_name": "HTMLView",
            "description": "",
            "description_tooltip": null,
            "layout": "IPY_MODEL_732d107c99ea4e29a4f8525c35227961",
            "placeholder": "​",
            "style": "IPY_MODEL_65aa4f76f69e4dbba46be7ccf4024458",
            "value": "config.json: 100%"
          }
        },
        "73178eefdb364abba80d8a82828dda51": {
          "model_module": "@jupyter-widgets/controls",
          "model_name": "FloatProgressModel",
          "model_module_version": "1.5.0",
          "state": {
            "_dom_classes": [],
            "_model_module": "@jupyter-widgets/controls",
            "_model_module_version": "1.5.0",
            "_model_name": "FloatProgressModel",
            "_view_count": null,
            "_view_module": "@jupyter-widgets/controls",
            "_view_module_version": "1.5.0",
            "_view_name": "ProgressView",
            "bar_style": "success",
            "description": "",
            "description_tooltip": null,
            "layout": "IPY_MODEL_c2b84f1de03f4de89fe5722212ac8c77",
            "max": 466,
            "min": 0,
            "orientation": "horizontal",
            "style": "IPY_MODEL_5281bfba29f5481892de1b4deb2a6cae",
            "value": 466
          }
        },
        "e03dee37e3ce486db3e289d3d2a271b6": {
          "model_module": "@jupyter-widgets/controls",
          "model_name": "HTMLModel",
          "model_module_version": "1.5.0",
          "state": {
            "_dom_classes": [],
            "_model_module": "@jupyter-widgets/controls",
            "_model_module_version": "1.5.0",
            "_model_name": "HTMLModel",
            "_view_count": null,
            "_view_module": "@jupyter-widgets/controls",
            "_view_module_version": "1.5.0",
            "_view_name": "HTMLView",
            "description": "",
            "description_tooltip": null,
            "layout": "IPY_MODEL_760f4e07dd4542c6b6563db5ad588408",
            "placeholder": "​",
            "style": "IPY_MODEL_78228aeb861144a78b011ed52bfd7632",
            "value": " 466/466 [00:00&lt;00:00, 25.8kB/s]"
          }
        },
        "2cdd05f6b83d439a983f60457a6138ab": {
          "model_module": "@jupyter-widgets/base",
          "model_name": "LayoutModel",
          "model_module_version": "1.2.0",
          "state": {
            "_model_module": "@jupyter-widgets/base",
            "_model_module_version": "1.2.0",
            "_model_name": "LayoutModel",
            "_view_count": null,
            "_view_module": "@jupyter-widgets/base",
            "_view_module_version": "1.2.0",
            "_view_name": "LayoutView",
            "align_content": null,
            "align_items": null,
            "align_self": null,
            "border": null,
            "bottom": null,
            "display": null,
            "flex": null,
            "flex_flow": null,
            "grid_area": null,
            "grid_auto_columns": null,
            "grid_auto_flow": null,
            "grid_auto_rows": null,
            "grid_column": null,
            "grid_gap": null,
            "grid_row": null,
            "grid_template_areas": null,
            "grid_template_columns": null,
            "grid_template_rows": null,
            "height": null,
            "justify_content": null,
            "justify_items": null,
            "left": null,
            "margin": null,
            "max_height": null,
            "max_width": null,
            "min_height": null,
            "min_width": null,
            "object_fit": null,
            "object_position": null,
            "order": null,
            "overflow": null,
            "overflow_x": null,
            "overflow_y": null,
            "padding": null,
            "right": null,
            "top": null,
            "visibility": null,
            "width": null
          }
        },
        "732d107c99ea4e29a4f8525c35227961": {
          "model_module": "@jupyter-widgets/base",
          "model_name": "LayoutModel",
          "model_module_version": "1.2.0",
          "state": {
            "_model_module": "@jupyter-widgets/base",
            "_model_module_version": "1.2.0",
            "_model_name": "LayoutModel",
            "_view_count": null,
            "_view_module": "@jupyter-widgets/base",
            "_view_module_version": "1.2.0",
            "_view_name": "LayoutView",
            "align_content": null,
            "align_items": null,
            "align_self": null,
            "border": null,
            "bottom": null,
            "display": null,
            "flex": null,
            "flex_flow": null,
            "grid_area": null,
            "grid_auto_columns": null,
            "grid_auto_flow": null,
            "grid_auto_rows": null,
            "grid_column": null,
            "grid_gap": null,
            "grid_row": null,
            "grid_template_areas": null,
            "grid_template_columns": null,
            "grid_template_rows": null,
            "height": null,
            "justify_content": null,
            "justify_items": null,
            "left": null,
            "margin": null,
            "max_height": null,
            "max_width": null,
            "min_height": null,
            "min_width": null,
            "object_fit": null,
            "object_position": null,
            "order": null,
            "overflow": null,
            "overflow_x": null,
            "overflow_y": null,
            "padding": null,
            "right": null,
            "top": null,
            "visibility": null,
            "width": null
          }
        },
        "65aa4f76f69e4dbba46be7ccf4024458": {
          "model_module": "@jupyter-widgets/controls",
          "model_name": "DescriptionStyleModel",
          "model_module_version": "1.5.0",
          "state": {
            "_model_module": "@jupyter-widgets/controls",
            "_model_module_version": "1.5.0",
            "_model_name": "DescriptionStyleModel",
            "_view_count": null,
            "_view_module": "@jupyter-widgets/base",
            "_view_module_version": "1.2.0",
            "_view_name": "StyleView",
            "description_width": ""
          }
        },
        "c2b84f1de03f4de89fe5722212ac8c77": {
          "model_module": "@jupyter-widgets/base",
          "model_name": "LayoutModel",
          "model_module_version": "1.2.0",
          "state": {
            "_model_module": "@jupyter-widgets/base",
            "_model_module_version": "1.2.0",
            "_model_name": "LayoutModel",
            "_view_count": null,
            "_view_module": "@jupyter-widgets/base",
            "_view_module_version": "1.2.0",
            "_view_name": "LayoutView",
            "align_content": null,
            "align_items": null,
            "align_self": null,
            "border": null,
            "bottom": null,
            "display": null,
            "flex": null,
            "flex_flow": null,
            "grid_area": null,
            "grid_auto_columns": null,
            "grid_auto_flow": null,
            "grid_auto_rows": null,
            "grid_column": null,
            "grid_gap": null,
            "grid_row": null,
            "grid_template_areas": null,
            "grid_template_columns": null,
            "grid_template_rows": null,
            "height": null,
            "justify_content": null,
            "justify_items": null,
            "left": null,
            "margin": null,
            "max_height": null,
            "max_width": null,
            "min_height": null,
            "min_width": null,
            "object_fit": null,
            "object_position": null,
            "order": null,
            "overflow": null,
            "overflow_x": null,
            "overflow_y": null,
            "padding": null,
            "right": null,
            "top": null,
            "visibility": null,
            "width": null
          }
        },
        "5281bfba29f5481892de1b4deb2a6cae": {
          "model_module": "@jupyter-widgets/controls",
          "model_name": "ProgressStyleModel",
          "model_module_version": "1.5.0",
          "state": {
            "_model_module": "@jupyter-widgets/controls",
            "_model_module_version": "1.5.0",
            "_model_name": "ProgressStyleModel",
            "_view_count": null,
            "_view_module": "@jupyter-widgets/base",
            "_view_module_version": "1.2.0",
            "_view_name": "StyleView",
            "bar_color": null,
            "description_width": ""
          }
        },
        "760f4e07dd4542c6b6563db5ad588408": {
          "model_module": "@jupyter-widgets/base",
          "model_name": "LayoutModel",
          "model_module_version": "1.2.0",
          "state": {
            "_model_module": "@jupyter-widgets/base",
            "_model_module_version": "1.2.0",
            "_model_name": "LayoutModel",
            "_view_count": null,
            "_view_module": "@jupyter-widgets/base",
            "_view_module_version": "1.2.0",
            "_view_name": "LayoutView",
            "align_content": null,
            "align_items": null,
            "align_self": null,
            "border": null,
            "bottom": null,
            "display": null,
            "flex": null,
            "flex_flow": null,
            "grid_area": null,
            "grid_auto_columns": null,
            "grid_auto_flow": null,
            "grid_auto_rows": null,
            "grid_column": null,
            "grid_gap": null,
            "grid_row": null,
            "grid_template_areas": null,
            "grid_template_columns": null,
            "grid_template_rows": null,
            "height": null,
            "justify_content": null,
            "justify_items": null,
            "left": null,
            "margin": null,
            "max_height": null,
            "max_width": null,
            "min_height": null,
            "min_width": null,
            "object_fit": null,
            "object_position": null,
            "order": null,
            "overflow": null,
            "overflow_x": null,
            "overflow_y": null,
            "padding": null,
            "right": null,
            "top": null,
            "visibility": null,
            "width": null
          }
        },
        "78228aeb861144a78b011ed52bfd7632": {
          "model_module": "@jupyter-widgets/controls",
          "model_name": "DescriptionStyleModel",
          "model_module_version": "1.5.0",
          "state": {
            "_model_module": "@jupyter-widgets/controls",
            "_model_module_version": "1.5.0",
            "_model_name": "DescriptionStyleModel",
            "_view_count": null,
            "_view_module": "@jupyter-widgets/base",
            "_view_module_version": "1.2.0",
            "_view_name": "StyleView",
            "description_width": ""
          }
        }
      }
    }
  },
  "nbformat": 4,
  "nbformat_minor": 5
}